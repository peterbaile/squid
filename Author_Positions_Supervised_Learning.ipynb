{
  "nbformat": 4,
  "nbformat_minor": 0,
  "metadata": {
    "colab": {
      "name": "Author_Positions_Supervised_Learning.ipynb",
      "provenance": [],
      "collapsed_sections": []
    },
    "kernelspec": {
      "display_name": "Python 3",
      "name": "python3"
    }
  },
  "cells": [
    {
      "cell_type": "markdown",
      "metadata": {
        "id": "KFIREjhtQYDA"
      },
      "source": [
        "# Overview\n",
        "\n",
        "This notebook trains 5 models using *author positions* as the feature, including 1 regression model (Ridge Regression) and 4 classification models (Logistic Classification, Decision Tree, Adaboost, and SVM).\n",
        "\n",
        "We first start with the preprocessing steps of loading the dataframes and transforming certain columns so they can be used directly.\n",
        "\n",
        "Then, we proceed to model trainings and interpreting variable importances."
      ]
    },
    {
      "cell_type": "markdown",
      "metadata": {
        "id": "VWbKmUBi8x2T"
      },
      "source": [
        "# Preprocessing"
      ]
    },
    {
      "cell_type": "code",
      "metadata": {
        "id": "ei1-WBlUSN2I"
      },
      "source": [
        "# load imports\n",
        "import numpy as np\n",
        "import pandas as pd\n",
        "from datetime import datetime, timedelta\n",
        "from dateutil.relativedelta import *\n",
        "import plotly.express as px\n",
        "from sklearn.utils import resample\n",
        "from sklearn.feature_extraction.text import CountVectorizer, TfidfVectorizer\n",
        "import json\n",
        "import matplotlib.pyplot as plt"
      ],
      "execution_count": null,
      "outputs": []
    },
    {
      "cell_type": "code",
      "metadata": {
        "id": "BkVGgclb53t7"
      },
      "source": [
        "# load data sets\n",
        "\n",
        "train_df = pd.read_csv('drive/MyDrive/CIS520 Project/data set/train_name_pos_tag.csv')\n",
        "test_df = pd.read_csv('drive/MyDrive/CIS520 Project/data set/test_name_pos_tag.csv')\n",
        "test_df_upsampled = pd.read_csv('drive/MyDrive/CIS520 Project/data set/test_df_upsampled.csv')\n",
        "\n",
        "\n",
        "# parse authors, tags, and author positions columns from JSON string to lists\n",
        "def parse_json(df):\n",
        "  df['authors'] = df['authors'].apply(lambda x : json.loads(x))\n",
        "  df['tags'] = df['tags'].apply(lambda x : json.loads(x))\n",
        "  df['author_positions'] = df['author_positions'].apply(lambda x : json.loads(x))\n",
        "  return df\n",
        "\n",
        "train_df = parse_json(train_df)\n",
        "test_df = parse_json(test_df)\n",
        "test_df_upsampled = parse_json(test_df_upsampled)"
      ],
      "execution_count": null,
      "outputs": []
    },
    {
      "cell_type": "code",
      "metadata": {
        "id": "WNn94ow_Ic2e"
      },
      "source": [
        "# combine the list of author names, tags and author positions into\n",
        "# a comma separted string\n",
        "\n",
        "def transform_meta(df):\n",
        "  cols = ['authors', 'tags', 'author_positions']\n",
        "  for col in cols:\n",
        "    df[col] = df[col].apply(lambda x : ', '.join(x))\n",
        "  \n",
        "  return df\n",
        "\n",
        "train_df = transform_meta(train_df)\n",
        "test_df = transform_meta(test_df)\n",
        "test_df_upsampled = transform_meta(test_df_upsampled)"
      ],
      "execution_count": null,
      "outputs": []
    },
    {
      "cell_type": "code",
      "metadata": {
        "id": "117d4yPklxeV"
      },
      "source": [
        "# get quintiles for train data\n",
        "train_df['quintile'] = pd.cut(train_df['percentile'], [0, 0.2, 0.4, 0.6, 0.8, 1], labels = [1,2,3,4,5])\n",
        "# get quintiles for the test data\n",
        "test_df['quintile'] = pd.cut(test_df['percentile'], [0, 0.2, 0.4, 0.6, 0.8, 1], labels = [1,2,3,4,5])\n",
        "\n",
        "# Get top 25% vs bottom 75%\n",
        "train_df['top25pct'] = (train_df['percentile'] >= 0.75).astype(int)\n",
        "test_df['top25pct'] = (test_df['percentile'] >= 0.75).astype(int)\n",
        "\n",
        "train_df['published_date'] = train_df['published_date'].apply(lambda x: datetime.strptime(x, '%Y-%m-%d %H:%M:%S'))\n",
        "test_df['published_date'] = test_df['published_date'].apply(lambda x: datetime.strptime(x, '%Y-%m-%d %H:%M:%S'))"
      ],
      "execution_count": null,
      "outputs": []
    },
    {
      "cell_type": "code",
      "metadata": {
        "id": "Tsc7-EfaLClB"
      },
      "source": [
        "# Returns the training and test data within the window\n",
        "def get_window(train_df, test_df, date_start, months):\n",
        "  date_end = date_start + relativedelta(months = +months)\n",
        "  train_window = train_df.loc[(train_df['published_date'] >= date_start) & (train_df['published_date'] < date_end), :]\n",
        "  test_window = test_df.loc[(test_df['published_date'] >= date_start) & (test_df['published_date'] < date_end), :]\n",
        "  return train_window, test_window"
      ],
      "execution_count": null,
      "outputs": []
    },
    {
      "cell_type": "code",
      "metadata": {
        "id": "TwK54abNdyyd"
      },
      "source": [
        "def upsample_minority(df):\r\n",
        "\r\n",
        "  # Upsample minority class in both the training and test data\r\n",
        "  df_majority = df.loc[df['top25pct'] == 0, :]\r\n",
        "  df_minority = df.loc[df['top25pct'] == 1, :]\r\n",
        "  df_minority_upsampled = resample(df_minority, replace = True, n_samples = len(df_majority), random_state = 42)\r\n",
        "\r\n",
        "  # Combine together to get the upsampled training data\r\n",
        "  df = pd.concat([df_majority, df_minority_upsampled])\r\n",
        "\r\n",
        "  return df"
      ],
      "execution_count": null,
      "outputs": []
    },
    {
      "cell_type": "markdown",
      "metadata": {
        "id": "kTnONzK7zBeB"
      },
      "source": [
        "**Count Vectorization of Words**"
      ]
    },
    {
      "cell_type": "code",
      "metadata": {
        "id": "_ehOEBSbYuKY"
      },
      "source": [
        "# Input: train, test dataframe, feature\n",
        "# Output: train_titles, test_titles vectorized matrix (#doc x #words)\n",
        "def convert_text_to_vectors(train_data, test_data, max_words = 2000, use_tfidf = False):\n",
        "\n",
        "  # Doing the Vectorization of the text\n",
        "  if use_tfidf == False:\n",
        "    vectorizer = CountVectorizer(stop_words='english', max_features = max_words)\n",
        "  else:\n",
        "    vectorizer = TfidfVectorizer(stop_words = 'english', max_features = max_words)\n",
        "\n",
        "  # tokenize and build vocab\n",
        "  vectorizer.fit(train_data['author_positions'])\n",
        "\n",
        "  # transform text columns\n",
        "  X_train = vectorizer.transform(train_data['author_positions']).toarray()\n",
        "  X_test = vectorizer.transform(test_data['author_positions']).toarray()\n",
        "\n",
        "  return X_train, X_test, vectorizer"
      ],
      "execution_count": null,
      "outputs": []
    },
    {
      "cell_type": "markdown",
      "metadata": {
        "id": "PeOcb80OwP9X"
      },
      "source": [
        "# Model Trainings"
      ]
    },
    {
      "cell_type": "markdown",
      "metadata": {
        "id": "T3s27st6TH9-"
      },
      "source": [
        "## Ridge Regression\r\n",
        "\r\n",
        "Regression model on percentiles"
      ]
    },
    {
      "cell_type": "code",
      "metadata": {
        "id": "REEgJ-3W17GE"
      },
      "source": [
        "from sklearn.linear_model import Ridge\r\n",
        "from sklearn.model_selection import cross_val_score\r\n",
        "from sklearn.metrics import accuracy_score, confusion_matrix, mean_squared_error, mean_absolute_error"
      ],
      "execution_count": null,
      "outputs": []
    },
    {
      "cell_type": "code",
      "metadata": {
        "id": "o3blcPsYU6e9"
      },
      "source": [
        "# Create and fit model\n",
        "\n",
        "def train_ridge(X_train, X_test, y_train, y_test, alpha = 1):\n",
        "  reg = Ridge(alpha = alpha)\n",
        "  reg.fit(X_train, y_train)\n",
        "  y_train_pred = reg.predict(X_train)\n",
        "\n",
        "  # Training MSE and MAE\n",
        "  rmse = mean_squared_error(y_train, y_train_pred) ** 0.5\n",
        "  mae = mean_absolute_error(y_train, y_train_pred)\n",
        "\n",
        "  print('Training RMSE: {}, MAE: {}'.format(rmse , mae))\n",
        "\n",
        "  # Fit on test data\n",
        "  y_test_pred = reg.predict(X_test)\n",
        "  \n",
        "  # Training MSE and MAE\n",
        "  rmse = mean_squared_error(y_test, y_test_pred) ** 0.5\n",
        "  mae = mean_absolute_error(y_test, y_test_pred)\n",
        "  print('Test RMSE: {}, MAE: {}'.format(rmse , mae))\n",
        "\n",
        "  return y_train_pred, y_test_pred, reg"
      ],
      "execution_count": null,
      "outputs": []
    },
    {
      "cell_type": "code",
      "metadata": {
        "id": "86WYKYDQ5NaI"
      },
      "source": [
        "# Variable Importance\r\n",
        "\r\n",
        "def get_variable_importance(reg, vectorizer, X_train_titles):\r\n",
        "\r\n",
        "  reg_coefs = reg.coef_\r\n",
        "  vectorizer_words = vectorizer.get_feature_names()\r\n",
        "\r\n",
        "  word_coefs = {}\r\n",
        "  for word, coef in zip(vectorizer_words, reg_coefs):\r\n",
        "    word_coefs.update({word:coef})\r\n",
        "\r\n",
        "  # Word Frequency\r\n",
        "  word_freq = np.sum(X_train_titles, axis = 0)\r\n",
        "\r\n",
        "  # Number of articles the word appeared in\r\n",
        "  word_num_articles = np.sum((X_train_titles > 0).astype(int), axis = 0)\r\n",
        "\r\n",
        "  # Store the top words in a dataframe\r\n",
        "  word_coefs_df = pd.DataFrame({'Word': vectorizer_words, 'Frequency': word_freq, 'Articles': word_num_articles, 'Coef': reg_coefs}).sort_values('Coef', ascending = False).reset_index(drop = True)\r\n",
        "\r\n",
        "  return word_coefs_df"
      ],
      "execution_count": null,
      "outputs": []
    },
    {
      "cell_type": "code",
      "metadata": {
        "colab": {
          "base_uri": "https://localhost:8080/"
        },
        "id": "NQrjcy56ZtKh",
        "outputId": "4197ccc9-91d9-4dbd-e627-d0cf2e5658c6"
      },
      "source": [
        "# Run Model on All\r\n",
        "\r\n",
        "# Vectorize words\r\n",
        "X_train, X_test, vec = convert_text_to_vectors(train_df, test_df_upsampled, max_words = 2000, use_tfidf = False)\r\n",
        "y_percentiles_train = train_df['percentile']\r\n",
        "y_percentiles_test = test_df_upsampled['percentile']\r\n",
        "\r\n",
        "# Train ridge regression\r\n",
        "y_train_pred, y_test_pred, reg = train_ridge(X_train, X_test, y_percentiles_train, y_percentiles_test, alpha = 20)\r\n",
        "\r\n",
        "# Get the variable importance coefs\r\n",
        "word_coefs_df = get_variable_importance(reg, vec, X_train)\r\n",
        "\r\n",
        "# Only choose words appearing more than 50 times\r\n",
        "word_coefs_df_top = word_coefs_df.loc[word_coefs_df['Frequency'] > 50, :]\r\n",
        "\r\n",
        "word_coefs_df_top = word_coefs_df_top.reset_index(drop = True)"
      ],
      "execution_count": null,
      "outputs": [
        {
          "output_type": "stream",
          "text": [
            "Training RMSE: 0.2639211065029503, MAE: 0.22401094025464482\n",
            "Test RMSE: 0.28574421834053254, MAE: 0.2506899873974911\n"
          ],
          "name": "stdout"
        }
      ]
    },
    {
      "cell_type": "code",
      "metadata": {
        "colab": {
          "base_uri": "https://localhost:8080/",
          "height": 419
        },
        "id": "wIvwUqg4oN7d",
        "outputId": "1536db52-2898-4802-a7cb-53baece453a6"
      },
      "source": [
        "word_coefs_df_top"
      ],
      "execution_count": null,
      "outputs": [
        {
          "output_type": "execute_result",
          "data": {
            "text/html": [
              "<div>\n",
              "<style scoped>\n",
              "    .dataframe tbody tr th:only-of-type {\n",
              "        vertical-align: middle;\n",
              "    }\n",
              "\n",
              "    .dataframe tbody tr th {\n",
              "        vertical-align: top;\n",
              "    }\n",
              "\n",
              "    .dataframe thead th {\n",
              "        text-align: right;\n",
              "    }\n",
              "</style>\n",
              "<table border=\"1\" class=\"dataframe\">\n",
              "  <thead>\n",
              "    <tr style=\"text-align: right;\">\n",
              "      <th></th>\n",
              "      <th>Word</th>\n",
              "      <th>Frequency</th>\n",
              "      <th>Articles</th>\n",
              "      <th>Coef</th>\n",
              "    </tr>\n",
              "  </thead>\n",
              "  <tbody>\n",
              "    <tr>\n",
              "      <th>0</th>\n",
              "      <td>board</td>\n",
              "      <td>1379</td>\n",
              "      <td>1175</td>\n",
              "      <td>0.174439</td>\n",
              "    </tr>\n",
              "    <tr>\n",
              "      <th>1</th>\n",
              "      <td>columnist</td>\n",
              "      <td>1874</td>\n",
              "      <td>1282</td>\n",
              "      <td>0.120881</td>\n",
              "    </tr>\n",
              "    <tr>\n",
              "      <th>2</th>\n",
              "      <td>staff</td>\n",
              "      <td>367</td>\n",
              "      <td>316</td>\n",
              "      <td>0.075524</td>\n",
              "    </tr>\n",
              "    <tr>\n",
              "      <th>3</th>\n",
              "      <td>advertising</td>\n",
              "      <td>57</td>\n",
              "      <td>48</td>\n",
              "      <td>0.067939</td>\n",
              "    </tr>\n",
              "    <tr>\n",
              "      <th>4</th>\n",
              "      <td>design</td>\n",
              "      <td>524</td>\n",
              "      <td>436</td>\n",
              "      <td>0.049089</td>\n",
              "    </tr>\n",
              "    <tr>\n",
              "      <th>...</th>\n",
              "      <td>...</td>\n",
              "      <td>...</td>\n",
              "      <td>...</td>\n",
              "      <td>...</td>\n",
              "    </tr>\n",
              "    <tr>\n",
              "      <th>56</th>\n",
              "      <td>quit</td>\n",
              "      <td>55</td>\n",
              "      <td>55</td>\n",
              "      <td>-0.053919</td>\n",
              "    </tr>\n",
              "    <tr>\n",
              "      <th>57</th>\n",
              "      <td>dev</td>\n",
              "      <td>137</td>\n",
              "      <td>136</td>\n",
              "      <td>-0.079978</td>\n",
              "    </tr>\n",
              "    <tr>\n",
              "      <th>58</th>\n",
              "      <td>sports</td>\n",
              "      <td>9086</td>\n",
              "      <td>4927</td>\n",
              "      <td>-0.086417</td>\n",
              "    </tr>\n",
              "    <tr>\n",
              "      <th>59</th>\n",
              "      <td>opinion</td>\n",
              "      <td>3354</td>\n",
              "      <td>2384</td>\n",
              "      <td>-0.096136</td>\n",
              "    </tr>\n",
              "    <tr>\n",
              "      <th>60</th>\n",
              "      <td>graphics</td>\n",
              "      <td>92</td>\n",
              "      <td>92</td>\n",
              "      <td>-0.173700</td>\n",
              "    </tr>\n",
              "  </tbody>\n",
              "</table>\n",
              "<p>61 rows × 4 columns</p>\n",
              "</div>"
            ],
            "text/plain": [
              "           Word  Frequency  Articles      Coef\n",
              "0         board       1379      1175  0.174439\n",
              "1     columnist       1874      1282  0.120881\n",
              "2         staff        367       316  0.075524\n",
              "3   advertising         57        48  0.067939\n",
              "4        design        524       436  0.049089\n",
              "..          ...        ...       ...       ...\n",
              "56         quit         55        55 -0.053919\n",
              "57          dev        137       136 -0.079978\n",
              "58       sports       9086      4927 -0.086417\n",
              "59      opinion       3354      2384 -0.096136\n",
              "60     graphics         92        92 -0.173700\n",
              "\n",
              "[61 rows x 4 columns]"
            ]
          },
          "metadata": {
            "tags": []
          },
          "execution_count": 19
        }
      ]
    },
    {
      "cell_type": "code",
      "metadata": {
        "colab": {
          "base_uri": "https://localhost:8080/",
          "height": 458
        },
        "id": "cgnwkufgoKPx",
        "outputId": "74b6abae-be29-4b9a-e4fa-aded53a42aed"
      },
      "source": [
        "fig = plt.figure(figsize = (9, 6))\r\n",
        "\r\n",
        "plt.bar(word_coefs_df_top.iloc[0:15, 0], word_coefs_df_top.iloc[0:15, -1], color = 'green')\r\n",
        "plt.bar(word_coefs_df_top.iloc[-15:, 0], word_coefs_df_top.iloc[-15:, -1], color = 'red')\r\n",
        "fig = plt.xticks(rotation=45, ha=\"right\")\r\n",
        "plt.axhline(y = 0, color = 'black', linewidth = 1)\r\n",
        "plt.xlabel('Author Positions')\r\n",
        "plt.ylabel('Ridge Regression Coefficient')\r\n",
        "plt.title('Variable Importances for Author Positions')"
      ],
      "execution_count": null,
      "outputs": [
        {
          "output_type": "execute_result",
          "data": {
            "text/plain": [
              "Text(0.5, 1.0, 'Variable Importances for Author Positions')"
            ]
          },
          "metadata": {
            "tags": []
          },
          "execution_count": 29
        },
        {
          "output_type": "display_data",
          "data": {
            "image/png": "[encoded data removed]",
            "text/plain": [
              "<Figure size 648x432 with 1 Axes>"
            ]
          },
          "metadata": {
            "tags": [],
            "needs_background": "light"
          }
        }
      ]
    },
    {
      "cell_type": "code",
      "metadata": {
        "id": "CdXzrdW4oGKf"
      },
      "source": [
        ""
      ],
      "execution_count": null,
      "outputs": []
    },
    {
      "cell_type": "code",
      "metadata": {
        "id": "PffrioUX4-A3"
      },
      "source": [
        "# Save the predictions so that it can be used for ensemble\n",
        "test_df_upsampled['ridge_predictions_pos'] = y_test_pred"
      ],
      "execution_count": null,
      "outputs": []
    },
    {
      "cell_type": "markdown",
      "metadata": {
        "id": "Ts1uGpEfaVEE"
      },
      "source": [
        "**Rolling Window Predictions**"
      ]
    },
    {
      "cell_type": "code",
      "metadata": {
        "id": "NGJ_4xpt5NeJ",
        "colab": {
          "base_uri": "https://localhost:8080/"
        },
        "outputId": "8fc36440-a09d-472c-c1e5-f8bb27dee352"
      },
      "source": [
        "# Get a list of start dates\r\n",
        "dates = [datetime.fromtimestamp(e.timestamp()) for e in pd.date_range('2013-01-01','2020-05-02', freq='MS')]\r\n",
        "\r\n",
        "word_coefs_df_all = pd.DataFrame()\r\n",
        "for start_date in dates:\r\n",
        "  print(start_date)\r\n",
        "  \r\n",
        "  # Segment by window\r\n",
        "  train_window, test_window = get_window(train_df, test_df, start_date, 3)\r\n",
        "  \r\n",
        "  # Vectorize words\r\n",
        "  X_train, X_test, vec = convert_text_to_vectors(train_window, test_window, max_words = 2000, use_tfidf = False)\r\n",
        "  \r\n",
        "  y_percentiles_train = train_window['percentile']\r\n",
        "  y_percentiles_test = test_window['percentile']\r\n",
        "  \r\n",
        "  # Train ridge regression\r\n",
        "  y_train_pred, y_test_pred, reg = train_ridge(X_train, X_test, y_percentiles_train, y_percentiles_test, alpha = 20)\r\n",
        "\r\n",
        "  # Get the variable importance coefs\r\n",
        "  word_coefs_df = get_variable_importance(reg, vec, X_train)\r\n",
        "\r\n",
        "  word_coefs_df['Month'] = start_date\r\n",
        "\r\n",
        "  word_coefs_df_all = pd.concat([word_coefs_df_all, word_coefs_df], axis = 0)"
      ],
      "execution_count": null,
      "outputs": [
        {
          "output_type": "stream",
          "text": [
            "2013-01-01 00:00:00\n",
            "Training RMSE: 0.26223462634434735, MAE: 0.22229300764391718\n",
            "Test RMSE: 0.26988658660432785, MAE: 0.2273201395533504\n",
            "2013-02-01 00:00:00\n",
            "Training RMSE: 0.2605868362344168, MAE: 0.22010931184662133\n",
            "Test RMSE: 0.2822099155944005, MAE: 0.24413733648856745\n",
            "2013-03-01 00:00:00\n",
            "Training RMSE: 0.2655987688657741, MAE: 0.22525190827672453\n",
            "Test RMSE: 0.2777642596864968, MAE: 0.2411014805774146\n",
            "2013-04-01 00:00:00\n",
            "Training RMSE: 0.2598338539196564, MAE: 0.21783299293436087\n",
            "Test RMSE: 0.29056181829185523, MAE: 0.25666202444658\n",
            "2013-05-01 00:00:00\n",
            "Training RMSE: 0.25345608012098886, MAE: 0.21387927895276\n",
            "Test RMSE: 0.3281698976742819, MAE: 0.29499110251521427\n",
            "2013-06-01 00:00:00\n",
            "Training RMSE: 0.24122602729425832, MAE: 0.20684378239173454\n",
            "Test RMSE: 0.31002400446827877, MAE: 0.26400634934174033\n",
            "2013-07-01 00:00:00\n",
            "Training RMSE: 0.24685275323993017, MAE: 0.20695628871890048\n",
            "Test RMSE: 0.2644543219902165, MAE: 0.2184928696640795\n",
            "2013-08-01 00:00:00\n",
            "Training RMSE: 0.2560680451843238, MAE: 0.21562978420865853\n",
            "Test RMSE: 0.25335283374949624, MAE: 0.2140367522871341\n",
            "2013-09-01 00:00:00\n",
            "Training RMSE: 0.26120982350031774, MAE: 0.2210859857319817\n",
            "Test RMSE: 0.26531545923568817, MAE: 0.22430491032140568\n",
            "2013-10-01 00:00:00\n",
            "Training RMSE: 0.26575745933641415, MAE: 0.22665097517737842\n",
            "Test RMSE: 0.2697731330389839, MAE: 0.22943644617474707\n",
            "2013-11-01 00:00:00\n",
            "Training RMSE: 0.2603385748957327, MAE: 0.2192491766663886\n",
            "Test RMSE: 0.263027151313606, MAE: 0.22032567174687734\n",
            "2013-12-01 00:00:00\n",
            "Training RMSE: 0.2550786622880114, MAE: 0.21582016538395518\n",
            "Test RMSE: 0.23327726236567667, MAE: 0.19881918792833922\n",
            "2014-01-01 00:00:00\n",
            "Training RMSE: 0.25696203021977, MAE: 0.21567658766722728\n",
            "Test RMSE: 0.24158762363256464, MAE: 0.20115867836235413\n",
            "2014-02-01 00:00:00\n",
            "Training RMSE: 0.25596166865669384, MAE: 0.21453470289044027\n",
            "Test RMSE: 0.23954266588033404, MAE: 0.1968899574846395\n",
            "2014-03-01 00:00:00\n",
            "Training RMSE: 0.25167008767406146, MAE: 0.21202939528419992\n",
            "Test RMSE: 0.25916124544726477, MAE: 0.21302809860072788\n",
            "2014-04-01 00:00:00\n",
            "Training RMSE: 0.25624016745244066, MAE: 0.21477610192357627\n",
            "Test RMSE: 0.2554677671664092, MAE: 0.20659520999540723\n",
            "2014-05-01 00:00:00\n",
            "Training RMSE: 0.26107768757409267, MAE: 0.224579325927337\n",
            "Test RMSE: 0.2591998923006016, MAE: 0.1957022814518437\n",
            "2014-06-01 00:00:00\n",
            "Training RMSE: 0.2674732552577998, MAE: 0.2291342084458245\n",
            "Test RMSE: 0.2440247303123015, MAE: 0.2050845336623056\n",
            "2014-07-01 00:00:00\n",
            "Training RMSE: 0.26117536578446937, MAE: 0.220238430830696\n",
            "Test RMSE: 0.2598915996251475, MAE: 0.22460799106194948\n",
            "2014-08-01 00:00:00\n",
            "Training RMSE: 0.24908490137361727, MAE: 0.20482201187717605\n",
            "Test RMSE: 0.2525312657598566, MAE: 0.2063148379941207\n",
            "2014-09-01 00:00:00\n",
            "Training RMSE: 0.24101412440430228, MAE: 0.19790606492231236\n",
            "Test RMSE: 0.24856947289892467, MAE: 0.2075880537672959\n",
            "2014-10-01 00:00:00\n",
            "Training RMSE: 0.24021713355838242, MAE: 0.19715540111943383\n",
            "Test RMSE: 0.2449644354567849, MAE: 0.2062885109090926\n",
            "2014-11-01 00:00:00\n",
            "Training RMSE: 0.24335242653050837, MAE: 0.20595832325033908\n",
            "Test RMSE: 0.24707299764351048, MAE: 0.2191956031821356\n",
            "2014-12-01 00:00:00\n",
            "Training RMSE: 0.25647299498891957, MAE: 0.2183393289611621\n",
            "Test RMSE: 0.2542610588914169, MAE: 0.22402700990656763\n",
            "2015-01-01 00:00:00\n",
            "Training RMSE: 0.25513671335975013, MAE: 0.2182492266324505\n",
            "Test RMSE: 0.2520172903972312, MAE: 0.2155322283274981\n",
            "2015-02-01 00:00:00\n",
            "Training RMSE: 0.25352737029852845, MAE: 0.21589421793054692\n",
            "Test RMSE: 0.24929026213458977, MAE: 0.21311438531425073\n",
            "2015-03-01 00:00:00\n",
            "Training RMSE: 0.25429908479467167, MAE: 0.21769912020555682\n",
            "Test RMSE: 0.24163580961132466, MAE: 0.2035316113050674\n",
            "2015-04-01 00:00:00\n",
            "Training RMSE: 0.2572167515547458, MAE: 0.22035342819914633\n",
            "Test RMSE: 0.24069198396255106, MAE: 0.2044033416641973\n",
            "2015-05-01 00:00:00\n",
            "Training RMSE: 0.26123311179493036, MAE: 0.22495454543165774\n",
            "Test RMSE: 0.24376560304960276, MAE: 0.1989205780466181\n",
            "2015-06-01 00:00:00\n",
            "Training RMSE: 0.2553991583238262, MAE: 0.2151015902797126\n",
            "Test RMSE: 0.26652655484578236, MAE: 0.22522522992624797\n",
            "2015-07-01 00:00:00\n",
            "Training RMSE: 0.2443398621814348, MAE: 0.206145934129073\n",
            "Test RMSE: 0.26096485038864253, MAE: 0.22153988923499257\n",
            "2015-08-01 00:00:00\n",
            "Training RMSE: 0.25050623705099007, MAE: 0.21255535793353275\n",
            "Test RMSE: 0.26071034561494055, MAE: 0.22205799935130452\n",
            "2015-09-01 00:00:00\n",
            "Training RMSE: 0.2544176771270647, MAE: 0.21585568835127966\n",
            "Test RMSE: 0.251909991296917, MAE: 0.21607233641605764\n",
            "2015-10-01 00:00:00\n",
            "Training RMSE: 0.258647282597151, MAE: 0.2191143424734731\n",
            "Test RMSE: 0.2544394223523423, MAE: 0.21639915887415412\n",
            "2015-11-01 00:00:00\n",
            "Training RMSE: 0.2583066365940836, MAE: 0.21871906134878122\n",
            "Test RMSE: 0.24996636702001285, MAE: 0.21049329046699464\n",
            "2015-12-01 00:00:00\n",
            "Training RMSE: 0.24813647037058226, MAE: 0.20912402654654733\n",
            "Test RMSE: 0.25370741957561294, MAE: 0.21592578376921667\n",
            "2016-01-01 00:00:00\n",
            "Training RMSE: 0.24544463345659917, MAE: 0.20601497587907952\n",
            "Test RMSE: 0.25410581031778223, MAE: 0.2162686936352279\n",
            "2016-02-01 00:00:00\n",
            "Training RMSE: 0.24740043753130922, MAE: 0.20853494552904\n",
            "Test RMSE: 0.24737834785557292, MAE: 0.20657752958260914\n",
            "2016-03-01 00:00:00\n",
            "Training RMSE: 0.250254106667974, MAE: 0.21100520022669547\n",
            "Test RMSE: 0.24968469148722505, MAE: 0.20563209244678732\n",
            "2016-04-01 00:00:00\n",
            "Training RMSE: 0.2556476918884655, MAE: 0.21684153463395714\n",
            "Test RMSE: 0.2623238835231773, MAE: 0.21817657360553744\n",
            "2016-05-01 00:00:00\n",
            "Training RMSE: 0.2538945645251433, MAE: 0.217928441581317\n",
            "Test RMSE: 0.28085277744489584, MAE: 0.24100710354930374\n",
            "2016-06-01 00:00:00\n",
            "Training RMSE: 0.24635648738310303, MAE: 0.21089601847216055\n",
            "Test RMSE: 0.25778857917775727, MAE: 0.21864472673125102\n",
            "2016-07-01 00:00:00\n",
            "Training RMSE: 0.2405770633380762, MAE: 0.204602124319201\n",
            "Test RMSE: 0.24212528064652378, MAE: 0.19942297595755518\n",
            "2016-08-01 00:00:00\n",
            "Training RMSE: 0.23769689909356742, MAE: 0.20107115940457562\n",
            "Test RMSE: 0.2401218447797166, MAE: 0.19717322064956963\n",
            "2016-09-01 00:00:00\n",
            "Training RMSE: 0.247003882949431, MAE: 0.20886005855033118\n",
            "Test RMSE: 0.24436971404623925, MAE: 0.20556633284998918\n",
            "2016-10-01 00:00:00\n",
            "Training RMSE: 0.25661716993953987, MAE: 0.21703732577835982\n",
            "Test RMSE: 0.25315343832273757, MAE: 0.2132490085664447\n",
            "2016-11-01 00:00:00\n",
            "Training RMSE: 0.26327006653286616, MAE: 0.22352653544505868\n",
            "Test RMSE: 0.25750447956062683, MAE: 0.22139930400447314\n",
            "2016-12-01 00:00:00\n",
            "Training RMSE: 0.2571217496509673, MAE: 0.2161859191609471\n",
            "Test RMSE: 0.26503060918573756, MAE: 0.22617411310726684\n",
            "2017-01-01 00:00:00\n",
            "Training RMSE: 0.25148236620781794, MAE: 0.21142423090513138\n",
            "Test RMSE: 0.27834873301354845, MAE: 0.23893119573499175\n",
            "2017-02-01 00:00:00\n",
            "Training RMSE: 0.2567237009052251, MAE: 0.2162748450547071\n",
            "Test RMSE: 0.2703756319783347, MAE: 0.23184258668543373\n",
            "2017-03-01 00:00:00\n",
            "Training RMSE: 0.2572533969864815, MAE: 0.21773427007254306\n",
            "Test RMSE: 0.2683794273102724, MAE: 0.22758790361004969\n",
            "2017-04-01 00:00:00\n",
            "Training RMSE: 0.2676927887416176, MAE: 0.22971798604795832\n",
            "Test RMSE: 0.2500793481996153, MAE: 0.2148408305613526\n",
            "2017-05-01 00:00:00\n",
            "Training RMSE: 0.24919279386566087, MAE: 0.21623245350620915\n",
            "Test RMSE: 0.24172486994470677, MAE: 0.19995836126512084\n",
            "2017-06-01 00:00:00\n",
            "Training RMSE: 0.25481752359877546, MAE: 0.21696045006559556\n",
            "Test RMSE: 0.26695251332318454, MAE: 0.22273580552037534\n",
            "2017-07-01 00:00:00\n",
            "Training RMSE: 0.24568785205917165, MAE: 0.20474281833797958\n",
            "Test RMSE: 0.23056298333575126, MAE: 0.18084484451783275\n",
            "2017-08-01 00:00:00\n",
            "Training RMSE: 0.2512826208717331, MAE: 0.21132111286155048\n",
            "Test RMSE: 0.21888348370798072, MAE: 0.18009052034236905\n",
            "2017-09-01 00:00:00\n",
            "Training RMSE: 0.2486988391928452, MAE: 0.20952295285055955\n",
            "Test RMSE: 0.2190317809874797, MAE: 0.17691556460679336\n",
            "2017-10-01 00:00:00\n",
            "Training RMSE: 0.24974689934066244, MAE: 0.211790376649889\n",
            "Test RMSE: 0.22907238662336538, MAE: 0.19167401651768623\n",
            "2017-11-01 00:00:00\n",
            "Training RMSE: 0.249600904229003, MAE: 0.2113973752997212\n",
            "Test RMSE: 0.242950576792864, MAE: 0.20234616292417665\n",
            "2017-12-01 00:00:00\n",
            "Training RMSE: 0.2546110401836132, MAE: 0.21659562099880272\n",
            "Test RMSE: 0.24785438665666035, MAE: 0.20933636119949678\n",
            "2018-01-01 00:00:00\n",
            "Training RMSE: 0.2624925458467946, MAE: 0.22367273677755706\n",
            "Test RMSE: 0.23870240593935277, MAE: 0.20160358747950002\n",
            "2018-02-01 00:00:00\n",
            "Training RMSE: 0.25684036931988324, MAE: 0.2183786623108432\n",
            "Test RMSE: 0.2444987407529874, MAE: 0.20754500057212638\n",
            "2018-03-01 00:00:00\n",
            "Training RMSE: 0.2596428371639394, MAE: 0.22182332294806764\n",
            "Test RMSE: 0.2498732415095969, MAE: 0.21122925102485973\n",
            "2018-04-01 00:00:00\n",
            "Training RMSE: 0.24721491690091824, MAE: 0.21224756563372102\n",
            "Test RMSE: 0.24861159790914616, MAE: 0.2098811230322558\n",
            "2018-05-01 00:00:00\n",
            "Training RMSE: 0.2553638038762039, MAE: 0.21562417265556785\n",
            "Test RMSE: 0.27467765171695696, MAE: 0.2466249968602642\n",
            "2018-06-01 00:00:00\n",
            "Training RMSE: 0.2373013327513193, MAE: 0.19775412054357372\n",
            "Test RMSE: 0.2961930916208579, MAE: 0.2665035549363193\n",
            "2018-07-01 00:00:00\n",
            "Training RMSE: 0.24307842313892916, MAE: 0.20324988564079394\n",
            "Test RMSE: 0.269327954486742, MAE: 0.2324769051264365\n",
            "2018-08-01 00:00:00\n",
            "Training RMSE: 0.2425081072158728, MAE: 0.20343289020299166\n",
            "Test RMSE: 0.2603541740848404, MAE: 0.2237663047550915\n",
            "2018-09-01 00:00:00\n",
            "Training RMSE: 0.24783679841993853, MAE: 0.20809483644057938\n",
            "Test RMSE: 0.2602631126703041, MAE: 0.22406315520452427\n",
            "2018-10-01 00:00:00\n",
            "Training RMSE: 0.2538343031369732, MAE: 0.21466369387312875\n",
            "Test RMSE: 0.2650260740493285, MAE: 0.23206608347332394\n",
            "2018-11-01 00:00:00\n",
            "Training RMSE: 0.25299289171412537, MAE: 0.21540261740782768\n",
            "Test RMSE: 0.27689403706708016, MAE: 0.23749503373906866\n",
            "2018-12-01 00:00:00\n",
            "Training RMSE: 0.23580672880895254, MAE: 0.1958374664973358\n",
            "Test RMSE: 0.26582619763684473, MAE: 0.2233569393536248\n",
            "2019-01-01 00:00:00\n",
            "Training RMSE: 0.23914876258052928, MAE: 0.19918212784059\n",
            "Test RMSE: 0.2643007748440355, MAE: 0.2219007176964715\n",
            "2019-02-01 00:00:00\n",
            "Training RMSE: 0.23316975555524608, MAE: 0.19405986494419525\n",
            "Test RMSE: 0.25674262841062045, MAE: 0.20859145586125816\n",
            "2019-03-01 00:00:00\n",
            "Training RMSE: 0.24677951906010348, MAE: 0.20497545059620456\n",
            "Test RMSE: 0.2675900158310979, MAE: 0.21489240476010996\n",
            "2019-04-01 00:00:00\n",
            "Training RMSE: 0.2388901761005732, MAE: 0.19627753871294884\n",
            "Test RMSE: 0.2794605315758378, MAE: 0.22118804031759376\n",
            "2019-05-01 00:00:00\n",
            "Training RMSE: 0.254570408233063, MAE: 0.21291941790362126\n",
            "Test RMSE: 0.2944831917727849, MAE: 0.24142056783573884\n",
            "2019-06-01 00:00:00\n",
            "Training RMSE: 0.23972824856878294, MAE: 0.20310864783959176\n",
            "Test RMSE: 0.2589399251622678, MAE: 0.21791668230057157\n",
            "2019-07-01 00:00:00\n",
            "Training RMSE: 0.24479255099633934, MAE: 0.20694490495227355\n",
            "Test RMSE: 0.24700802162641594, MAE: 0.20580620412597458\n",
            "2019-08-01 00:00:00\n",
            "Training RMSE: 0.2538579660783466, MAE: 0.21535273089576562\n",
            "Test RMSE: 0.2437664203905186, MAE: 0.2031584992239556\n",
            "2019-09-01 00:00:00\n",
            "Training RMSE: 0.25235811192117646, MAE: 0.21482819614510593\n",
            "Test RMSE: 0.2457295865710452, MAE: 0.2088576538591221\n",
            "2019-10-01 00:00:00\n",
            "Training RMSE: 0.2545561091449042, MAE: 0.2182781903893887\n",
            "Test RMSE: 0.2567870242571787, MAE: 0.21752641427011646\n",
            "2019-11-01 00:00:00\n",
            "Training RMSE: 0.2501822634214996, MAE: 0.21295235305548307\n",
            "Test RMSE: 0.2508849252848703, MAE: 0.21111649096079468\n",
            "2019-12-01 00:00:00\n",
            "Training RMSE: 0.25670007251195953, MAE: 0.21864497632086397\n",
            "Test RMSE: 0.24166702769728401, MAE: 0.20253995021366375\n",
            "2020-01-01 00:00:00\n",
            "Training RMSE: 0.25898718368504153, MAE: 0.21986727466365955\n",
            "Test RMSE: 0.23804897122996035, MAE: 0.20375071862964184\n",
            "2020-02-01 00:00:00\n",
            "Training RMSE: 0.2582612909764407, MAE: 0.21909565838915787\n",
            "Test RMSE: 0.26660145684466197, MAE: 0.22998524102713702\n",
            "2020-03-01 00:00:00\n",
            "Training RMSE: 0.25686449960431096, MAE: 0.21753334706310556\n",
            "Test RMSE: 0.28995343748026214, MAE: 0.2502645379105278\n",
            "2020-04-01 00:00:00\n",
            "Training RMSE: 0.26484665714265376, MAE: 0.22649846866843876\n",
            "Test RMSE: 0.29635591545563333, MAE: 0.25494398158164144\n",
            "2020-05-01 00:00:00\n",
            "Training RMSE: 0.2713191262114394, MAE: 0.23415333467823207\n",
            "Test RMSE: 0.28991362184902564, MAE: 0.24633959183753618\n"
          ],
          "name": "stdout"
        }
      ]
    },
    {
      "cell_type": "code",
      "metadata": {
        "id": "PKhuXrL4a4nk",
        "colab": {
          "base_uri": "https://localhost:8080/",
          "height": 542
        },
        "outputId": "162b2073-5c6c-4b9d-a0ea-3c37a71cbdac"
      },
      "source": [
        "top_words=  word_coefs_df_all.groupby('Word')['Frequency'].sum().sort_values(ascending = False).iloc[0:30].index.tolist()\r\n",
        "coefs_all = word_coefs_df_all.loc[word_coefs_df_all['Word'].apply(lambda x: x in top_words), :]\r\n",
        "coefs_all_pivot = coefs_all.pivot(index = 'Word', columns = 'Month', values = 'Coef')\r\n",
        "#coefs_all = coefs_all.fillna(-0.4)\r\n",
        "\r\n",
        "fig = px.line(coefs_all, x = \"Month\", y = \"Coef\", color = \"Word\")\r\n",
        "fig.show()"
      ],
      "execution_count": null,
      "outputs": [
        {
          "output_type": "display_data",
          "data": {
            "text/html": [
              "<html>\n",
              "<head><meta charset=\"utf-8\" /></head>\n",
              "<body>\n",
              "    <div>\n",
              "            <script src=\"https://cdnjs.cloudflare.com/ajax/libs/mathjax/2.7.5/MathJax.js?config=TeX-AMS-MML_SVG\"></script><script type=\"text/javascript\">if (window.MathJax) {MathJax.Hub.Config({SVG: {font: \"STIX-Web\"}});}</script>\n",
              "                <script type=\"text/javascript\">window.PlotlyConfig = {MathJaxConfig: 'local'};</script>\n",
              "        <script src=\"https://cdn.plot.ly/plotly-latest.min.js\"></script>    \n",
              "            <div id=\"dec093af-b33a-4a49-a407-a8af2ac0e8a6\" class=\"plotly-graph-div\" style=\"height:525px; width:100%;\"></div>\n",
              "            <script type=\"text/javascript\">\n",
              "                \n",
              "                    window.PLOTLYENV=window.PLOTLYENV || {};\n",
              "                    \n",
              "                if (document.getElementById(\"dec093af-b33a-4a49-a407-a8af2ac0e8a6\")) {\n",
              "                    Plotly.newPlot(\n",
              "                        'dec093af-b33a-4a49-a407-a8af2ac0e8a6',\n",
              "                        [{\"hoverlabel\": {\"namelength\": 0}, \"hovertemplate\": \"Word=columnist<br>Month=%{x}<br>Coef=%{y}\", \"legendgroup\": \"Word=columnist\", \"line\": {\"color\": \"#636efa\", \"dash\": \"solid\"}, \"mode\": \"lines\", \"name\": \"Word=columnist\", \"showlegend\": true, \"type\": \"scattergl\", \"x\": [\"2013-01-01T00:00:00\", \"2013-02-01T00:00:00\", \"2013-03-01T00:00:00\", \"2013-04-01T00:00:00\", \"2013-05-01T00:00:00\", \"2013-06-01T00:00:00\", \"2013-07-01T00:00:00\", \"2013-08-01T00:00:00\", \"2013-09-01T00:00:00\", \"2013-10-01T00:00:00\", \"2013-11-01T00:00:00\", \"2013-12-01T00:00:00\", \"2014-01-01T00:00:00\", \"2014-02-01T00:00:00\", \"2014-03-01T00:00:00\", \"2014-04-01T00:00:00\", \"2014-05-01T00:00:00\", \"2014-06-01T00:00:00\", \"2014-07-01T00:00:00\", \"2014-08-01T00:00:00\", \"2014-09-01T00:00:00\", \"2014-10-01T00:00:00\", \"2014-11-01T00:00:00\", \"2014-12-01T00:00:00\", \"2015-01-01T00:00:00\", \"2015-02-01T00:00:00\", \"2015-03-01T00:00:00\", \"2015-04-01T00:00:00\", \"2015-05-01T00:00:00\", \"2015-06-01T00:00:00\", \"2015-07-01T00:00:00\", \"2015-08-01T00:00:00\", \"2015-09-01T00:00:00\", \"2015-10-01T00:00:00\", \"2015-11-01T00:00:00\", \"2015-12-01T00:00:00\", \"2016-01-01T00:00:00\", \"2016-02-01T00:00:00\", \"2016-03-01T00:00:00\", \"2016-04-01T00:00:00\", \"2016-05-01T00:00:00\", \"2016-06-01T00:00:00\", \"2016-07-01T00:00:00\", \"2016-08-01T00:00:00\", \"2016-09-01T00:00:00\", \"2016-10-01T00:00:00\", \"2016-11-01T00:00:00\", \"2016-12-01T00:00:00\", \"2017-01-01T00:00:00\", \"2017-02-01T00:00:00\", \"2017-03-01T00:00:00\", \"2017-04-01T00:00:00\", \"2017-05-01T00:00:00\", \"2017-06-01T00:00:00\", \"2017-07-01T00:00:00\", \"2017-08-01T00:00:00\", \"2017-09-01T00:00:00\", \"2017-10-01T00:00:00\", \"2017-11-01T00:00:00\", \"2017-12-01T00:00:00\", \"2018-01-01T00:00:00\", \"2018-02-01T00:00:00\", \"2018-03-01T00:00:00\", \"2018-04-01T00:00:00\", \"2018-05-01T00:00:00\", \"2018-06-01T00:00:00\", \"2018-07-01T00:00:00\", \"2018-08-01T00:00:00\", \"2018-09-01T00:00:00\", \"2018-10-01T00:00:00\", \"2018-11-01T00:00:00\", \"2018-12-01T00:00:00\", \"2019-01-01T00:00:00\", \"2019-02-01T00:00:00\", \"2019-03-01T00:00:00\", \"2019-04-01T00:00:00\", \"2019-05-01T00:00:00\", \"2019-06-01T00:00:00\", \"2019-07-01T00:00:00\", \"2019-08-01T00:00:00\", \"2019-09-01T00:00:00\", \"2019-10-01T00:00:00\", \"2019-11-01T00:00:00\", \"2019-12-01T00:00:00\", \"2020-01-01T00:00:00\", \"2020-02-01T00:00:00\", \"2020-03-01T00:00:00\", \"2020-04-01T00:00:00\", \"2020-05-01T00:00:00\"], \"xaxis\": \"x\", \"y\": [0.1470581491391037, 0.1350110733819932, 0.11367894136443353, 0.07821319129594267, 0.0205406786322685, 0.03343123146432133, 0.14419059579998497, 0.14091298792076232, 0.13155030063450668, 0.05500916604870163, 0.03100648134045431, 0.029466891101350055, 0.08436832008778368, 0.11227178439973558, 0.1051925570086576, 0.04278551111833109, -0.07431960938864311, -0.07918163297657387, 0.04262755173711364, 0.0802128489221929, 0.10238813085813633, 0.06091648185256736, 0.04589280059049704, 0.002497110008182863, 0.02685748898216443, 0.022907819532016392, 0.01917125321565013, 0.03066331918857747, 0.012518836591927675, 0.026077608992608223, 0.05059925793444265, 0.049845983889909316, 0.056068352179942015, 0.029417104902764994, 0.05105330980666716, 0.05121726050264306, 0.06982574450374918, 0.057410831266203596, 0.0544193060654711, 0.02547988639321089, 0.021013301418766228, 0.03561741311233563, 0.0494507758249214, 0.022968416027100508, 0.02146612662616987, 0.008171909834227154, 0.01479238015865487, 0.021112242938634163, 0.023416242936974915, 0.02818723598821838, 0.0199019410473769, 0.007593049952727877, -0.028924618124310485, -0.019043132959569168, -0.006678006251929744, 0.029299172579669883, 0.015808251265633875, 0.004929209613738849, -0.009680379863210145, 0.030651005224448424, 0.05167571534001922, 0.052548991212120096, 0.042086473203347866, 0.026325118206234906, 0.005108030274723322, -0.002560442064385192, 0.02994446809163142, 0.04195567454590363, 0.041375132535751355, 0.04297799352026067, 0.06234081919998684, 0.0650203369875441, 0.047518521503950854, 0.03322636904932339, 0.017854764598828884, 0.027217180448482616, -0.03672496694898611, -0.04364588953196386, -0.016413867167381236, 0.00013603611540710086, 0.034401534098432954, 0.028114016736646773, 0.03488337516122749, 0.026911627686691978, 0.005508158719424028, 0.01661737983546918, -0.003728257899910743, 0.006848263207338006, -0.026543751004506105], \"yaxis\": \"y\"}, {\"hoverlabel\": {\"namelength\": 0}, \"hovertemplate\": \"Word=campus<br>Month=%{x}<br>Coef=%{y}\", \"legendgroup\": \"Word=campus\", \"line\": {\"color\": \"#EF553B\", \"dash\": \"solid\"}, \"mode\": \"lines\", \"name\": \"Word=campus\", \"showlegend\": true, \"type\": \"scattergl\", \"x\": [\"2013-01-01T00:00:00\", \"2013-02-01T00:00:00\", \"2013-03-01T00:00:00\", \"2013-04-01T00:00:00\", \"2013-05-01T00:00:00\", \"2013-06-01T00:00:00\", \"2013-07-01T00:00:00\", \"2013-08-01T00:00:00\", \"2013-09-01T00:00:00\", \"2013-10-01T00:00:00\", \"2013-11-01T00:00:00\", \"2013-12-01T00:00:00\", \"2014-01-01T00:00:00\", \"2014-02-01T00:00:00\", \"2014-03-01T00:00:00\", \"2014-04-01T00:00:00\", \"2014-05-01T00:00:00\", \"2014-06-01T00:00:00\", \"2014-07-01T00:00:00\", \"2014-08-01T00:00:00\", \"2014-09-01T00:00:00\", \"2014-10-01T00:00:00\", \"2014-11-01T00:00:00\", \"2014-12-01T00:00:00\", \"2015-01-01T00:00:00\", \"2015-02-01T00:00:00\", \"2015-03-01T00:00:00\", \"2015-04-01T00:00:00\", \"2015-05-01T00:00:00\", \"2015-06-01T00:00:00\", \"2015-07-01T00:00:00\", \"2015-08-01T00:00:00\", \"2015-09-01T00:00:00\", \"2015-10-01T00:00:00\", \"2015-11-01T00:00:00\", \"2015-12-01T00:00:00\", \"2016-01-01T00:00:00\", \"2016-02-01T00:00:00\", \"2016-03-01T00:00:00\", \"2016-04-01T00:00:00\", \"2016-05-01T00:00:00\", \"2016-06-01T00:00:00\", \"2016-07-01T00:00:00\", \"2016-08-01T00:00:00\", \"2016-09-01T00:00:00\", \"2016-10-01T00:00:00\", \"2016-11-01T00:00:00\", \"2016-12-01T00:00:00\", \"2017-01-01T00:00:00\", \"2017-02-01T00:00:00\", \"2017-03-01T00:00:00\", \"2017-04-01T00:00:00\", \"2017-05-01T00:00:00\", \"2017-06-01T00:00:00\", \"2017-07-01T00:00:00\", \"2017-08-01T00:00:00\", \"2017-09-01T00:00:00\", \"2017-10-01T00:00:00\", \"2017-11-01T00:00:00\", \"2017-12-01T00:00:00\", \"2018-01-01T00:00:00\", \"2018-02-01T00:00:00\", \"2018-03-01T00:00:00\", \"2018-04-01T00:00:00\", \"2018-05-01T00:00:00\", \"2018-06-01T00:00:00\", \"2018-07-01T00:00:00\", \"2018-08-01T00:00:00\", \"2018-09-01T00:00:00\", \"2018-10-01T00:00:00\", \"2018-11-01T00:00:00\", \"2018-12-01T00:00:00\", \"2019-01-01T00:00:00\", \"2019-02-01T00:00:00\", \"2019-03-01T00:00:00\", \"2019-04-01T00:00:00\", \"2019-05-01T00:00:00\", \"2019-06-01T00:00:00\", \"2019-07-01T00:00:00\", \"2019-08-01T00:00:00\", \"2019-09-01T00:00:00\", \"2019-10-01T00:00:00\", \"2019-11-01T00:00:00\", \"2019-12-01T00:00:00\", \"2020-01-01T00:00:00\", \"2020-02-01T00:00:00\", \"2020-03-01T00:00:00\", \"2020-04-01T00:00:00\", \"2020-05-01T00:00:00\"], \"xaxis\": \"x\", \"y\": [0.06935332223068084, 0.06955409896216691, 0.08492347969075249, 0.05788009747665066, 0.029731029386880395, 0.02611916267767703, 0.08188736732658042, 0.06923414234688983, 0.06066949642012231, 0.025776054676558673, 0.035229721011945804, 0.03953258976393292, 0.057503016860046476, 0.043802264955801945, 0.027679342719828994, 0.012503460936667262, 0.02650389986789083, 0.02433704363549689, 0.015891732175055143, 0.02460844769358335, 0.027089865587622643, 0.011957148497886394, 0.0014782665360629638, 0.01043840744156834, 0.043819664392090715, 0.03533627521882569, 0.006234204382034568, -0.019737906383602902, -0.01333650087937489, 0.012736846074351913, 0.010853082230188237, 0.00494844296525253, 0.012749922993432255, 0.0074919501892172224, 0.01772085484429447, 0.02674650120053917, 0.028535967375095502, 0.023840992850894593, 0.016543051454167578, 0.0062719300281162535, 0.006678477153127713, -0.008040651273747123, 0.014687019929616038, 0.03301720800326333, 0.03237793020247663, 0.023441172533049053, 0.0022683983896577223, -0.002178866253870641, 0.006740921219919454, 0.01497138690866877, 0.02959097855661437, 0.029040039884268974, 0.022601403046641367, -0.023662173178789506, -0.03924527323551051, -0.036962341969470895, -0.0018334658793695692, 0.02014917205198097, 0.03053767020791839, 0.003814356072890227, -0.0067361144654984, -0.002039771822959853, 0.0014036674771012215, 0.027773852267138587, 0.04085089195432644, 0.031759707268171, 0.028476983099433948, -0.0029143340026480994, -0.02089951517368035, -0.03729443775520044, -0.0316914132391312, -0.018423325369786074, -0.015676591266603746, 0.002072130729651477, 0.010074769896909957, 0.01344228589619611, 0.015397547001884563, 0.005852390548330097, -0.010303723906024471, -0.001960303578927069, -0.0006396836648450845, 0.016075196228927578, 0.014560741355635107, -0.005805309821952267, -0.010566043364527518, -0.02280864912919386, -0.005108055157300415, 0.015979341182225354, 0.04267337943880016], \"yaxis\": \"y\"}, {\"hoverlabel\": {\"namelength\": 0}, \"hovertemplate\": \"Word=beat<br>Month=%{x}<br>Coef=%{y}\", \"legendgroup\": \"Word=beat\", \"line\": {\"color\": \"#00cc96\", \"dash\": \"solid\"}, \"mode\": \"lines\", \"name\": \"Word=beat\", \"showlegend\": true, \"type\": \"scattergl\", \"x\": [\"2013-01-01T00:00:00\", \"2013-02-01T00:00:00\", \"2013-03-01T00:00:00\", \"2013-04-01T00:00:00\", \"2013-05-01T00:00:00\", \"2013-06-01T00:00:00\", \"2013-07-01T00:00:00\", \"2013-08-01T00:00:00\", \"2013-09-01T00:00:00\", \"2013-10-01T00:00:00\", \"2013-11-01T00:00:00\", \"2013-12-01T00:00:00\", \"2014-01-01T00:00:00\", \"2014-02-01T00:00:00\", \"2014-03-01T00:00:00\", \"2014-04-01T00:00:00\", \"2014-05-01T00:00:00\", \"2014-06-01T00:00:00\", \"2014-07-01T00:00:00\", \"2014-08-01T00:00:00\", \"2014-09-01T00:00:00\", \"2014-10-01T00:00:00\", \"2014-11-01T00:00:00\", \"2014-12-01T00:00:00\", \"2015-01-01T00:00:00\", \"2015-02-01T00:00:00\", \"2015-03-01T00:00:00\", \"2015-04-01T00:00:00\", \"2015-05-01T00:00:00\", \"2015-06-01T00:00:00\", \"2015-07-01T00:00:00\", \"2015-08-01T00:00:00\", \"2015-09-01T00:00:00\", \"2015-10-01T00:00:00\", \"2015-11-01T00:00:00\", \"2015-12-01T00:00:00\", \"2016-01-01T00:00:00\", \"2016-02-01T00:00:00\", \"2016-03-01T00:00:00\", \"2016-04-01T00:00:00\", \"2016-05-01T00:00:00\", \"2016-06-01T00:00:00\", \"2016-07-01T00:00:00\", \"2016-08-01T00:00:00\", \"2016-09-01T00:00:00\", \"2016-10-01T00:00:00\", \"2016-11-01T00:00:00\", \"2016-12-01T00:00:00\", \"2017-01-01T00:00:00\", \"2017-02-01T00:00:00\", \"2017-03-01T00:00:00\", \"2017-04-01T00:00:00\", \"2017-05-01T00:00:00\", \"2017-06-01T00:00:00\", \"2017-07-01T00:00:00\", \"2017-08-01T00:00:00\", \"2017-09-01T00:00:00\", \"2017-10-01T00:00:00\", \"2017-11-01T00:00:00\", \"2017-12-01T00:00:00\", \"2018-01-01T00:00:00\", \"2018-02-01T00:00:00\", \"2018-03-01T00:00:00\", \"2018-04-01T00:00:00\", \"2018-05-01T00:00:00\", \"2018-06-01T00:00:00\", \"2018-07-01T00:00:00\", \"2018-08-01T00:00:00\", \"2018-09-01T00:00:00\", \"2018-10-01T00:00:00\", \"2018-11-01T00:00:00\", \"2018-12-01T00:00:00\", \"2019-01-01T00:00:00\", \"2019-02-01T00:00:00\", \"2019-03-01T00:00:00\", \"2019-04-01T00:00:00\", \"2019-05-01T00:00:00\", \"2019-06-01T00:00:00\", \"2019-07-01T00:00:00\", \"2019-08-01T00:00:00\", \"2019-09-01T00:00:00\", \"2019-10-01T00:00:00\", \"2019-11-01T00:00:00\", \"2019-12-01T00:00:00\", \"2020-01-01T00:00:00\", \"2020-02-01T00:00:00\", \"2020-03-01T00:00:00\", \"2020-04-01T00:00:00\", \"2020-05-01T00:00:00\"], \"xaxis\": \"x\", \"y\": [0.0688960200709681, 0.05264024545896337, 0.06163094019687895, 0.05709499077862558, 0.04772445546988396, 0.035518476483591646, 0.06511533806254302, 0.054436517737900716, 0.0418726209003279, -0.012337514058378966, -0.014054182913711502, -0.01997588284070273, 0.014867018892207531, 0.008836375953000925, 0.02104129539186555, 0.005747959994385407, 0.0593759048315621, 0.06267264073505305, 0.021659921045609067, 0.034313947924826865, 0.051389386037269356, 0.047202441394818974, 0.026181879563790925, 0.017814195887177826, 0.0288557338704206, 0.03476935365321945, 0.026508468054043093, 0.025908635717455435, 0.019777662333151078, 0.006231889235673143, 0.057967571128970524, 0.0295762266001703, 0.04995630104049654, 0.024265800524959247, 0.046299947757635, 0.03133947381813799, 0.03859664229874599, 0.041720370888878235, 0.04655936560649077, 0.030474201786071648, 0.00022032659775412465, 0.01982977026175345, 0.024921245927880597, 0.025000366287046938, 0.018186820072132168, 0.02005941677800395, 0.015019162373406067, 0.019026799943955598, 0.026826232873680474, 0.03245355783184971, 0.04062286086241517, 0.03987472090119949, 0.03756765274470442, 0.004681488125250273, 0.01912987674327029, 0.01367329901310907, 0.0339270731311745, 0.024914268884724103, 0.03518225912393233, 0.03863254635049217, 0.02984099229266093, 0.041237885374861886, 0.032733001476110885, 0.04012744227413799, 0.028276885142485497, 0.03402436744590027, 0.014169898833615248, 0.03646025989020096, 0.02506914852678002, 0.040502616649171104, 0.027584120406360196, 0.04949433805722075, 0.044634948760483316, 0.04501553837400064, 0.041138214973678915, 0.044972938590856625, 0.052264251009696366, 0.029258127554852503, 0.029792233551385813, 0.020054429144428797, 0.05108199520482029, 0.06418482588804628, 0.09657498916945212, 0.09496321648499541, 0.08113399463333282, 0.09943198409462399, 0.07547670051635215, 0.07473123980193402, 0.01932045761907435], \"yaxis\": \"y\"}, {\"hoverlabel\": {\"namelength\": 0}, \"hovertemplate\": \"Word=editor<br>Month=%{x}<br>Coef=%{y}\", \"legendgroup\": \"Word=editor\", \"line\": {\"color\": \"#ab63fa\", \"dash\": \"solid\"}, \"mode\": \"lines\", \"name\": \"Word=editor\", \"showlegend\": true, \"type\": \"scattergl\", \"x\": [\"2013-01-01T00:00:00\", \"2013-02-01T00:00:00\", \"2013-03-01T00:00:00\", \"2013-04-01T00:00:00\", \"2013-05-01T00:00:00\", \"2013-06-01T00:00:00\", \"2013-07-01T00:00:00\", \"2013-08-01T00:00:00\", \"2013-09-01T00:00:00\", \"2013-10-01T00:00:00\", \"2013-11-01T00:00:00\", \"2013-12-01T00:00:00\", \"2014-01-01T00:00:00\", \"2014-02-01T00:00:00\", \"2014-03-01T00:00:00\", \"2014-04-01T00:00:00\", \"2014-05-01T00:00:00\", \"2014-06-01T00:00:00\", \"2014-07-01T00:00:00\", \"2014-08-01T00:00:00\", \"2014-09-01T00:00:00\", \"2014-10-01T00:00:00\", \"2014-11-01T00:00:00\", \"2014-12-01T00:00:00\", \"2015-01-01T00:00:00\", \"2015-02-01T00:00:00\", \"2015-03-01T00:00:00\", \"2015-04-01T00:00:00\", \"2015-05-01T00:00:00\", \"2015-06-01T00:00:00\", \"2015-07-01T00:00:00\", \"2015-08-01T00:00:00\", \"2015-09-01T00:00:00\", \"2015-10-01T00:00:00\", \"2015-11-01T00:00:00\", \"2015-12-01T00:00:00\", \"2016-01-01T00:00:00\", \"2016-02-01T00:00:00\", \"2016-03-01T00:00:00\", \"2016-04-01T00:00:00\", \"2016-05-01T00:00:00\", \"2016-07-01T00:00:00\", \"2016-08-01T00:00:00\", \"2016-09-01T00:00:00\", \"2016-10-01T00:00:00\", \"2016-11-01T00:00:00\", \"2016-12-01T00:00:00\", \"2017-01-01T00:00:00\", \"2017-02-01T00:00:00\", \"2017-03-01T00:00:00\", \"2017-04-01T00:00:00\", \"2017-05-01T00:00:00\", \"2017-06-01T00:00:00\", \"2017-07-01T00:00:00\", \"2017-08-01T00:00:00\", \"2017-09-01T00:00:00\", \"2017-10-01T00:00:00\", \"2017-11-01T00:00:00\", \"2017-12-01T00:00:00\", \"2018-01-01T00:00:00\", \"2018-02-01T00:00:00\", \"2018-03-01T00:00:00\", \"2018-04-01T00:00:00\", \"2018-05-01T00:00:00\", \"2018-06-01T00:00:00\", \"2018-07-01T00:00:00\", \"2018-08-01T00:00:00\", \"2018-09-01T00:00:00\", \"2018-10-01T00:00:00\", \"2018-11-01T00:00:00\", \"2018-12-01T00:00:00\", \"2019-01-01T00:00:00\", \"2019-02-01T00:00:00\", \"2019-03-01T00:00:00\", \"2019-04-01T00:00:00\", \"2019-05-01T00:00:00\", \"2019-06-01T00:00:00\", \"2019-07-01T00:00:00\", \"2019-08-01T00:00:00\", \"2019-09-01T00:00:00\", \"2019-10-01T00:00:00\", \"2019-11-01T00:00:00\", \"2019-12-01T00:00:00\", \"2020-01-01T00:00:00\", \"2020-02-01T00:00:00\", \"2020-03-01T00:00:00\", \"2020-04-01T00:00:00\", \"2020-05-01T00:00:00\"], \"xaxis\": \"x\", \"y\": [0.05693302924131134, 0.06519391344880983, 0.037733956534788164, 0.005382799135477501, -0.038810397075024025, -0.010385304040806837, 0.0035972342476720816, 0.03536258210809106, 0.04928724149053656, 0.06317764974872227, 0.047597027378995335, 0.026893837713302702, 0.05263646158284607, 0.04548908676722235, 0.06458228538008168, 0.04525075994359012, 0.03679623908236606, 0.016710881452804204, 0.047192855892715414, 0.07928894317541452, 0.10927306080883172, 0.10997664722268453, 0.08526029931178328, 0.08284161518632924, 0.11509762355052766, 0.12819331765011677, 0.11051402288287532, 0.07977313323839681, 0.048528095844282484, 0.03659650486424048, 0.08936998056993085, 0.09155723079202018, 0.0920483737817489, 0.03713924344794718, 0.004189363821330535, 0.026832007852239236, 0.040005687494115504, 0.029421606235682136, -0.021909301789095732, -0.04061830740741857, -0.04359047987520642, 0.015733786774643654, 0.016422463963510766, 0.04031768320913173, 0.03556381820447579, 0.017600894840491633, -0.011169557759179048, -0.01946573855323235, -0.021443054744834877, -0.014904474232002708, -0.0027612022389009016, 0.008465662628121791, 0.011057465898750372, -0.00525646703274711, -0.02059687973963513, -0.012973479769294454, -0.0027680113746285494, -0.006280943234332105, -0.0031284406772698454, -0.013206374026215101, -0.034401419756834035, -0.026139634286492495, -0.026198373036736274, -0.014727177435191122, -0.02536250138078224, -0.021971233904891255, -0.008437148337119454, -0.0011076819736347066, 0.020902208043031407, 0.018382443622146274, 0.03137910859371941, 0.014202546337367674, 0.015331779428995993, 0.007656595650671884, 0.010176123254797527, 0.00021604502066572068, -0.01140258235354152, -0.0196054052118595, -0.020724565555076013, -0.006359998144934481, 0.004417326458269682, 0.004928302265964281, 0.026109088571445425, 0.005000858787010278, 0.01180842235739099, -0.03131380829187438, -0.018073830031870255, -0.006658263502768376], \"yaxis\": \"y\"}, {\"hoverlabel\": {\"namelength\": 0}, \"hovertemplate\": \"Word=news<br>Month=%{x}<br>Coef=%{y}\", \"legendgroup\": \"Word=news\", \"line\": {\"color\": \"#FFA15A\", \"dash\": \"solid\"}, \"mode\": \"lines\", \"name\": \"Word=news\", \"showlegend\": true, \"type\": \"scattergl\", \"x\": [\"2013-01-01T00:00:00\", \"2013-02-01T00:00:00\", \"2013-03-01T00:00:00\", \"2013-04-01T00:00:00\", \"2013-05-01T00:00:00\", \"2013-06-01T00:00:00\", \"2013-07-01T00:00:00\", \"2013-08-01T00:00:00\", \"2013-09-01T00:00:00\", \"2013-10-01T00:00:00\", \"2013-11-01T00:00:00\", \"2013-12-01T00:00:00\", \"2014-01-01T00:00:00\", \"2014-02-01T00:00:00\", \"2014-03-01T00:00:00\", \"2014-04-01T00:00:00\", \"2014-06-01T00:00:00\", \"2014-07-01T00:00:00\", \"2014-08-01T00:00:00\", \"2014-09-01T00:00:00\", \"2014-10-01T00:00:00\", \"2014-11-01T00:00:00\", \"2014-12-01T00:00:00\", \"2015-01-01T00:00:00\", \"2015-02-01T00:00:00\", \"2015-03-01T00:00:00\", \"2015-04-01T00:00:00\", \"2015-05-01T00:00:00\", \"2015-06-01T00:00:00\", \"2015-07-01T00:00:00\", \"2015-11-01T00:00:00\", \"2015-12-01T00:00:00\", \"2016-01-01T00:00:00\", \"2016-02-01T00:00:00\", \"2016-03-01T00:00:00\", \"2016-04-01T00:00:00\", \"2016-05-01T00:00:00\", \"2016-07-01T00:00:00\", \"2016-08-01T00:00:00\", \"2016-09-01T00:00:00\", \"2016-10-01T00:00:00\", \"2016-11-01T00:00:00\", \"2016-12-01T00:00:00\", \"2017-01-01T00:00:00\", \"2017-02-01T00:00:00\", \"2017-03-01T00:00:00\", \"2017-08-01T00:00:00\", \"2017-09-01T00:00:00\", \"2017-10-01T00:00:00\", \"2017-11-01T00:00:00\", \"2017-12-01T00:00:00\", \"2018-01-01T00:00:00\", \"2018-02-01T00:00:00\", \"2018-03-01T00:00:00\", \"2018-04-01T00:00:00\", \"2018-05-01T00:00:00\", \"2018-06-01T00:00:00\", \"2018-07-01T00:00:00\", \"2018-08-01T00:00:00\", \"2018-09-01T00:00:00\", \"2018-10-01T00:00:00\", \"2018-11-01T00:00:00\", \"2018-12-01T00:00:00\", \"2019-01-01T00:00:00\", \"2019-02-01T00:00:00\", \"2019-03-01T00:00:00\", \"2019-04-01T00:00:00\", \"2019-05-01T00:00:00\", \"2019-06-01T00:00:00\", \"2019-07-01T00:00:00\", \"2019-08-01T00:00:00\", \"2019-09-01T00:00:00\", \"2019-10-01T00:00:00\", \"2019-11-01T00:00:00\", \"2019-12-01T00:00:00\", \"2020-01-01T00:00:00\", \"2020-02-01T00:00:00\", \"2020-03-01T00:00:00\", \"2020-04-01T00:00:00\", \"2020-05-01T00:00:00\"], \"xaxis\": \"x\", \"y\": [0.0543293606078637, 0.04866279537985902, 0.03793579195873301, 0.011291156706078397, 0.0195337590935457, 0.04369741984909973, 0.05280150995530132, 0.06525255826090284, 0.04996654971712888, 0.05386538670844196, 0.02885970262868047, 0.04335174669012693, 0.02946127422109459, 0.04199290331370631, 0.028838231205256578, 0.02874906899110791, 0.0008994452792897943, 0.022007715918262526, 0.007637125867408969, 0.012298054083434724, -0.011757982868325969, -0.0032650862449947445, -0.006300680084402591, 0.007000522934339684, 0.013088299388705763, -0.030935462606241197, -0.029628868391797396, -0.0013669006810256377, 0.008994552406832633, 0.01000158263398902, -0.02633168487235173, 0.0053570344430283095, 0.0024483745836899403, 0.01984417755135783, 0.011598065685963856, 0.01894834464444924, 0.012559677458810389, 0.012329475595425785, 0.010579449522180219, 0.01588207595385708, 0.012341553704253088, 0.013307138676792124, 0.0007986253249821416, 0.008443967301182588, 0.008344995505467462, 0.010350271602023306, -0.013709195530234272, -0.018458780852762337, -0.006838234786226639, 0.008173652523785312, 0.06570532219201947, 0.04828814869191526, 0.042393963367193255, 0.022973629269839334, 0.017712813591368056, -0.01575940328471178, 0.018972487642198683, -0.008359752668391708, 0.01325181341782176, 0.008995650552776811, 0.02896831812000878, 0.00959337885359444, 0.007537617853157799, 0.016716388186777648, 0.008872984296857706, -0.011469124306721201, -0.02223718410665229, -0.0016019308636017002, 0.01705948214569791, -0.002728315082541492, -0.013188306731377266, -0.003148729424192439, 0.015720006413619727, 0.022783948896512272, 0.0027858136206359717, -0.04710418712683734, -0.07001411823097717, -0.08006205739208898, -0.04502084033507522, -0.019897917512754618], \"yaxis\": \"y\"}, {\"hoverlabel\": {\"namelength\": 0}, \"hovertemplate\": \"Word=senior<br>Month=%{x}<br>Coef=%{y}\", \"legendgroup\": \"Word=senior\", \"line\": {\"color\": \"#19d3f3\", \"dash\": \"solid\"}, \"mode\": \"lines\", \"name\": \"Word=senior\", \"showlegend\": true, \"type\": \"scattergl\", \"x\": [\"2013-01-01T00:00:00\", \"2013-02-01T00:00:00\", \"2013-03-01T00:00:00\", \"2013-04-01T00:00:00\", \"2013-05-01T00:00:00\", \"2013-06-01T00:00:00\", \"2013-07-01T00:00:00\", \"2013-08-01T00:00:00\", \"2013-09-01T00:00:00\", \"2013-10-01T00:00:00\", \"2013-11-01T00:00:00\", \"2013-12-01T00:00:00\", \"2014-01-01T00:00:00\", \"2014-02-01T00:00:00\", \"2014-03-01T00:00:00\", \"2014-04-01T00:00:00\", \"2014-05-01T00:00:00\", \"2014-06-01T00:00:00\", \"2014-07-01T00:00:00\", \"2014-08-01T00:00:00\", \"2014-09-01T00:00:00\", \"2014-10-01T00:00:00\", \"2014-11-01T00:00:00\", \"2014-12-01T00:00:00\", \"2015-01-01T00:00:00\", \"2015-02-01T00:00:00\", \"2015-03-01T00:00:00\", \"2015-04-01T00:00:00\", \"2015-05-01T00:00:00\", \"2015-06-01T00:00:00\", \"2015-07-01T00:00:00\", \"2015-08-01T00:00:00\", \"2015-09-01T00:00:00\", \"2015-10-01T00:00:00\", \"2015-11-01T00:00:00\", \"2015-12-01T00:00:00\", \"2016-01-01T00:00:00\", \"2016-02-01T00:00:00\", \"2016-03-01T00:00:00\", \"2016-04-01T00:00:00\", \"2016-05-01T00:00:00\", \"2016-06-01T00:00:00\", \"2016-07-01T00:00:00\", \"2016-08-01T00:00:00\", \"2016-09-01T00:00:00\", \"2016-10-01T00:00:00\", \"2016-11-01T00:00:00\", \"2016-12-01T00:00:00\", \"2017-01-01T00:00:00\", \"2017-02-01T00:00:00\", \"2017-03-01T00:00:00\", \"2017-04-01T00:00:00\", \"2017-05-01T00:00:00\", \"2017-06-01T00:00:00\", \"2017-07-01T00:00:00\", \"2017-08-01T00:00:00\", \"2017-09-01T00:00:00\", \"2017-10-01T00:00:00\", \"2017-11-01T00:00:00\", \"2017-12-01T00:00:00\", \"2018-01-01T00:00:00\", \"2018-02-01T00:00:00\", \"2018-03-01T00:00:00\", \"2018-04-01T00:00:00\", \"2018-05-01T00:00:00\", \"2018-06-01T00:00:00\", \"2018-07-01T00:00:00\", \"2018-08-01T00:00:00\", \"2018-09-01T00:00:00\", \"2018-10-01T00:00:00\", \"2018-11-01T00:00:00\", \"2018-12-01T00:00:00\", \"2019-01-01T00:00:00\", \"2019-02-01T00:00:00\", \"2019-03-01T00:00:00\", \"2019-04-01T00:00:00\", \"2019-06-01T00:00:00\", \"2019-07-01T00:00:00\", \"2019-08-01T00:00:00\", \"2019-09-01T00:00:00\", \"2019-10-01T00:00:00\", \"2019-11-01T00:00:00\", \"2019-12-01T00:00:00\", \"2020-01-01T00:00:00\", \"2020-03-01T00:00:00\", \"2020-04-01T00:00:00\", \"2020-05-01T00:00:00\"], \"xaxis\": \"x\", \"y\": [0.04276943486544088, 0.03336157710791801, 0.01806413618555399, -0.016653894556835535, -0.007723227800394021, 0.027982799017601336, 0.027242750673047888, 0.004803656227107253, -0.026926995740449485, -0.03732043375470034, -0.008854157324766172, 0.052034327347865686, 0.11382660441736976, 0.12995398437246894, 0.11497909780797985, 0.08645980639408038, 0.039560270367474344, 0.032482901181061785, 0.054365917546775895, 0.08590211798564212, 0.06732706989412428, 0.04241403566307378, 0.010601707289251291, 0.0411200814453842, 0.04499323587568821, 0.05326248022796943, 0.032539188024830634, 0.00962572928668915, -0.016326839706075173, -0.016265848766864873, 0.013267232471940948, 0.016199480479647928, 0.02962079647011508, 0.03466413443751191, 0.05627492195469335, 0.03980099336151896, 0.04787176805534834, 0.038377766292619, 0.050715634615456716, 0.03364636347134077, 0.02544983111931474, 0.014657040772545205, 0.06460256565141974, 0.05645679634985109, 0.08213336098224026, 0.06056134385968351, 0.06396101231456049, 0.044499933773157585, 0.05687826056790607, 0.05961304218011992, 0.059459535879080046, 0.050920390205616665, 0.05497826537037546, 0.05382751037012044, 0.057449151355999525, 0.05088125831803047, 0.062033268279020205, 0.05412052200599865, 0.06279039496878537, 0.05570679115836043, 0.06173438710300588, 0.06289821188444707, 0.05374349033667569, 0.033552186911809584, 0.014533305088531158, 0.03628272447462106, 0.013124606250965303, 0.02512796414355099, 0.03416330686142113, 0.038053683807467334, 0.04864566414851312, 0.03387551321570356, 0.0575643678403885, 0.06132724005241184, 0.042014405147638344, 0.01617809589852582, 0.011301797067284106, 0.013330867539950473, 0.026488870242522354, 0.02078850501188842, 0.015801265036840952, 0.0037312884824264475, 0.004866691663097601, 0.003954000161268609, 0.0022138084988595603, 0.001971280180146772, -0.0004710241125863708], \"yaxis\": \"y\"}, {\"hoverlabel\": {\"namelength\": 0}, \"hovertemplate\": \"Word=city<br>Month=%{x}<br>Coef=%{y}\", \"legendgroup\": \"Word=city\", \"line\": {\"color\": \"#FF6692\", \"dash\": \"solid\"}, \"mode\": \"lines\", \"name\": \"Word=city\", \"showlegend\": true, \"type\": \"scattergl\", \"x\": [\"2013-01-01T00:00:00\", \"2013-02-01T00:00:00\", \"2013-03-01T00:00:00\", \"2013-04-01T00:00:00\", \"2013-05-01T00:00:00\", \"2013-06-01T00:00:00\", \"2013-07-01T00:00:00\", \"2013-08-01T00:00:00\", \"2013-09-01T00:00:00\", \"2013-10-01T00:00:00\", \"2013-11-01T00:00:00\", \"2013-12-01T00:00:00\", \"2014-01-01T00:00:00\", \"2014-02-01T00:00:00\", \"2014-03-01T00:00:00\", \"2014-04-01T00:00:00\", \"2014-05-01T00:00:00\", \"2014-06-01T00:00:00\", \"2014-07-01T00:00:00\", \"2014-08-01T00:00:00\", \"2014-09-01T00:00:00\", \"2014-10-01T00:00:00\", \"2014-11-01T00:00:00\", \"2014-12-01T00:00:00\", \"2015-01-01T00:00:00\", \"2015-02-01T00:00:00\", \"2015-03-01T00:00:00\", \"2015-04-01T00:00:00\", \"2015-05-01T00:00:00\", \"2015-06-01T00:00:00\", \"2015-07-01T00:00:00\", \"2015-08-01T00:00:00\", \"2015-09-01T00:00:00\", \"2015-10-01T00:00:00\", \"2015-11-01T00:00:00\", \"2015-12-01T00:00:00\", \"2016-01-01T00:00:00\", \"2016-02-01T00:00:00\", \"2016-03-01T00:00:00\", \"2016-04-01T00:00:00\", \"2016-05-01T00:00:00\", \"2016-06-01T00:00:00\", \"2016-07-01T00:00:00\", \"2016-08-01T00:00:00\", \"2016-09-01T00:00:00\", \"2016-10-01T00:00:00\", \"2016-11-01T00:00:00\", \"2016-12-01T00:00:00\", \"2017-01-01T00:00:00\", \"2017-02-01T00:00:00\", \"2017-03-01T00:00:00\", \"2017-04-01T00:00:00\", \"2017-05-01T00:00:00\", \"2017-06-01T00:00:00\", \"2017-07-01T00:00:00\", \"2017-08-01T00:00:00\", \"2017-09-01T00:00:00\", \"2017-10-01T00:00:00\", \"2017-11-01T00:00:00\", \"2017-12-01T00:00:00\", \"2018-01-01T00:00:00\", \"2018-02-01T00:00:00\", \"2018-03-01T00:00:00\", \"2018-04-01T00:00:00\", \"2018-05-01T00:00:00\", \"2018-06-01T00:00:00\", \"2018-07-01T00:00:00\", \"2018-08-01T00:00:00\", \"2018-09-01T00:00:00\", \"2018-10-01T00:00:00\", \"2018-11-01T00:00:00\", \"2018-12-01T00:00:00\", \"2019-01-01T00:00:00\", \"2019-02-01T00:00:00\", \"2019-03-01T00:00:00\", \"2019-04-01T00:00:00\", \"2019-05-01T00:00:00\", \"2019-06-01T00:00:00\", \"2019-07-01T00:00:00\", \"2019-08-01T00:00:00\", \"2019-09-01T00:00:00\", \"2019-10-01T00:00:00\", \"2019-11-01T00:00:00\", \"2019-12-01T00:00:00\", \"2020-01-01T00:00:00\", \"2020-02-01T00:00:00\", \"2020-03-01T00:00:00\", \"2020-04-01T00:00:00\", \"2020-05-01T00:00:00\"], \"xaxis\": \"x\", \"y\": [0.04235838616591517, 0.008137045161832534, -0.002734067666270002, -0.0013620899315114046, 0.03076273608778453, 0.04999132144296791, 0.04235137303892811, 0.04665745450162445, 0.023303478605650824, -0.014808777031815164, -0.0423442219178788, -0.033248591934631165, -0.009063776414014667, 0.007027014310901943, 0.022200183877293164, 0.02199356804882587, 0.03287200496367103, 0.027458744453004436, 0.015057558892147153, 0.007362589688942119, 0.022815552368707942, 0.012020342154333888, 0.007102718172757741, -0.011049959014003748, -0.014963930521670124, -0.0005669215656041728, 0.006304079043508396, 0.0355563288832411, 0.028281017653179016, -0.006504956838678518, 0.04711448889878382, 0.024627783634917282, 0.030793674471690725, 0.019316890530382772, 0.03474130622431191, 0.010086144111668588, 0.010060674923653163, 0.01787937803798609, 0.03001631415232238, 0.02420227175795559, -0.006458150555373522, 0.027870421535500227, 0.003424674886286632, 0.001564023235426083, 0.006208193082258858, 0.023776923438604176, 0.021214301037911887, 0.020360738120175744, 0.01898643904823291, 0.020102562440415674, 0.011031882305801856, 0.010834681016930943, 0.01496624969806301, 0.028343661304039734, 0.04705372738925878, 0.051484660952427874, 0.049287093854700766, 0.025585153555093918, 0.011252350972277562, -0.01673461912233832, -0.010273902334714122, -0.01287161350272733, -0.007353160723573825, -0.014719270387438251, 0.0031853964728709907, -0.016707827464469777, 0.0035209414184910687, -0.003855117745812682, -0.00450954474477732, -0.01580631009081659, -0.00024807455194985766, -0.004133436237950752, -0.0031649973795838757, -0.0019594893717304273, 0.010901932896164424, 0.014051843586723744, 0.015397547001884563, 0.022598268031368936, 0.04395741464524888, 0.06383619022654818, 0.0572533200764467, 0.04175401760069692, 0.012856927554224636, -0.005805309821952268, 0.03615049169697178, 0.03755929260284943, 0.06350298383838866, 0.03338034041389916, 0.05779502939508885], \"yaxis\": \"y\"}, {\"hoverlabel\": {\"namelength\": 0}, \"hovertemplate\": \"Word=opinion<br>Month=%{x}<br>Coef=%{y}\", \"legendgroup\": \"Word=opinion\", \"line\": {\"color\": \"#B6E880\", \"dash\": \"solid\"}, \"mode\": \"lines\", \"name\": \"Word=opinion\", \"showlegend\": true, \"type\": \"scattergl\", \"x\": [\"2013-01-01T00:00:00\", \"2013-02-01T00:00:00\", \"2013-03-01T00:00:00\", \"2013-04-01T00:00:00\", \"2013-05-01T00:00:00\", \"2013-06-01T00:00:00\", \"2013-07-01T00:00:00\", \"2013-08-01T00:00:00\", \"2013-09-01T00:00:00\", \"2013-10-01T00:00:00\", \"2013-11-01T00:00:00\", \"2013-12-01T00:00:00\", \"2014-01-01T00:00:00\", \"2014-02-01T00:00:00\", \"2014-03-01T00:00:00\", \"2014-04-01T00:00:00\", \"2014-05-01T00:00:00\", \"2014-06-01T00:00:00\", \"2014-07-01T00:00:00\", \"2014-08-01T00:00:00\", \"2014-09-01T00:00:00\", \"2014-10-01T00:00:00\", \"2014-11-01T00:00:00\", \"2014-12-01T00:00:00\", \"2015-01-01T00:00:00\", \"2015-02-01T00:00:00\", \"2015-03-01T00:00:00\", \"2015-04-01T00:00:00\", \"2015-05-01T00:00:00\", \"2015-06-01T00:00:00\", \"2015-07-01T00:00:00\", \"2015-08-01T00:00:00\", \"2015-09-01T00:00:00\", \"2015-10-01T00:00:00\", \"2015-11-01T00:00:00\", \"2015-12-01T00:00:00\", \"2016-01-01T00:00:00\", \"2016-02-01T00:00:00\", \"2016-03-01T00:00:00\", \"2016-04-01T00:00:00\", \"2016-05-01T00:00:00\", \"2016-06-01T00:00:00\", \"2016-07-01T00:00:00\", \"2016-08-01T00:00:00\", \"2016-09-01T00:00:00\", \"2016-10-01T00:00:00\", \"2016-11-01T00:00:00\", \"2016-12-01T00:00:00\", \"2017-01-01T00:00:00\", \"2017-02-01T00:00:00\", \"2017-03-01T00:00:00\", \"2017-04-01T00:00:00\", \"2017-05-01T00:00:00\", \"2017-06-01T00:00:00\", \"2017-07-01T00:00:00\", \"2017-08-01T00:00:00\", \"2017-09-01T00:00:00\", \"2017-10-01T00:00:00\", \"2017-11-01T00:00:00\", \"2017-12-01T00:00:00\", \"2018-01-01T00:00:00\", \"2018-02-01T00:00:00\", \"2018-03-01T00:00:00\", \"2018-04-01T00:00:00\", \"2018-05-01T00:00:00\", \"2018-06-01T00:00:00\", \"2018-07-01T00:00:00\", \"2018-08-01T00:00:00\", \"2018-09-01T00:00:00\", \"2018-10-01T00:00:00\", \"2018-11-01T00:00:00\", \"2018-12-01T00:00:00\", \"2019-01-01T00:00:00\", \"2019-02-01T00:00:00\", \"2019-03-01T00:00:00\", \"2019-04-01T00:00:00\", \"2019-05-01T00:00:00\", \"2019-06-01T00:00:00\", \"2019-07-01T00:00:00\", \"2019-08-01T00:00:00\", \"2019-09-01T00:00:00\", \"2019-10-01T00:00:00\", \"2019-11-01T00:00:00\", \"2019-12-01T00:00:00\", \"2020-01-01T00:00:00\", \"2020-02-01T00:00:00\", \"2020-03-01T00:00:00\", \"2020-04-01T00:00:00\", \"2020-05-01T00:00:00\"], \"xaxis\": \"x\", \"y\": [0.03323141341136939, 0.03427558858655309, 0.030118695006719765, 0.018520966650705968, -0.010318031580536055, -0.0023665032986414365, 0.013873411785954913, 0.01832526303976083, 0.01538521364351252, 0.005065267358117077, -0.00994145342678234, -0.013532953807506371, -0.01961639378157171, -0.03424739914562217, -0.037688935934879306, -0.03729008548205707, -0.02380648924737393, -0.030926527921037353, 0.0072127486012326, -0.015261164597507376, -0.044439115322025366, -0.06044312787672478, -0.046813731525115976, 0.01235683244855686, 0.056751393662108636, 0.05548811131479277, 0.0618737201288618, 0.037758954394032054, 0.04054807650688861, 0.010060564331683742, 0.06307660708347423, 0.047729259166504806, 0.033703592415764795, 0.027317048869456052, 0.0048489103253057005, -0.031296504621110235, -0.054201852536810265, -0.042272303307168725, -0.02668601335208586, -0.0036016951173051767, 0.035078944258018115, 0.0376734596512643, 0.015480888815089364, 0.010706134984161354, 0.004651788712706942, -0.002120967997949139, -0.009384657295923417, -0.011793311323619575, -0.004803501071243833, -0.008773074777678197, -0.011867091515523025, -0.005870074125029856, 0.0011841829833088412, -0.009541993989284996, -0.025525647207730474, -0.011448513536769997, -0.01550980862956016, -0.010379360516120689, 0.0019610211172775126, 0.0017267162650485832, 0.005646372995236606, 0.028877764686170967, -0.00017229303309007258, -0.002456217762959572, -0.054577661770871325, -0.03701362819385038, -0.0122350242107071, -0.002757006950912973, 0.004912616987686916, 0.0006462760579240935, 0.012931510544821917, 0.01970154597226495, 0.04007540890947072, 0.020906988583742455, 0.017327484917081044, 0.016691431638746063, -0.02094244608812448, -0.018546471629015713, -0.029399381593920103, 0.018577432762761782, 0.02188116061134967, 0.03513153703528818, 0.027418045606042482, 0.02986148700181187, 0.0011352193862628442, -0.022585721140558384, -0.06572964473905672, -0.030484277308408445, -0.03320273497398141], \"yaxis\": \"y\"}, {\"hoverlabel\": {\"namelength\": 0}, \"hovertemplate\": \"Word=board<br>Month=%{x}<br>Coef=%{y}\", \"legendgroup\": \"Word=board\", \"line\": {\"color\": \"#FF97FF\", \"dash\": \"solid\"}, \"mode\": \"lines\", \"name\": \"Word=board\", \"showlegend\": true, \"type\": \"scattergl\", \"x\": [\"2013-01-01T00:00:00\", \"2013-02-01T00:00:00\", \"2013-03-01T00:00:00\", \"2013-04-01T00:00:00\", \"2013-05-01T00:00:00\", \"2013-06-01T00:00:00\", \"2013-07-01T00:00:00\", \"2013-08-01T00:00:00\", \"2013-09-01T00:00:00\", \"2013-10-01T00:00:00\", \"2013-11-01T00:00:00\", \"2013-12-01T00:00:00\", \"2014-01-01T00:00:00\", \"2014-02-01T00:00:00\", \"2014-03-01T00:00:00\", \"2014-04-01T00:00:00\", \"2014-05-01T00:00:00\", \"2014-06-01T00:00:00\", \"2014-07-01T00:00:00\", \"2014-08-01T00:00:00\", \"2014-09-01T00:00:00\", \"2014-10-01T00:00:00\", \"2014-11-01T00:00:00\", \"2014-12-01T00:00:00\", \"2015-01-01T00:00:00\", \"2015-02-01T00:00:00\", \"2015-03-01T00:00:00\", \"2015-04-01T00:00:00\", \"2015-05-01T00:00:00\", \"2015-06-01T00:00:00\", \"2015-07-01T00:00:00\", \"2015-08-01T00:00:00\", \"2015-09-01T00:00:00\", \"2015-10-01T00:00:00\", \"2015-11-01T00:00:00\", \"2015-12-01T00:00:00\", \"2016-01-01T00:00:00\", \"2016-02-01T00:00:00\", \"2016-03-01T00:00:00\", \"2016-04-01T00:00:00\", \"2016-05-01T00:00:00\", \"2016-06-01T00:00:00\", \"2016-07-01T00:00:00\", \"2016-08-01T00:00:00\", \"2016-09-01T00:00:00\", \"2016-10-01T00:00:00\", \"2016-11-01T00:00:00\", \"2016-12-01T00:00:00\", \"2017-01-01T00:00:00\", \"2017-02-01T00:00:00\", \"2017-03-01T00:00:00\", \"2017-04-01T00:00:00\", \"2017-05-01T00:00:00\", \"2017-06-01T00:00:00\", \"2017-07-01T00:00:00\", \"2017-08-01T00:00:00\", \"2017-09-01T00:00:00\", \"2017-10-01T00:00:00\", \"2017-11-01T00:00:00\", \"2017-12-01T00:00:00\", \"2018-01-01T00:00:00\", \"2018-02-01T00:00:00\", \"2018-03-01T00:00:00\", \"2018-04-01T00:00:00\", \"2018-05-01T00:00:00\", \"2018-06-01T00:00:00\", \"2018-07-01T00:00:00\", \"2018-08-01T00:00:00\", \"2018-09-01T00:00:00\", \"2018-10-01T00:00:00\", \"2018-11-01T00:00:00\", \"2018-12-01T00:00:00\", \"2019-01-01T00:00:00\", \"2019-02-01T00:00:00\", \"2019-03-01T00:00:00\", \"2019-04-01T00:00:00\", \"2019-05-01T00:00:00\", \"2019-06-01T00:00:00\", \"2019-07-01T00:00:00\", \"2019-08-01T00:00:00\", \"2019-09-01T00:00:00\", \"2019-10-01T00:00:00\", \"2019-11-01T00:00:00\", \"2019-12-01T00:00:00\", \"2020-01-01T00:00:00\", \"2020-02-01T00:00:00\", \"2020-03-01T00:00:00\", \"2020-04-01T00:00:00\", \"2020-05-01T00:00:00\"], \"xaxis\": \"x\", \"y\": [0.03323141341136939, 0.03427558858655317, 0.04273291166541756, 0.027871459863901694, 0.00024658939525796744, 0.00574312362518477, 0.026701098775023965, 0.04041218856526562, 0.037104347840685684, 0.0156853385823083, 0.02614265439722907, 0.0495124649335367, 0.08292850498841828, 0.10336549120796817, 0.09892460831785344, 0.08433164744919705, 0.04577962124180436, 0.009040466286938064, 0.04503796585848441, 0.03357501827068306, 0.03178257146435388, 0.002542967879964204, 0.005491562016184409, 0.027040407062844427, 0.04236853327628548, 0.0788489891427911, 0.10684427497672756, 0.09718814517633598, 0.06894746638092052, 0.017607998374584672, 0.02749908567874707, 0.037719544432133434, 0.07389866136620055, 0.09181707616408076, 0.10579013543001463, 0.05924394192890752, 0.038812127835140625, 0.04475185949680643, 0.03296713759673798, 0.04447710005636292, 0.0314218109970188, 0.07404460185768992, 0.07267758465445326, 0.07749974480835956, 0.0883767491362469, 0.06892891541681435, 0.06307993622573561, 0.020094350308638532, 0.056250197680762774, 0.10726498843480457, 0.12683100873221057, 0.12630659320247828, 0.04126961272169259, 0.08165757255009579, 0.0702202421543833, 0.08606804286953272, 0.10841554101579193, 0.13011807605891879, 0.14824228461900638, 0.08919391950889674, 0.0647439815317016, 0.07262454624639883, 0.03464400454025417, 0.017314828492402328, -0.007423029227230779, 0.0347358538832209, 0.05841178101921795, 0.05477170308743579, 0.05603743610471506, 0.03295125124130453, 0.033691602002853066, 0.009952530388882828, 0.007989604712627569, 0.0004805226304850264, -0.003653767518329334, -0.0029711009632042242, 0.00477796219047587, -0.002690107130474955, -0.003622266738840437, -0.016860760359687168, -0.005440603574813425, -0.007343622440934079, 0.01734844167821111, 0.03033017083962502, 0.03065488261714616, 0.023439772735180265, 0.012780558760626934, 0.012196161345572205, 0.008678798438724178], \"yaxis\": \"y\"}, {\"hoverlabel\": {\"namelength\": 0}, \"hovertemplate\": \"Word=129<br>Month=%{x}<br>Coef=%{y}\", \"legendgroup\": \"Word=129\", \"line\": {\"color\": \"#FECB52\", \"dash\": \"solid\"}, \"mode\": \"lines\", \"name\": \"Word=129\", \"showlegend\": true, \"type\": \"scattergl\", \"x\": [\"2013-01-01T00:00:00\", \"2013-02-01T00:00:00\", \"2013-03-01T00:00:00\", \"2013-04-01T00:00:00\", \"2013-05-01T00:00:00\", \"2013-06-01T00:00:00\", \"2013-07-01T00:00:00\", \"2013-08-01T00:00:00\", \"2013-09-01T00:00:00\", \"2013-10-01T00:00:00\", \"2013-11-01T00:00:00\", \"2013-12-01T00:00:00\", \"2014-01-01T00:00:00\", \"2014-02-01T00:00:00\", \"2014-03-01T00:00:00\", \"2014-04-01T00:00:00\", \"2014-05-01T00:00:00\", \"2014-06-01T00:00:00\", \"2014-07-01T00:00:00\", \"2014-08-01T00:00:00\", \"2014-09-01T00:00:00\", \"2014-10-01T00:00:00\", \"2014-11-01T00:00:00\", \"2014-12-01T00:00:00\", \"2015-01-01T00:00:00\", \"2015-02-01T00:00:00\", \"2015-03-01T00:00:00\", \"2015-04-01T00:00:00\", \"2015-05-01T00:00:00\", \"2015-06-01T00:00:00\", \"2015-07-01T00:00:00\", \"2015-08-01T00:00:00\", \"2015-09-01T00:00:00\", \"2015-10-01T00:00:00\", \"2015-11-01T00:00:00\", \"2015-12-01T00:00:00\", \"2016-01-01T00:00:00\", \"2016-02-01T00:00:00\", \"2016-03-01T00:00:00\", \"2016-04-01T00:00:00\", \"2016-05-01T00:00:00\", \"2019-12-01T00:00:00\", \"2020-01-01T00:00:00\", \"2020-02-01T00:00:00\"], \"xaxis\": \"x\", \"y\": [0.025528627206421576, 0.0483212002302652, 0.027320195215043693, 0.016233745469519383, -0.03909866984770724, -0.03987826896597141, -0.04403403255472366, -0.024006504744261033, 0.01764578624479115, 0.0511369381562251, 0.04721453151902362, 0.01584716570475228, 0.022403447126672752, 0.06715399461681694, 0.08948619771285508, 0.07778491878888745, 0.04829215341075318, 0.033243771517151126, 0.011941749614219713, 0.03342337492298854, 0.039794787136344, 0.05585059763896842, 0.04577771631395245, 0.055295586838384835, 0.07977423050094781, 0.07084009085698476, 0.06449060500913338, 0.05458583613475547, 0.03152107965861437, 0.0181872236141658, 0.07479582581697013, 0.10355210575039983, 0.10300858627248295, 0.048681895656522, 0.011354229492033872, 0.006188934798722287, 0.008333866555443362, 0.010239261954680499, -0.015091483390423313, -0.017109073886285252, -0.02996870848770044, 0.02002423109587585, 0.022578864517025368, 0.023439772735180265], \"yaxis\": \"y\"}, {\"hoverlabel\": {\"namelength\": 0}, \"hovertemplate\": \"Word=ga<br>Month=%{x}<br>Coef=%{y}\", \"legendgroup\": \"Word=ga\", \"line\": {\"color\": \"#636efa\", \"dash\": \"solid\"}, \"mode\": \"lines\", \"name\": \"Word=ga\", \"showlegend\": true, \"type\": \"scattergl\", \"x\": [\"2013-01-01T00:00:00\", \"2013-02-01T00:00:00\", \"2013-03-01T00:00:00\", \"2013-04-01T00:00:00\", \"2013-05-01T00:00:00\", \"2013-06-01T00:00:00\", \"2013-07-01T00:00:00\", \"2013-08-01T00:00:00\", \"2013-09-01T00:00:00\", \"2013-10-01T00:00:00\", \"2013-11-01T00:00:00\", \"2013-12-01T00:00:00\", \"2014-01-01T00:00:00\", \"2014-02-01T00:00:00\", \"2014-03-01T00:00:00\", \"2014-04-01T00:00:00\", \"2014-05-01T00:00:00\", \"2014-06-01T00:00:00\", \"2014-07-01T00:00:00\", \"2014-08-01T00:00:00\", \"2014-09-01T00:00:00\", \"2014-10-01T00:00:00\", \"2014-11-01T00:00:00\", \"2014-12-01T00:00:00\", \"2015-01-01T00:00:00\", \"2015-02-01T00:00:00\", \"2015-03-01T00:00:00\", \"2015-04-01T00:00:00\", \"2015-05-01T00:00:00\", \"2015-06-01T00:00:00\", \"2015-07-01T00:00:00\", \"2015-08-01T00:00:00\", \"2015-09-01T00:00:00\", \"2015-10-01T00:00:00\", \"2015-11-01T00:00:00\", \"2015-12-01T00:00:00\", \"2016-01-01T00:00:00\", \"2016-02-01T00:00:00\", \"2016-03-01T00:00:00\", \"2016-04-01T00:00:00\", \"2016-05-01T00:00:00\", \"2016-06-01T00:00:00\", \"2016-07-01T00:00:00\", \"2016-08-01T00:00:00\", \"2016-09-01T00:00:00\", \"2016-10-01T00:00:00\", \"2016-11-01T00:00:00\", \"2016-12-01T00:00:00\", \"2017-01-01T00:00:00\", \"2017-02-01T00:00:00\", \"2017-03-01T00:00:00\", \"2017-04-01T00:00:00\", \"2017-05-01T00:00:00\", \"2017-06-01T00:00:00\", \"2017-07-01T00:00:00\", \"2017-08-01T00:00:00\", \"2017-09-01T00:00:00\", \"2017-10-01T00:00:00\", \"2017-11-01T00:00:00\", \"2017-12-01T00:00:00\", \"2018-01-01T00:00:00\", \"2018-02-01T00:00:00\", \"2018-03-01T00:00:00\", \"2018-04-01T00:00:00\", \"2018-05-01T00:00:00\", \"2018-06-01T00:00:00\", \"2018-07-01T00:00:00\", \"2018-08-01T00:00:00\", \"2018-09-01T00:00:00\", \"2018-10-01T00:00:00\", \"2018-11-01T00:00:00\", \"2018-12-01T00:00:00\", \"2019-01-01T00:00:00\", \"2019-02-01T00:00:00\", \"2019-03-01T00:00:00\", \"2019-04-01T00:00:00\", \"2019-05-01T00:00:00\", \"2019-06-01T00:00:00\", \"2019-07-01T00:00:00\", \"2019-08-01T00:00:00\", \"2019-09-01T00:00:00\", \"2019-10-01T00:00:00\", \"2019-11-01T00:00:00\", \"2019-12-01T00:00:00\", \"2020-01-01T00:00:00\", \"2020-02-01T00:00:00\", \"2020-03-01T00:00:00\", \"2020-04-01T00:00:00\", \"2020-05-01T00:00:00\"], \"xaxis\": \"x\", \"y\": [0.020802699018820942, 0.03472251753571445, 0.04251239621828226, -0.009457461146394614, -0.04379209224140317, -0.02185136453575061, -0.012579855242785045, -0.014768847940147602, -0.020848857569684385, -0.011613604819972657, -0.008968258380603574, -0.05359763064322776, 0.009820669200602282, -0.01643848914286091, -0.012385987012475811, -0.07062044827543502, -0.07419962328834598, -0.045050663663062665, -0.006712746826083646, -0.006513184242538337, 0.004178826746823798, -0.023459314364984215, 0.0009187320764899163, 0.013416270852037731, 0.03252740197213085, 0.03532762242637488, 0.042815906320610386, 0.036009527996307966, 0.06903465422045862, 0.0924153837918851, 0.05840630030398886, 0.027729116265731688, 0.0387996523946709, 0.022187591159824768, 0.05388362659086427, 0.048140886708024494, 0.05464107946895188, 0.024420652298967283, 0.01609144388436372, -0.0030027543825949347, 0.023751924611259898, 0.04734719393776291, 0.02257857101597816, -0.006399233842185991, -0.006693147899320417, 0.003279138011574792, 0.009984387506016155, 0.04052630283977661, 0.061747825209708215, 0.06625558191864099, 0.0629031358108853, 0.01309313087371281, -0.0028315795169126527, 0.004348012408451611, 0.03733637733896678, 0.05082123179270091, 0.07051819158470231, 0.06937131738145652, 0.05682347473550856, 0.006906537530459751, 0.005801739286034739, 0.011239919212922807, 0.018391334104337312, 0.031046418266080476, 0.030578426055021837, 0.014001791727027663, -0.018115098870418084, -0.03492204476242845, -0.019784798479973414, -0.0037944431563207938, 0.014715459565616418, -0.018905342934968542, -0.03688042580109786, -0.024279512774063372, -0.0018192421937096369, 0.02510025319801962, 0.02962351943150765, 0.03854141071976298, -0.001489857981802197, -0.01478977555975835, -0.030428264927172405, -0.02676899139777407, -0.0258584579957148, 0.0014932572722185196, 0.0046894860331180245, 0.022173388932404767, 0.02501653644936262, 0.0010299305111284298, -0.02601674815835375], \"yaxis\": \"y\"}, {\"hoverlabel\": {\"namelength\": 0}, \"hovertemplate\": \"Word=social<br>Month=%{x}<br>Coef=%{y}\", \"legendgroup\": \"Word=social\", \"line\": {\"color\": \"#EF553B\", \"dash\": \"solid\"}, \"mode\": \"lines\", \"name\": \"Word=social\", \"showlegend\": true, \"type\": \"scattergl\", \"x\": [\"2013-01-01T00:00:00\", \"2013-02-01T00:00:00\", \"2013-03-01T00:00:00\", \"2013-04-01T00:00:00\", \"2013-06-01T00:00:00\", \"2013-07-01T00:00:00\", \"2013-08-01T00:00:00\", \"2013-09-01T00:00:00\", \"2013-10-01T00:00:00\", \"2013-11-01T00:00:00\", \"2014-08-01T00:00:00\", \"2014-09-01T00:00:00\", \"2014-10-01T00:00:00\", \"2014-11-01T00:00:00\", \"2014-12-01T00:00:00\", \"2015-01-01T00:00:00\", \"2015-02-01T00:00:00\", \"2015-03-01T00:00:00\", \"2015-04-01T00:00:00\", \"2015-05-01T00:00:00\", \"2015-06-01T00:00:00\", \"2015-07-01T00:00:00\", \"2015-08-01T00:00:00\", \"2015-09-01T00:00:00\", \"2015-10-01T00:00:00\", \"2015-11-01T00:00:00\", \"2015-12-01T00:00:00\", \"2016-01-01T00:00:00\", \"2016-02-01T00:00:00\", \"2016-03-01T00:00:00\", \"2016-04-01T00:00:00\", \"2016-05-01T00:00:00\", \"2016-06-01T00:00:00\", \"2016-07-01T00:00:00\", \"2016-08-01T00:00:00\", \"2016-09-01T00:00:00\", \"2016-10-01T00:00:00\", \"2016-11-01T00:00:00\", \"2016-12-01T00:00:00\", \"2017-01-01T00:00:00\", \"2017-02-01T00:00:00\", \"2017-03-01T00:00:00\", \"2017-04-01T00:00:00\", \"2017-05-01T00:00:00\", \"2017-06-01T00:00:00\", \"2017-07-01T00:00:00\", \"2017-08-01T00:00:00\", \"2017-09-01T00:00:00\", \"2017-10-01T00:00:00\", \"2017-11-01T00:00:00\", \"2017-12-01T00:00:00\", \"2018-01-01T00:00:00\", \"2018-02-01T00:00:00\", \"2018-03-01T00:00:00\", \"2018-04-01T00:00:00\", \"2018-05-01T00:00:00\", \"2018-06-01T00:00:00\", \"2018-07-01T00:00:00\", \"2018-08-01T00:00:00\", \"2018-09-01T00:00:00\", \"2018-10-01T00:00:00\", \"2018-11-01T00:00:00\", \"2018-12-01T00:00:00\", \"2019-01-01T00:00:00\", \"2019-02-01T00:00:00\", \"2019-03-01T00:00:00\", \"2019-04-01T00:00:00\", \"2019-07-01T00:00:00\", \"2019-08-01T00:00:00\", \"2019-09-01T00:00:00\", \"2019-10-01T00:00:00\", \"2019-11-01T00:00:00\", \"2019-12-01T00:00:00\", \"2020-01-01T00:00:00\", \"2020-02-01T00:00:00\"], \"xaxis\": \"x\", \"y\": [0.013077686633263705, 0.015962619237061045, 0.009563190114569539, 0.02458391211378138, -0.02219808542377651, -0.006672322624160768, -0.012674773022408672, 0.0007369858223771599, -0.009567837069011972, 0.011957407080453477, 0.00038933635830158, -0.0043122610137463135, -0.008289037095456845, -0.0023515542919219385, -0.0006561429954876968, 0.008334452710013302, 0.015241810334451857, 0.018633934490391788, 0.021105777850484637, 0.021965311372042412, 0.022885101101212724, 0.037860112632216274, 0.023864319776026637, 0.03278648040228459, 0.020747317810076982, 0.02750797202319423, -0.005194035201873496, -0.012508846447938099, -0.0073662086686584055, -0.017982756858116226, -0.027372356858721726, -0.02254179792513498, -0.029665382153019847, -0.026806966652090595, -0.019452500347834675, -0.022070769886286472, -0.018491652763469167, -0.02124844194278076, 0.006196941108053827, 0.017970087061457172, 0.0334565833659551, 0.030641579392692124, 0.029486135186918495, 0.0349020510487644, 0.037337813403824395, 0.008743953192777725, 0.021230706108419498, 0.02159943933395227, 0.03423648688584374, 0.002356756709813458, -0.021602961548150293, -0.010056564149684599, -0.0006563632795332235, 0.009256731706358424, 0.00803704779974264, -0.006723337539712981, 0.02652391046062909, 0.027451488763406615, 0.0216677166817565, 0.0185701556215519, 0.009956010721470872, 0.019942980081236527, 0.012585841197492908, 0.017392805331783633, 0.009173630062227324, 0.01782813199956842, 0.01648396830743522, -0.014876743519615402, -0.02228169663011364, -0.03131278132118381, -0.025074451241967725, -0.023063168925919635, -0.00881283827710073, -0.008624769357933614, -0.008899742733258791], \"yaxis\": \"y\"}, {\"hoverlabel\": {\"namelength\": 0}, \"hovertemplate\": \"Word=media<br>Month=%{x}<br>Coef=%{y}\", \"legendgroup\": \"Word=media\", \"line\": {\"color\": \"#00cc96\", \"dash\": \"solid\"}, \"mode\": \"lines\", \"name\": \"Word=media\", \"showlegend\": true, \"type\": \"scattergl\", \"x\": [\"2013-01-01T00:00:00\", \"2013-02-01T00:00:00\", \"2013-03-01T00:00:00\", \"2013-04-01T00:00:00\", \"2013-06-01T00:00:00\", \"2013-07-01T00:00:00\", \"2013-08-01T00:00:00\", \"2013-09-01T00:00:00\", \"2013-10-01T00:00:00\", \"2013-11-01T00:00:00\", \"2014-08-01T00:00:00\", \"2014-09-01T00:00:00\", \"2014-10-01T00:00:00\", \"2014-11-01T00:00:00\", \"2014-12-01T00:00:00\", \"2015-01-01T00:00:00\", \"2015-02-01T00:00:00\", \"2015-03-01T00:00:00\", \"2015-04-01T00:00:00\", \"2015-05-01T00:00:00\", \"2015-06-01T00:00:00\", \"2015-07-01T00:00:00\", \"2015-08-01T00:00:00\", \"2015-09-01T00:00:00\", \"2015-10-01T00:00:00\", \"2015-11-01T00:00:00\", \"2015-12-01T00:00:00\", \"2016-01-01T00:00:00\", \"2016-02-01T00:00:00\", \"2016-03-01T00:00:00\", \"2016-04-01T00:00:00\", \"2016-05-01T00:00:00\", \"2016-06-01T00:00:00\", \"2016-07-01T00:00:00\", \"2016-08-01T00:00:00\", \"2016-09-01T00:00:00\", \"2016-10-01T00:00:00\", \"2016-11-01T00:00:00\", \"2016-12-01T00:00:00\", \"2017-01-01T00:00:00\", \"2017-02-01T00:00:00\", \"2017-03-01T00:00:00\", \"2017-04-01T00:00:00\", \"2017-05-01T00:00:00\", \"2017-06-01T00:00:00\", \"2017-07-01T00:00:00\", \"2017-08-01T00:00:00\", \"2017-09-01T00:00:00\", \"2017-10-01T00:00:00\", \"2017-11-01T00:00:00\", \"2017-12-01T00:00:00\", \"2018-01-01T00:00:00\", \"2018-02-01T00:00:00\", \"2018-03-01T00:00:00\", \"2018-04-01T00:00:00\", \"2018-05-01T00:00:00\", \"2018-06-01T00:00:00\", \"2018-07-01T00:00:00\", \"2018-08-01T00:00:00\", \"2018-09-01T00:00:00\", \"2018-10-01T00:00:00\", \"2018-11-01T00:00:00\", \"2018-12-01T00:00:00\", \"2019-01-01T00:00:00\", \"2019-02-01T00:00:00\", \"2019-03-01T00:00:00\", \"2019-04-01T00:00:00\", \"2019-07-01T00:00:00\", \"2019-08-01T00:00:00\", \"2019-09-01T00:00:00\", \"2019-10-01T00:00:00\", \"2019-11-01T00:00:00\", \"2019-12-01T00:00:00\", \"2020-01-01T00:00:00\", \"2020-02-01T00:00:00\"], \"xaxis\": \"x\", \"y\": [0.013077686633263703, 0.01596261923706107, 0.009563190114569546, 0.02458391211378139, -0.02219808542377651, -0.006672322624160764, -0.012674773022408657, 0.0007369858223771654, -0.00956783706901196, 0.011957407080453467, 0.00038933635830157943, -0.004312261013746309, -0.00828903709545684, -0.0023515542919219337, -0.000656142995487752, 0.008334452710013259, 0.015241810334451844, 0.018633934490391805, 0.0211057778504847, 0.021965311372042415, 0.022885101101212706, 0.03786011263221625, 0.02386431977602664, 0.0327864804022847, 0.02074731781007701, 0.027507972023194213, -0.005194035201873489, -0.0125088464479381, -0.007366208668658396, -0.01798275685811623, -0.02737235685872174, -0.02254179792513499, -0.029665382153019847, -0.026806966652090605, -0.019452500347834602, -0.02207076988628641, -0.01849165276346911, -0.02124844194278075, 0.006196941108053829, 0.017970087061457137, 0.03345658336595507, 0.030641579392692117, 0.029486135186918495, 0.0349020510487644, 0.037337813403824395, 0.008743953192777718, 0.021230706108419494, 0.02159943933395226, 0.034236486885843805, 0.0023567567098134574, -0.02160296154815032, -0.010056564149684597, -0.0006563632795332135, 0.009256731706358426, 0.008037047799742634, -0.006723337539712979, 0.02652391046062909, 0.027451488763406598, 0.02166771668175654, 0.018570155621551888, 0.009956010721470865, 0.019942980081236576, 0.01258584119749289, 0.017392805331783636, 0.009173630062227312, 0.01782813199956841, 0.01648396830743521, -0.014876743519615397, -0.02228169663011363, -0.031312781321183786, -0.025074451241967746, -0.023063168925919617, -0.00881283827710073, -0.008624769357933612, -0.00889974273325879], \"yaxis\": \"y\"}, {\"hoverlabel\": {\"namelength\": 0}, \"hovertemplate\": \"Word=street<br>Month=%{x}<br>Coef=%{y}\", \"legendgroup\": \"Word=street\", \"line\": {\"color\": \"#ab63fa\", \"dash\": \"solid\"}, \"mode\": \"lines\", \"name\": \"Word=street\", \"showlegend\": true, \"type\": \"scattergl\", \"x\": [\"2013-01-01T00:00:00\", \"2013-02-01T00:00:00\", \"2013-03-01T00:00:00\", \"2013-04-01T00:00:00\", \"2013-06-01T00:00:00\", \"2013-07-01T00:00:00\", \"2013-08-01T00:00:00\", \"2013-09-01T00:00:00\", \"2013-10-01T00:00:00\", \"2013-11-01T00:00:00\", \"2013-12-01T00:00:00\", \"2014-01-01T00:00:00\", \"2014-02-01T00:00:00\", \"2014-03-01T00:00:00\", \"2014-04-01T00:00:00\", \"2014-05-01T00:00:00\", \"2014-06-01T00:00:00\", \"2014-07-01T00:00:00\", \"2014-08-01T00:00:00\", \"2014-09-01T00:00:00\", \"2014-10-01T00:00:00\", \"2014-11-01T00:00:00\", \"2014-12-01T00:00:00\", \"2015-01-01T00:00:00\", \"2015-02-01T00:00:00\", \"2015-03-01T00:00:00\", \"2015-04-01T00:00:00\", \"2015-05-01T00:00:00\", \"2015-06-01T00:00:00\", \"2015-07-01T00:00:00\", \"2015-08-01T00:00:00\", \"2015-09-01T00:00:00\", \"2015-10-01T00:00:00\", \"2015-11-01T00:00:00\", \"2015-12-01T00:00:00\", \"2016-01-01T00:00:00\", \"2016-02-01T00:00:00\", \"2016-03-01T00:00:00\", \"2016-04-01T00:00:00\", \"2016-05-01T00:00:00\", \"2016-06-01T00:00:00\", \"2016-07-01T00:00:00\", \"2016-08-01T00:00:00\", \"2016-09-01T00:00:00\", \"2016-10-01T00:00:00\", \"2016-11-01T00:00:00\", \"2016-12-01T00:00:00\", \"2017-01-01T00:00:00\", \"2017-02-01T00:00:00\", \"2017-03-01T00:00:00\", \"2017-04-01T00:00:00\", \"2017-05-01T00:00:00\", \"2017-06-01T00:00:00\", \"2017-07-01T00:00:00\", \"2017-08-01T00:00:00\", \"2017-09-01T00:00:00\", \"2017-10-01T00:00:00\", \"2017-11-01T00:00:00\", \"2017-12-01T00:00:00\", \"2018-01-01T00:00:00\", \"2018-02-01T00:00:00\", \"2018-03-01T00:00:00\", \"2018-04-01T00:00:00\", \"2018-05-01T00:00:00\", \"2018-06-01T00:00:00\", \"2018-07-01T00:00:00\", \"2018-08-01T00:00:00\", \"2018-09-01T00:00:00\", \"2018-10-01T00:00:00\", \"2018-11-01T00:00:00\", \"2018-12-01T00:00:00\", \"2019-01-01T00:00:00\", \"2019-02-01T00:00:00\", \"2019-03-01T00:00:00\", \"2019-04-01T00:00:00\", \"2019-05-01T00:00:00\", \"2019-06-01T00:00:00\", \"2019-07-01T00:00:00\", \"2019-08-01T00:00:00\", \"2019-09-01T00:00:00\", \"2019-10-01T00:00:00\", \"2019-11-01T00:00:00\", \"2019-12-01T00:00:00\", \"2020-01-01T00:00:00\", \"2020-02-01T00:00:00\", \"2020-03-01T00:00:00\", \"2020-04-01T00:00:00\", \"2020-05-01T00:00:00\"], \"xaxis\": \"x\", \"y\": [0.008784750458563884, -0.0045214447842174856, 0.022815732777209764, 0.0033934287162363584, -0.011099042711888257, 0.0015084251494578136, -0.007560872312277512, 0.000523243471795413, -0.008847535799230536, 0.025625172385492695, 0.02250037064406665, 0.036099670262483764, 0.02959258259832493, 0.03866668645684854, 0.0335209742969627, 0.02203996039051395, 0.003964861905885657, 0.020663598461380536, -0.005882357293138865, 0.0013695443889165727, -0.005201326948960121, 0.007458166094722218, 0.016057676356517135, 0.010623561649732391, -0.012985155069398187, -0.02942173036592001, -0.014508811609457559, 0.012179758728630375, 0.039983444792223585, 0.022505565564407155, -0.013495054151490294, -0.011503541061807334, 0.0020005516662078694, 0.04311615902461812, 0.016503641914138358, 0.005312344826650572, -0.003384426390339359, 0.003257720043104064, 0.025061265256351897, 0.010390566651695589, 0.015283550399194192, 0.05180936509320054, 0.08201609279902292, 0.08510321706902198, 0.07646820734400638, 0.0521169557919168, 0.02696166342073824, 0.016949108374436157, 0.0027848310151835825, 0.01229331423470413, 0.013129864081970588, 0.07169590409073534, 0.05448679434309895, -0.008675485707417491, -0.04059513926773011, -0.03040505466524662, -0.0270248666142504, -0.00820520398026559, 0.013616995885065312, 0.0015837170964934637, -0.010650783766464013, -0.03771083677590777, -0.025054630998084394, -0.041444267513666304, -0.04453600959893297, -0.024194889406286033, -0.008485650070338576, -0.016172995492171573, 0.0016165993517831935, 0.01704929714032277, 0.04026537585962131, 0.04013593116433731, 0.03801491236995674, 0.0359227546503066, 0.024289307278470732, 0.010267019189750351, 0.012792085101015968, -0.008613208593195514, -0.005910441303265321, -0.007138100084713692, 0.006279618470370706, 0.0005995548613348685, 0.027253429603027523, 0.01779761201973725, 0.011071175180064893, -0.009781547446186947, -0.028441879607865615, -0.03699336202664014], \"yaxis\": \"y\"}, {\"hoverlabel\": {\"namelength\": 0}, \"hovertemplate\": \"Word=film<br>Month=%{x}<br>Coef=%{y}\", \"legendgroup\": \"Word=film\", \"line\": {\"color\": \"#FFA15A\", \"dash\": \"solid\"}, \"mode\": \"lines\", \"name\": \"Word=film\", \"showlegend\": true, \"type\": \"scattergl\", \"x\": [\"2013-01-01T00:00:00\", \"2013-02-01T00:00:00\", \"2013-03-01T00:00:00\", \"2013-04-01T00:00:00\", \"2013-07-01T00:00:00\", \"2013-08-01T00:00:00\", \"2013-09-01T00:00:00\", \"2013-10-01T00:00:00\", \"2013-11-01T00:00:00\", \"2013-12-01T00:00:00\", \"2014-01-01T00:00:00\", \"2014-02-01T00:00:00\", \"2014-03-01T00:00:00\", \"2014-04-01T00:00:00\", \"2014-08-01T00:00:00\", \"2014-09-01T00:00:00\", \"2014-10-01T00:00:00\", \"2014-11-01T00:00:00\", \"2014-12-01T00:00:00\", \"2015-01-01T00:00:00\", \"2015-02-01T00:00:00\", \"2015-03-01T00:00:00\", \"2015-04-01T00:00:00\", \"2015-05-01T00:00:00\", \"2015-06-01T00:00:00\", \"2015-07-01T00:00:00\", \"2015-08-01T00:00:00\", \"2015-09-01T00:00:00\", \"2015-10-01T00:00:00\", \"2015-11-01T00:00:00\", \"2015-12-01T00:00:00\", \"2016-01-01T00:00:00\", \"2016-02-01T00:00:00\", \"2016-03-01T00:00:00\", \"2016-04-01T00:00:00\", \"2016-05-01T00:00:00\", \"2016-06-01T00:00:00\", \"2016-07-01T00:00:00\", \"2016-08-01T00:00:00\", \"2016-09-01T00:00:00\", \"2016-10-01T00:00:00\", \"2016-11-01T00:00:00\", \"2016-12-01T00:00:00\", \"2017-01-01T00:00:00\", \"2017-02-01T00:00:00\", \"2017-03-01T00:00:00\", \"2017-04-01T00:00:00\", \"2017-05-01T00:00:00\", \"2017-06-01T00:00:00\", \"2017-07-01T00:00:00\", \"2017-08-01T00:00:00\", \"2017-09-01T00:00:00\", \"2017-10-01T00:00:00\", \"2017-11-01T00:00:00\", \"2017-12-01T00:00:00\", \"2018-01-01T00:00:00\", \"2018-02-01T00:00:00\", \"2018-03-01T00:00:00\", \"2018-04-01T00:00:00\", \"2018-08-01T00:00:00\", \"2018-09-01T00:00:00\", \"2018-10-01T00:00:00\", \"2018-11-01T00:00:00\", \"2018-12-01T00:00:00\", \"2019-01-01T00:00:00\", \"2019-02-01T00:00:00\", \"2019-03-01T00:00:00\", \"2019-04-01T00:00:00\", \"2019-05-01T00:00:00\", \"2019-06-01T00:00:00\", \"2019-07-01T00:00:00\", \"2019-08-01T00:00:00\", \"2019-09-01T00:00:00\", \"2019-10-01T00:00:00\", \"2019-11-01T00:00:00\", \"2019-12-01T00:00:00\", \"2020-01-01T00:00:00\", \"2020-02-01T00:00:00\", \"2020-03-01T00:00:00\", \"2020-04-01T00:00:00\", \"2020-05-01T00:00:00\"], \"xaxis\": \"x\", \"y\": [0.006879789712084803, 0.005554571156036817, 0.017705728925527714, 0.0018551235784768666, 0.0026133729701493264, -0.003027155117139849, -0.011747584818769767, -0.009357609446293243, -0.0007217941551561772, 0.010370381196197829, 0.011022838609229393, -0.001019556749343714, -0.008884305553007104, -0.013056563630267772, -0.013446932575801328, -0.024240189614381936, -0.031920970262940745, -0.027734301161592614, -0.0707390690447452, -0.0813814946889786, -0.10570025274919316, -0.07748778365234432, -0.044411134632182256, -0.007988266865307781, -0.0024203502948919563, -0.0023378685532453257, -0.007432213359975346, -0.0031784424781347424, -0.0002785735177151161, 0.0354965780656128, 0.04413039956276681, 0.06378709329976254, 0.055946928655987035, 0.06262558871705491, 0.026971031885814397, 0.023478503898583525, 0.0032793881450998244, 0.004279963401787409, -0.0034665958979958034, -0.005183841297496177, -0.003325395024342272, -0.00043657152798133516, 0.0006095477389533704, 0.005570324633291372, 0.01673290456529191, 0.029640437987053205, 0.030407176985181635, 0.024768220618871482, 0.018349450102841256, 0.004061868398544168, 0.01460809700781727, -0.014593316374564185, 0.013077729514469609, 0.019324647291395044, 0.046644044217986146, 0.01605342043155494, 0.016296992936307195, -0.0041674708147050555, 0.007717519119983675, 0.021923284277436117, 0.021749488344125243, 0.020466293346473593, 0.002607734439866052, 0.017127685455407347, 0.015457334098124026, 0.011947744618476145, 0.0011432219786662128, -0.014451655240484194, -0.0055458278658548, -0.013715764007030755, 0.025500260641877864, 0.006303410879622574, 0.018915226244718374, -0.0034061274029729264, 0.026762407901615798, 0.008235703536216265, 0.020442352374671322, -0.00536709092554554, 0.011950199040734745, 0.0155244136671767, 0.01997144157211107], \"yaxis\": \"y\"}, {\"hoverlabel\": {\"namelength\": 0}, \"hovertemplate\": \"Word=video<br>Month=%{x}<br>Coef=%{y}\", \"legendgroup\": \"Word=video\", \"line\": {\"color\": \"#19d3f3\", \"dash\": \"solid\"}, \"mode\": \"lines\", \"name\": \"Word=video\", \"showlegend\": true, \"type\": \"scattergl\", \"x\": [\"2013-01-01T00:00:00\", \"2013-02-01T00:00:00\", \"2013-03-01T00:00:00\", \"2013-04-01T00:00:00\", \"2013-06-01T00:00:00\", \"2013-07-01T00:00:00\", \"2013-08-01T00:00:00\", \"2013-09-01T00:00:00\", \"2013-10-01T00:00:00\", \"2013-11-01T00:00:00\", \"2013-12-01T00:00:00\", \"2014-01-01T00:00:00\", \"2014-02-01T00:00:00\", \"2014-03-01T00:00:00\", \"2014-04-01T00:00:00\", \"2014-06-01T00:00:00\", \"2014-07-01T00:00:00\", \"2014-08-01T00:00:00\", \"2014-09-01T00:00:00\", \"2014-10-01T00:00:00\", \"2014-11-01T00:00:00\", \"2014-12-01T00:00:00\", \"2015-01-01T00:00:00\", \"2015-02-01T00:00:00\", \"2015-03-01T00:00:00\", \"2015-04-01T00:00:00\", \"2015-05-01T00:00:00\", \"2015-06-01T00:00:00\", \"2015-07-01T00:00:00\", \"2015-08-01T00:00:00\", \"2015-09-01T00:00:00\", \"2015-10-01T00:00:00\", \"2015-11-01T00:00:00\", \"2015-12-01T00:00:00\", \"2016-01-01T00:00:00\", \"2016-02-01T00:00:00\", \"2016-03-01T00:00:00\", \"2016-04-01T00:00:00\", \"2016-05-01T00:00:00\", \"2016-06-01T00:00:00\", \"2016-07-01T00:00:00\", \"2016-08-01T00:00:00\", \"2016-09-01T00:00:00\", \"2016-10-01T00:00:00\", \"2016-11-01T00:00:00\", \"2016-12-01T00:00:00\", \"2017-01-01T00:00:00\", \"2017-02-01T00:00:00\", \"2017-03-01T00:00:00\", \"2017-04-01T00:00:00\", \"2017-05-01T00:00:00\", \"2017-06-01T00:00:00\", \"2017-07-01T00:00:00\", \"2017-08-01T00:00:00\", \"2017-09-01T00:00:00\", \"2017-10-01T00:00:00\", \"2017-11-01T00:00:00\", \"2017-12-01T00:00:00\", \"2018-01-01T00:00:00\", \"2018-02-01T00:00:00\", \"2018-03-01T00:00:00\", \"2018-04-01T00:00:00\", \"2018-05-01T00:00:00\", \"2018-06-01T00:00:00\", \"2018-07-01T00:00:00\", \"2018-08-01T00:00:00\", \"2018-09-01T00:00:00\", \"2018-10-01T00:00:00\", \"2018-11-01T00:00:00\", \"2018-12-01T00:00:00\", \"2019-01-01T00:00:00\", \"2019-02-01T00:00:00\", \"2019-03-01T00:00:00\", \"2019-04-01T00:00:00\", \"2019-05-01T00:00:00\", \"2019-06-01T00:00:00\", \"2019-07-01T00:00:00\", \"2019-08-01T00:00:00\", \"2019-09-01T00:00:00\", \"2019-10-01T00:00:00\", \"2019-11-01T00:00:00\", \"2019-12-01T00:00:00\", \"2020-01-01T00:00:00\", \"2020-02-01T00:00:00\", \"2020-03-01T00:00:00\", \"2020-04-01T00:00:00\", \"2020-05-01T00:00:00\"], \"xaxis\": \"x\", \"y\": [0.006538843316631857, 0.007981309618530517, 0.004781595057284766, 0.012291956056890686, -0.011099042711888255, -0.003336161312080386, -0.006337386511204332, 0.0003684929111885795, -0.0047839185345059845, 0.005978703540226732, -0.02308851616878879, -0.02440462083519653, -0.03020928785620706, -0.009612055676359322, -0.012507050006533458, 0.027122484205345927, 0.002313538050836685, -0.03386286091375731, -0.04362341869523409, -0.03561119492240093, -0.024878830196494554, -0.022052547400131777, -0.009779161370079245, 0.022544285687813623, 0.03788191506587853, 0.044643933318876595, -0.001787811359862894, 0.012986121125528206, -0.01743954532721674, 0.01346579342474816, -0.002390380667860208, 0.010456329059833954, 0.024473243467659785, 0.01872792084739247, 0.012206439158746623, -0.01581967855423873, -0.01700128704546077, 0.006245133505756345, 0.004723608284371794, 0.021442013096950634, 0.08373325293102503, 0.08226706486010872, 0.08025776676976383, 0.06107052530760473, 0.039371644662713846, 0.05126319950814211, 0.03963394724667916, 0.053607904642181486, -0.0027911678900995164, 0.0010614755283189048, -0.008241354551638175, 0.020048105578034957, 0.049024772674475275, 0.040750959611907056, 0.02221442152500452, 0.007944027412529375, 0.001754885928160367, 0.019337738601045328, 0.018941467334606856, 0.0387672440640408, 0.02127751268689652, 0.04292752554764525, 0.027127272023549125, 0.031082164065480318, 0.006675225094473817, 0.015458331423837183, -0.00032445254337180396, 0.011038135742400403, -0.005002265171078473, -0.018470327094804118, -0.028342185956905255, -0.013596805903878139, 0.020427367759788553, 0.037941444771408823, 0.03688040747234807, 0.020342387646656253, -0.004608945300637588, -0.031362374025658245, -0.00426927023687748, 0.00235135088554359, 0.006407265524502263, -0.04907177610191269, -0.04348367794122271, -0.030901880041663506, -0.016459550964447848, -0.021241422323843434, -0.016424597531955375], \"yaxis\": \"y\"}, {\"hoverlabel\": {\"namelength\": 0}, \"hovertemplate\": \"Word=design<br>Month=%{x}<br>Coef=%{y}\", \"legendgroup\": \"Word=design\", \"line\": {\"color\": \"#FF6692\", \"dash\": \"solid\"}, \"mode\": \"lines\", \"name\": \"Word=design\", \"showlegend\": true, \"type\": \"scattergl\", \"x\": [\"2013-01-01T00:00:00\", \"2013-02-01T00:00:00\", \"2013-03-01T00:00:00\", \"2013-04-01T00:00:00\", \"2013-05-01T00:00:00\", \"2013-06-01T00:00:00\", \"2013-07-01T00:00:00\", \"2013-08-01T00:00:00\", \"2013-09-01T00:00:00\", \"2013-10-01T00:00:00\", \"2013-11-01T00:00:00\", \"2013-12-01T00:00:00\", \"2014-01-01T00:00:00\", \"2014-02-01T00:00:00\", \"2014-03-01T00:00:00\", \"2014-04-01T00:00:00\", \"2014-06-01T00:00:00\", \"2014-07-01T00:00:00\", \"2014-08-01T00:00:00\", \"2014-09-01T00:00:00\", \"2014-10-01T00:00:00\", \"2014-11-01T00:00:00\", \"2014-12-01T00:00:00\", \"2015-01-01T00:00:00\", \"2015-02-01T00:00:00\", \"2015-03-01T00:00:00\", \"2015-04-01T00:00:00\", \"2015-05-01T00:00:00\", \"2015-06-01T00:00:00\", \"2015-07-01T00:00:00\", \"2015-08-01T00:00:00\", \"2015-09-01T00:00:00\", \"2015-10-01T00:00:00\", \"2015-11-01T00:00:00\", \"2015-12-01T00:00:00\", \"2016-01-01T00:00:00\", \"2016-02-01T00:00:00\", \"2016-03-01T00:00:00\", \"2016-04-01T00:00:00\", \"2016-05-01T00:00:00\", \"2016-06-01T00:00:00\", \"2016-07-01T00:00:00\", \"2016-08-01T00:00:00\", \"2016-09-01T00:00:00\", \"2016-10-01T00:00:00\", \"2016-11-01T00:00:00\", \"2016-12-01T00:00:00\", \"2017-01-01T00:00:00\", \"2017-02-01T00:00:00\", \"2017-03-01T00:00:00\", \"2017-04-01T00:00:00\", \"2017-05-01T00:00:00\", \"2017-06-01T00:00:00\", \"2017-07-01T00:00:00\", \"2017-08-01T00:00:00\", \"2017-09-01T00:00:00\", \"2017-10-01T00:00:00\", \"2017-11-01T00:00:00\", \"2017-12-01T00:00:00\", \"2018-01-01T00:00:00\", \"2018-02-01T00:00:00\", \"2018-03-01T00:00:00\", \"2018-04-01T00:00:00\", \"2018-05-01T00:00:00\", \"2018-06-01T00:00:00\", \"2018-07-01T00:00:00\", \"2018-08-01T00:00:00\", \"2018-09-01T00:00:00\", \"2018-10-01T00:00:00\", \"2018-11-01T00:00:00\", \"2018-12-01T00:00:00\", \"2019-01-01T00:00:00\", \"2019-02-01T00:00:00\", \"2019-03-01T00:00:00\", \"2019-04-01T00:00:00\", \"2019-05-01T00:00:00\", \"2019-06-01T00:00:00\", \"2019-07-01T00:00:00\", \"2019-08-01T00:00:00\", \"2019-09-01T00:00:00\", \"2019-10-01T00:00:00\", \"2019-11-01T00:00:00\", \"2019-12-01T00:00:00\", \"2020-01-01T00:00:00\", \"2020-02-01T00:00:00\", \"2020-03-01T00:00:00\", \"2020-04-01T00:00:00\", \"2020-05-01T00:00:00\"], \"xaxis\": \"x\", \"y\": [9.752643267681601e-05, 0.010871496205150747, 0.010763506492541486, 0.011745939951708993, 0.000288272772682939, 0.01842192893468451, 0.0217930725116664, 0.02193568448961746, -0.016667115861793085, -0.012160341566708635, -0.002487551265407844, -0.009178043307497257, 0.002489254050959044, 0.02530384284363478, 0.05399930287792538, 0.03569934495023413, 0.011776297925842049, -0.0024067946259282175, 0.016399424226172226, -0.0010321010846813053, 0.014643433764014436, -0.027817375747399394, -0.00240209364027242, -0.03558085359840868, -0.019297692379150605, -0.048840412754791486, -0.01580017412664614, -0.009233003937852376, -0.0024203502948919615, 0.013174463547675708, -0.004421264887998173, 0.011546213741839518, 0.012954259384289379, 0.05632153627579831, 0.04524054699708792, 0.05785990637708514, 0.029392051694676707, 0.04486329920691755, 0.021695010183084316, 0.03279008629055188, 0.01297175878844842, 0.053161157815090274, 0.058805897315228575, 0.070877255304349, 0.05098579216120596, 0.016515711960883167, -0.017037645046694833, -0.03457361851335637, -0.019437998831804578, -0.019154702278673268, -0.010871810578378587, 0.024768220618871482, -0.016981636581836376, -0.01601797544440485, -0.003928356212607634, -0.004447424812965917, 0.0159632101703775, -0.01027246721659287, 0.0024441357044700995, 0.013608440984914367, 0.02432309822631642, 0.023787213623912448, 0.007113691120190472, 0.0048122715325003215, -0.004225781505357735, 0.02310365694694062, 0.032758297051242204, 0.045983870020214784, 0.04506414815342132, 0.04763775547383823, 0.016121775052451486, 0.007863099399298563, 0.021552119133748333, -0.00690418952300296, -0.0002900043672300591, -0.007449764591789181, 0.008679026026736753, -0.009602700963454192, -0.01909994350812726, -0.0024087388572895654, -0.0009400410755868173, 0.01582402704921035, -0.004725706799116415, 0.031128853258442123, 0.015049955304743724, 0.07727695094648705, 0.08176884790855636, 0.10507603799875469], \"yaxis\": \"y\"}, {\"hoverlabel\": {\"namelength\": 0}, \"hovertemplate\": \"Word=reporter<br>Month=%{x}<br>Coef=%{y}\", \"legendgroup\": \"Word=reporter\", \"line\": {\"color\": \"#B6E880\", \"dash\": \"solid\"}, \"mode\": \"lines\", \"name\": \"Word=reporter\", \"showlegend\": true, \"type\": \"scattergl\", \"x\": [\"2013-01-01T00:00:00\", \"2013-02-01T00:00:00\", \"2013-03-01T00:00:00\", \"2013-04-01T00:00:00\", \"2013-05-01T00:00:00\", \"2013-06-01T00:00:00\", \"2013-07-01T00:00:00\", \"2013-08-01T00:00:00\", \"2013-09-01T00:00:00\", \"2013-10-01T00:00:00\", \"2013-11-01T00:00:00\", \"2013-12-01T00:00:00\", \"2014-01-01T00:00:00\", \"2014-02-01T00:00:00\", \"2014-03-01T00:00:00\", \"2014-04-01T00:00:00\", \"2014-05-01T00:00:00\", \"2014-06-01T00:00:00\", \"2014-07-01T00:00:00\", \"2014-08-01T00:00:00\", \"2014-09-01T00:00:00\", \"2014-10-01T00:00:00\", \"2014-11-01T00:00:00\", \"2014-12-01T00:00:00\", \"2015-01-01T00:00:00\", \"2015-02-01T00:00:00\", \"2015-03-01T00:00:00\", \"2015-04-01T00:00:00\", \"2015-05-01T00:00:00\", \"2015-06-01T00:00:00\", \"2015-07-01T00:00:00\", \"2016-01-01T00:00:00\", \"2016-02-01T00:00:00\", \"2016-03-01T00:00:00\", \"2016-04-01T00:00:00\", \"2016-05-01T00:00:00\", \"2016-09-01T00:00:00\", \"2016-10-01T00:00:00\", \"2016-11-01T00:00:00\", \"2019-04-01T00:00:00\", \"2019-05-01T00:00:00\", \"2019-06-01T00:00:00\", \"2019-07-01T00:00:00\", \"2019-08-01T00:00:00\", \"2019-09-01T00:00:00\", \"2019-10-01T00:00:00\"], \"xaxis\": \"x\", \"y\": [-0.015192169432671392, -0.0168789681133153, -0.0008768109313837708, 0.010893060150798882, 0.025937385838295527, 0.012114955680340092, -0.02024896363929691, -0.020053951954529782, -0.004093267457784304, 0.010234077430317037, 0.04387823766289924, 0.04185354457236857, 0.047536054451718976, 0.03836179164176575, 0.009700988522427902, 0.03264489300574404, 0.05935001500769122, 0.06481933843600705, 0.019701131321035556, -0.016754718873276654, -0.009905467115392504, 0.02273388199744664, 0.02322939951670984, 0.006843010246018642, -0.005329694982774912, -0.00742888772066875, -0.014006460833138532, -0.044732364028429575, -0.038978920415027186, -0.03285219891582873, -0.012123337690541537, 0.00406722626359256, -0.015396959033113002, -0.01637821659265906, -0.022330851171694786, -0.0028413061014553077, 0.008359714953650095, 0.008798123057496453, 0.008787982511584467, -0.007469343900786467, -0.0055458278658548025, 0.0015066597205875894, 0.002645358409016504, 0.016212635103126705, 0.004942241808576686, 0.006305404280594142], \"yaxis\": \"y\"}, {\"hoverlabel\": {\"namelength\": 0}, \"hovertemplate\": \"Word=writer<br>Month=%{x}<br>Coef=%{y}\", \"legendgroup\": \"Word=writer\", \"line\": {\"color\": \"#FF97FF\", \"dash\": \"solid\"}, \"mode\": \"lines\", \"name\": \"Word=writer\", \"showlegend\": true, \"type\": \"scattergl\", \"x\": [\"2013-01-01T00:00:00\", \"2013-02-01T00:00:00\", \"2013-03-01T00:00:00\", \"2013-04-01T00:00:00\", \"2013-05-01T00:00:00\", \"2013-06-01T00:00:00\", \"2013-07-01T00:00:00\", \"2013-08-01T00:00:00\", \"2013-09-01T00:00:00\", \"2013-10-01T00:00:00\", \"2013-11-01T00:00:00\", \"2013-12-01T00:00:00\", \"2014-01-01T00:00:00\", \"2014-02-01T00:00:00\", \"2014-03-01T00:00:00\", \"2014-04-01T00:00:00\", \"2014-05-01T00:00:00\", \"2014-06-01T00:00:00\", \"2014-07-01T00:00:00\", \"2014-08-01T00:00:00\", \"2014-09-01T00:00:00\", \"2014-10-01T00:00:00\", \"2014-11-01T00:00:00\", \"2014-12-01T00:00:00\", \"2015-01-01T00:00:00\", \"2015-02-01T00:00:00\", \"2015-03-01T00:00:00\", \"2015-04-01T00:00:00\", \"2015-05-01T00:00:00\", \"2015-06-01T00:00:00\", \"2015-07-01T00:00:00\", \"2015-08-01T00:00:00\", \"2015-09-01T00:00:00\", \"2015-10-01T00:00:00\", \"2015-11-01T00:00:00\", \"2015-12-01T00:00:00\", \"2016-01-01T00:00:00\", \"2016-02-01T00:00:00\", \"2016-03-01T00:00:00\", \"2016-04-01T00:00:00\", \"2016-05-01T00:00:00\", \"2016-06-01T00:00:00\", \"2016-07-01T00:00:00\", \"2016-08-01T00:00:00\", \"2016-09-01T00:00:00\", \"2016-10-01T00:00:00\", \"2016-11-01T00:00:00\", \"2016-12-01T00:00:00\", \"2017-01-01T00:00:00\", \"2017-02-01T00:00:00\", \"2017-03-01T00:00:00\", \"2017-04-01T00:00:00\", \"2017-05-01T00:00:00\", \"2017-06-01T00:00:00\", \"2017-07-01T00:00:00\", \"2017-08-01T00:00:00\", \"2017-09-01T00:00:00\", \"2017-10-01T00:00:00\", \"2017-11-01T00:00:00\", \"2017-12-01T00:00:00\", \"2018-01-01T00:00:00\", \"2018-02-01T00:00:00\", \"2018-03-01T00:00:00\", \"2018-04-01T00:00:00\", \"2018-05-01T00:00:00\", \"2018-06-01T00:00:00\", \"2018-07-01T00:00:00\", \"2018-08-01T00:00:00\", \"2018-09-01T00:00:00\", \"2018-10-01T00:00:00\", \"2018-11-01T00:00:00\", \"2018-12-01T00:00:00\", \"2019-01-01T00:00:00\", \"2019-02-01T00:00:00\", \"2019-03-01T00:00:00\", \"2019-04-01T00:00:00\", \"2019-06-01T00:00:00\", \"2019-07-01T00:00:00\", \"2019-08-01T00:00:00\", \"2019-09-01T00:00:00\", \"2019-10-01T00:00:00\", \"2019-11-01T00:00:00\", \"2019-12-01T00:00:00\", \"2020-01-01T00:00:00\", \"2020-03-01T00:00:00\", \"2020-04-01T00:00:00\", \"2020-05-01T00:00:00\"], \"xaxis\": \"x\", \"y\": [-0.016613028065822284, -0.0038444048538703846, -0.0013186886580857636, 0.009058378918822468, 0.03659733342889425, 0.056638893148798455, 0.044651590250270205, 0.049068884279839624, 0.042961054147880526, 0.05365336151409983, 0.00865118239188314, -0.0064536007272272605, -0.014902152834335606, 0.029719341132538594, 0.05605750697398928, 0.06838389747671428, 0.04392228236223835, 0.03248290118106178, 0.05436591754677581, 0.08590211798564303, 0.06732706989412435, 0.042414035663073696, 0.01060170728925117, 0.04112008144538418, 0.044993235875688105, 0.05326248022796927, 0.03253918802483068, 0.009625729286689174, -0.01632683970607518, -0.016265848766864842, 0.013267232471941006, 0.016199480479648164, 0.029620796470115264, 0.03466413443751216, 0.05627492195469357, 0.03980099336151956, 0.047871768055348485, 0.055096861117023804, 0.06772205397868628, 0.051508241260628355, 0.025449831119314772, 0.004653814345527098, 0.02294091752097121, 0.01624415546431346, 0.004580330236744405, -0.008036335527033008, -0.004923931010129255, 0.020148133996404912, 0.0388143231044435, 0.04607442132467236, 0.05156153894055295, 0.040513764752194405, 0.054978265370375416, 0.0538275103701205, 0.057449151355999734, 0.04264367935802313, 0.04920741767228828, 0.04120640160127471, 0.05588458279819286, 0.05570679115836078, 0.061734387103005745, 0.06289821188444636, 0.053743490336675755, 0.03355218691180957, 0.014533305088531146, 0.036282724474621005, 0.01312460625096526, 0.02512796414355089, 0.03416330686142143, 0.038053683807467174, 0.053672754837937174, 0.034340094792908005, 0.05768436677786357, 0.06132724005241178, 0.04201440514763834, 0.01617809589852584, 0.011301797067284106, 0.013330867539950471, 0.02648887024252235, 0.020788505011888416, 0.015801265036840952, 0.007552530646176521, 0.010246369100312284, 0.010062250265516331, 0.0022138084988595616, 0.0019712801801467705, -0.0004710241125863728], \"yaxis\": \"y\"}, {\"hoverlabel\": {\"namelength\": 0}, \"hovertemplate\": \"Word=utb<br>Month=%{x}<br>Coef=%{y}\", \"legendgroup\": \"Word=utb\", \"line\": {\"color\": \"#FECB52\", \"dash\": \"solid\"}, \"mode\": \"lines\", \"name\": \"Word=utb\", \"showlegend\": true, \"type\": \"scattergl\", \"x\": [\"2013-01-01T00:00:00\", \"2013-02-01T00:00:00\", \"2013-03-01T00:00:00\", \"2013-04-01T00:00:00\", \"2013-08-01T00:00:00\", \"2013-09-01T00:00:00\", \"2013-10-01T00:00:00\", \"2013-11-01T00:00:00\", \"2013-12-01T00:00:00\", \"2014-01-01T00:00:00\", \"2014-02-01T00:00:00\", \"2014-03-01T00:00:00\", \"2014-04-01T00:00:00\", \"2014-07-01T00:00:00\", \"2014-08-01T00:00:00\", \"2014-09-01T00:00:00\", \"2014-10-01T00:00:00\", \"2014-11-01T00:00:00\", \"2014-12-01T00:00:00\", \"2015-03-01T00:00:00\", \"2015-04-01T00:00:00\", \"2015-05-01T00:00:00\", \"2015-07-01T00:00:00\", \"2015-08-01T00:00:00\", \"2015-09-01T00:00:00\", \"2015-10-01T00:00:00\", \"2015-11-01T00:00:00\", \"2015-12-01T00:00:00\", \"2016-01-01T00:00:00\", \"2016-02-01T00:00:00\", \"2016-03-01T00:00:00\", \"2016-04-01T00:00:00\", \"2016-05-01T00:00:00\", \"2016-06-01T00:00:00\", \"2016-07-01T00:00:00\", \"2016-08-01T00:00:00\", \"2016-09-01T00:00:00\", \"2016-10-01T00:00:00\", \"2016-11-01T00:00:00\", \"2016-12-01T00:00:00\", \"2017-01-01T00:00:00\", \"2017-02-01T00:00:00\", \"2017-03-01T00:00:00\", \"2017-04-01T00:00:00\", \"2017-05-01T00:00:00\", \"2017-06-01T00:00:00\", \"2017-07-01T00:00:00\", \"2017-08-01T00:00:00\", \"2017-09-01T00:00:00\", \"2017-10-01T00:00:00\", \"2017-11-01T00:00:00\", \"2017-12-01T00:00:00\", \"2018-01-01T00:00:00\", \"2018-02-01T00:00:00\", \"2018-03-01T00:00:00\", \"2018-04-01T00:00:00\", \"2018-05-01T00:00:00\", \"2018-06-01T00:00:00\", \"2018-07-01T00:00:00\", \"2018-08-01T00:00:00\", \"2018-09-01T00:00:00\", \"2018-10-01T00:00:00\", \"2018-11-01T00:00:00\", \"2018-12-01T00:00:00\", \"2019-01-01T00:00:00\", \"2019-02-01T00:00:00\", \"2019-03-01T00:00:00\", \"2019-04-01T00:00:00\", \"2019-05-01T00:00:00\", \"2019-06-01T00:00:00\", \"2019-07-01T00:00:00\", \"2019-08-01T00:00:00\", \"2019-09-01T00:00:00\", \"2019-10-01T00:00:00\", \"2019-11-01T00:00:00\", \"2019-12-01T00:00:00\", \"2020-01-01T00:00:00\", \"2020-03-01T00:00:00\", \"2020-04-01T00:00:00\", \"2020-05-01T00:00:00\"], \"xaxis\": \"x\", \"y\": [-0.020166314015148186, -0.033862253188139145, -0.013517184168514789, -0.012309624768509692, 0.009678047695720426, 0.008565606596980717, 0.006146009669650964, -0.003320246220094017, -0.016586398947717594, 0.011799490112879903, -0.0026036243434080725, 0.005926670687438821, -0.016108099043645505, -0.03435619735773237, -0.020656098683203217, -0.015274078554211893, 0.023884461734210185, 0.02345410233483932, 0.030203891503200894, 0.004042826387145107, 0.00589871016880363, 0.0082424811860006, -0.006412191948172263, -0.018016860002101225, -0.013013670796886877, -0.01285003233980886, 0.038720282434651095, 0.03227968761889488, 0.03277604511707417, -8.291359208561182e-05, -0.014901545313337409, -0.03174344679074265, -0.032516489740329446, -0.04252127877379993, -0.01989779134300797, -0.0006163852078616827, -0.020966400465018197, -0.01632107723076786, -0.017231165255371387, 0.037317350875463756, 0.018577029249236612, -0.004295364591976308, -0.009422302128823465, -0.0029000145569859255, 0.00861131394087176, 0.022090229660336344, 0.006453130372894432, -0.027826411805160992, -0.013403718987953214, -0.011407124984193055, 0.02272102912036761, 0.032468477819722355, 0.03687930664250096, 0.05091246701907999, 0.042635041066983154, 0.01603558563850125, 0.019887643510160806, 0.014134534609326599, 0.025020539421316695, 0.03135300457695892, 0.04221941227248694, 0.026467775951374107, -0.0018742114552481898, 0.0077759160693584035, 0.0019356281250103586, 0.009972210176376908, -0.005182175584687402, -0.003195199210445398, 0.011752497972256892, 0.017879610586229385, 0.04409691691668844, 0.03384931016858521, 0.04648699477039227, 0.038513508520854174, 0.04736388919986321, 0.02026482303819955, -0.0020887566040124128, -0.0016257550173011475, -0.0009372936230049422, -0.0033090212761742255], \"yaxis\": \"y\"}, {\"hoverlabel\": {\"namelength\": 0}, \"hovertemplate\": \"Word=photo<br>Month=%{x}<br>Coef=%{y}\", \"legendgroup\": \"Word=photo\", \"line\": {\"color\": \"#636efa\", \"dash\": \"solid\"}, \"mode\": \"lines\", \"name\": \"Word=photo\", \"showlegend\": true, \"type\": \"scattergl\", \"x\": [\"2013-01-01T00:00:00\", \"2013-02-01T00:00:00\", \"2013-03-01T00:00:00\", \"2013-04-01T00:00:00\", \"2013-05-01T00:00:00\", \"2013-06-01T00:00:00\", \"2013-07-01T00:00:00\", \"2013-08-01T00:00:00\", \"2013-09-01T00:00:00\", \"2013-10-01T00:00:00\", \"2013-11-01T00:00:00\", \"2013-12-01T00:00:00\", \"2014-01-01T00:00:00\", \"2014-02-01T00:00:00\", \"2014-03-01T00:00:00\", \"2014-04-01T00:00:00\", \"2014-05-01T00:00:00\", \"2014-06-01T00:00:00\", \"2014-07-01T00:00:00\", \"2014-08-01T00:00:00\", \"2014-09-01T00:00:00\", \"2014-10-01T00:00:00\", \"2014-11-01T00:00:00\", \"2014-12-01T00:00:00\", \"2015-01-01T00:00:00\", \"2015-02-01T00:00:00\", \"2015-03-01T00:00:00\", \"2015-04-01T00:00:00\", \"2015-05-01T00:00:00\", \"2015-06-01T00:00:00\", \"2015-07-01T00:00:00\", \"2015-08-01T00:00:00\", \"2015-09-01T00:00:00\", \"2015-10-01T00:00:00\", \"2015-11-01T00:00:00\", \"2015-12-01T00:00:00\", \"2016-01-01T00:00:00\", \"2016-02-01T00:00:00\", \"2016-03-01T00:00:00\", \"2016-04-01T00:00:00\", \"2016-05-01T00:00:00\", \"2016-07-01T00:00:00\", \"2016-08-01T00:00:00\", \"2016-09-01T00:00:00\", \"2016-10-01T00:00:00\", \"2016-11-01T00:00:00\", \"2016-12-01T00:00:00\", \"2017-01-01T00:00:00\", \"2017-02-01T00:00:00\", \"2017-03-01T00:00:00\", \"2017-04-01T00:00:00\", \"2017-05-01T00:00:00\", \"2017-06-01T00:00:00\", \"2017-07-01T00:00:00\", \"2017-08-01T00:00:00\", \"2017-09-01T00:00:00\", \"2017-10-01T00:00:00\", \"2017-11-01T00:00:00\", \"2017-12-01T00:00:00\", \"2018-01-01T00:00:00\", \"2018-02-01T00:00:00\", \"2018-03-01T00:00:00\", \"2018-04-01T00:00:00\", \"2018-05-01T00:00:00\", \"2018-06-01T00:00:00\", \"2018-07-01T00:00:00\", \"2018-08-01T00:00:00\", \"2018-09-01T00:00:00\", \"2018-10-01T00:00:00\", \"2018-11-01T00:00:00\", \"2018-12-01T00:00:00\", \"2019-01-01T00:00:00\", \"2019-02-01T00:00:00\", \"2019-03-01T00:00:00\", \"2019-04-01T00:00:00\", \"2019-05-01T00:00:00\", \"2019-07-01T00:00:00\", \"2019-08-01T00:00:00\", \"2019-09-01T00:00:00\", \"2019-10-01T00:00:00\", \"2019-11-01T00:00:00\", \"2019-12-01T00:00:00\", \"2020-01-01T00:00:00\", \"2020-02-01T00:00:00\", \"2020-03-01T00:00:00\", \"2020-04-01T00:00:00\", \"2020-05-01T00:00:00\"], \"xaxis\": \"x\", \"y\": [-0.026496984307770213, -0.012840774534052699, -0.003294282335737858, -0.005667771004216326, 0.00676444908876506, 0.003105412212046557, 0.01851543839536732, 0.022504051754903203, 0.021423443929916745, 0.012039174576592456, -0.001203773452462241, -0.01715289102785157, -0.014529536926865887, -0.010856355210187673, 0.0010814780042769773, -0.004686439739618398, 0.013551156236046082, 0.027902244134407363, -0.03608914765447882, -0.001343275306307968, 0.0010407016586446644, 0.005657056652659169, 0.0035900195471064086, 0.010371947772290743, 0.03273965316991408, 0.03945577009459641, 0.04387395568713974, 0.03727869167159113, -0.008354829585838889, 0.017949968104090736, 0.054039360685038555, 0.07277519157524974, 0.069007726724396, 0.055552348227984376, 0.04536463724831695, 0.025482216079518154, 0.013710793561631799, 0.006337017767102965, -0.015153636069338469, -0.013595627653506064, -0.00472330502809052, 0.02378188300618316, -0.0023826840612189383, -0.01874101608448042, -0.030927293689092982, -0.053398896425327025, -0.03707159771353844, -0.028672676207889616, -0.009656668830411328, -0.0005947425147045949, 0.0006384709955982619, 0.016197283470576234, 0.01826315354835069, 0.000808813753441276, 0.022883287156205745, 0.033731923646548284, 0.05525978575370206, 0.013249828241525916, -0.014240222121586689, -0.05129026084743461, -0.03607138949667187, -0.053058711590820956, -0.01739783678717239, -0.007918444695594176, 0.027353871934195532, 0.021541813127318163, 0.01550505578715551, 0.0041445238514654, 0.0007773812545143499, -0.0004995369798238358, -0.005357560252421169, -0.00244450729691292, 0.006403082083536285, 0.018192612976076567, 0.021254074138652594, 0.02339410533851941, -0.038990216258899674, -0.037901965772854776, -0.03954581974857935, -0.007924055269391444, -0.014156270396119358, -0.003514840503634036, -0.03631602012343705, -0.03352115157314663, -0.06319329589395915, -0.08708818497302179, -0.08345946557242936], \"yaxis\": \"y\"}, {\"hoverlabel\": {\"namelength\": 0}, \"hovertemplate\": \"Word=dp<br>Month=%{x}<br>Coef=%{y}\", \"legendgroup\": \"Word=dp\", \"line\": {\"color\": \"#EF553B\", \"dash\": \"solid\"}, \"mode\": \"lines\", \"name\": \"Word=dp\", \"showlegend\": true, \"type\": \"scattergl\", \"x\": [\"2013-01-01T00:00:00\", \"2013-02-01T00:00:00\", \"2013-03-01T00:00:00\", \"2013-04-01T00:00:00\", \"2013-05-01T00:00:00\", \"2013-06-01T00:00:00\", \"2013-07-01T00:00:00\", \"2013-08-01T00:00:00\", \"2013-09-01T00:00:00\", \"2013-10-01T00:00:00\", \"2013-11-01T00:00:00\", \"2013-12-01T00:00:00\", \"2014-01-01T00:00:00\", \"2014-02-01T00:00:00\", \"2014-03-01T00:00:00\", \"2014-04-01T00:00:00\", \"2014-05-01T00:00:00\", \"2014-06-01T00:00:00\", \"2014-07-01T00:00:00\", \"2014-08-01T00:00:00\", \"2014-09-01T00:00:00\", \"2014-10-01T00:00:00\", \"2014-11-01T00:00:00\", \"2014-12-01T00:00:00\", \"2015-01-01T00:00:00\", \"2015-02-01T00:00:00\", \"2015-03-01T00:00:00\", \"2015-04-01T00:00:00\", \"2015-05-01T00:00:00\", \"2015-06-01T00:00:00\", \"2015-07-01T00:00:00\", \"2015-08-01T00:00:00\", \"2015-09-01T00:00:00\", \"2015-10-01T00:00:00\", \"2015-11-01T00:00:00\", \"2015-12-01T00:00:00\", \"2016-01-01T00:00:00\", \"2016-02-01T00:00:00\", \"2016-03-01T00:00:00\", \"2016-04-01T00:00:00\", \"2016-05-01T00:00:00\", \"2016-06-01T00:00:00\", \"2016-07-01T00:00:00\", \"2016-08-01T00:00:00\", \"2016-09-01T00:00:00\", \"2016-10-01T00:00:00\", \"2016-11-01T00:00:00\", \"2016-12-01T00:00:00\", \"2017-01-01T00:00:00\", \"2017-02-01T00:00:00\", \"2017-03-01T00:00:00\", \"2017-04-01T00:00:00\", \"2017-05-01T00:00:00\", \"2017-06-01T00:00:00\", \"2017-07-01T00:00:00\", \"2017-08-01T00:00:00\", \"2017-09-01T00:00:00\", \"2017-10-01T00:00:00\", \"2017-11-01T00:00:00\", \"2017-12-01T00:00:00\", \"2018-01-01T00:00:00\", \"2018-02-01T00:00:00\", \"2018-03-01T00:00:00\", \"2018-04-01T00:00:00\", \"2018-05-01T00:00:00\", \"2018-06-01T00:00:00\", \"2018-07-01T00:00:00\", \"2018-08-01T00:00:00\", \"2018-09-01T00:00:00\", \"2018-10-01T00:00:00\", \"2018-11-01T00:00:00\", \"2018-12-01T00:00:00\", \"2019-01-01T00:00:00\", \"2019-02-01T00:00:00\", \"2019-03-01T00:00:00\", \"2019-04-01T00:00:00\", \"2019-05-01T00:00:00\", \"2019-06-01T00:00:00\", \"2019-07-01T00:00:00\", \"2019-08-01T00:00:00\", \"2019-09-01T00:00:00\", \"2019-10-01T00:00:00\", \"2019-11-01T00:00:00\", \"2019-12-01T00:00:00\", \"2020-01-01T00:00:00\", \"2020-02-01T00:00:00\", \"2020-03-01T00:00:00\", \"2020-04-01T00:00:00\", \"2020-05-01T00:00:00\"], \"xaxis\": \"x\", \"y\": [-0.03892894122504928, -0.0067122826190853324, -0.009525844486551431, -0.009829128943438065, -2.4275896371435008e-06, 0.008240334669082994, 0.018704149597500573, 0.003935467210918998, 0.003043493245515946, 0.010928849777074008, 0.026093322882458934, -0.0022050979082114696, 0.006500208258167436, -0.003139682215120265, 0.024535802758304207, 0.0024240761385506482, 0.03290470339213514, 0.031424757596732515, 0.025650260099151688, 0.015211384184538775, -0.003995268623793129, 0.004367247088623487, 0.018463160796688416, -0.00015348241810889582, -0.01304997573450491, -0.056692064486831145, -0.061447103733769645, -0.07452104125186562, -0.018815981877899565, 0.007453744686306019, -0.03411113633233358, -0.06598676470996002, -0.09024157672823359, -0.080445445906841, -0.05471709623996057, -0.008937160445785282, -0.016693154884930905, -0.012112773311243332, -0.027382936839518597, -0.02037625447507739, -0.029961179828550316, -0.01789913267733016, -0.012878503203218756, 0.008905897365065099, 0.011914599243091968, 0.017787784199300632, 0.014262985751792714, 4.7170832100734355e-05, -0.014914748895999395, -0.031339014423685446, -0.03346364860019476, -0.006059609659501295, 0.036569261435980605, 0.007280726688589752, 0.014175945217677415, 0.007411627073218379, -0.01835429457345298, -0.019082014054319, 0.007529063161775082, 0.034325504275490304, 0.02480926744036708, 0.006001313718101428, 0.00030652174862764157, 0.008837760002007596, -0.0010051133064846215, 0.060993480529019234, 0.06706729709109518, 0.06799509911845926, 0.055126281082675595, 0.0450689471055547, 0.033102377274432764, 0.023166446435486782, 0.029067033169033765, 0.029264055424075154, 0.030183878143462725, 0.014345932072265153, -0.0037524447651834433, 0.06889250114948577, 0.08071072329223322, 0.0657599744786016, 0.04925981709083649, 0.03369181658878508, 0.05041427685678108, 0.006917229522800956, 0.002566043576172915, -0.0266637746398337, 0.0016330524029862154, 0.01254637131348501, 0.05702453117503687], \"yaxis\": \"y\"}, {\"hoverlabel\": {\"namelength\": 0}, \"hovertemplate\": \"Word=photography<br>Month=%{x}<br>Coef=%{y}\", \"legendgroup\": \"Word=photography\", \"line\": {\"color\": \"#00cc96\", \"dash\": \"solid\"}, \"mode\": \"lines\", \"name\": \"Word=photography\", \"showlegend\": true, \"type\": \"scattergl\", \"x\": [\"2013-01-01T00:00:00\", \"2013-02-01T00:00:00\", \"2013-03-01T00:00:00\", \"2013-04-01T00:00:00\", \"2013-05-01T00:00:00\", \"2013-06-01T00:00:00\", \"2013-07-01T00:00:00\", \"2013-08-01T00:00:00\", \"2013-09-01T00:00:00\", \"2013-10-01T00:00:00\", \"2013-11-01T00:00:00\", \"2013-12-01T00:00:00\", \"2014-01-01T00:00:00\", \"2014-02-01T00:00:00\", \"2014-03-01T00:00:00\", \"2014-04-01T00:00:00\", \"2014-05-01T00:00:00\", \"2014-06-01T00:00:00\", \"2014-07-01T00:00:00\", \"2014-08-01T00:00:00\", \"2014-09-01T00:00:00\", \"2014-10-01T00:00:00\", \"2014-11-01T00:00:00\", \"2014-12-01T00:00:00\", \"2015-01-01T00:00:00\", \"2015-02-01T00:00:00\", \"2015-03-01T00:00:00\", \"2015-04-01T00:00:00\", \"2015-05-01T00:00:00\", \"2015-07-01T00:00:00\", \"2015-08-01T00:00:00\", \"2015-09-01T00:00:00\", \"2015-10-01T00:00:00\", \"2015-11-01T00:00:00\", \"2015-12-01T00:00:00\", \"2016-01-01T00:00:00\", \"2016-02-01T00:00:00\", \"2016-03-01T00:00:00\", \"2016-04-01T00:00:00\", \"2016-06-01T00:00:00\", \"2016-07-01T00:00:00\", \"2016-08-01T00:00:00\", \"2016-09-01T00:00:00\", \"2016-10-01T00:00:00\", \"2016-11-01T00:00:00\", \"2016-12-01T00:00:00\", \"2017-01-01T00:00:00\", \"2017-02-01T00:00:00\", \"2017-03-01T00:00:00\", \"2017-04-01T00:00:00\", \"2017-05-01T00:00:00\", \"2017-06-01T00:00:00\", \"2017-07-01T00:00:00\", \"2017-08-01T00:00:00\", \"2017-09-01T00:00:00\", \"2017-10-01T00:00:00\", \"2017-11-01T00:00:00\", \"2017-12-01T00:00:00\", \"2018-01-01T00:00:00\", \"2018-02-01T00:00:00\", \"2018-03-01T00:00:00\", \"2018-04-01T00:00:00\", \"2018-05-01T00:00:00\", \"2018-06-01T00:00:00\", \"2018-07-01T00:00:00\", \"2018-08-01T00:00:00\", \"2018-09-01T00:00:00\", \"2018-10-01T00:00:00\", \"2018-11-01T00:00:00\", \"2018-12-01T00:00:00\", \"2019-01-01T00:00:00\", \"2019-02-01T00:00:00\", \"2019-03-01T00:00:00\", \"2019-04-01T00:00:00\", \"2019-05-01T00:00:00\", \"2019-07-01T00:00:00\", \"2019-08-01T00:00:00\", \"2019-09-01T00:00:00\", \"2019-10-01T00:00:00\", \"2019-11-01T00:00:00\", \"2019-12-01T00:00:00\", \"2020-01-01T00:00:00\", \"2020-02-01T00:00:00\", \"2020-03-01T00:00:00\", \"2020-04-01T00:00:00\", \"2020-05-01T00:00:00\"], \"xaxis\": \"x\", \"y\": [-0.03984114724317273, -0.04210941107038744, -0.016837656970147646, -0.012226415096777198, 0.006764449088765061, 0.0031054122120465584, -0.0003129623947804959, 0.0037752532481663396, 0.0038643002405446083, 0.012039174576592454, -0.008947696492827003, -0.011841147912180253, -0.0037930393101011637, 0.0046235781577916085, 0.005467041714151608, -0.0006514754748600744, 0.013551156236046082, 0.012556057854903484, 0.003899738201517763, 0.02996005996240964, 0.01159468194683848, 0.010467003083851328, -0.020582662998139736, -0.0006538808342524745, -0.006332588246575719, -0.003759198909258964, -0.036819248667565224, -0.03630602600068552, -0.03090470150257072, -0.007969999494201269, -0.016542059856628936, -0.01453812062881704, -0.008645075135501222, 0.028386422391121168, -0.017322264029012182, -0.03286767087235837, -0.04040737763170998, -0.009888484485630199, 0.006249700938489666, -0.017884836070003008, 0.0059222567109262735, -0.0030289659927423955, 0.009133175603954645, 0.014034166634442121, 0.02477994485053577, 0.011826743483368747, 0.01824903338408771, 0.02146788582678867, 0.012377356312861274, 0.003322646076225731, -0.0024975180491184634, 0.005845924961542522, 0.03419640588940695, 0.06711566689388015, 0.0606878338957439, 0.03227923587626103, 0.0018852410667848016, 0.04121783273687976, 0.06230707238480617, 0.05163045311117199, 0.004281121774774267, -0.000253781504371173, 0.011969198814566625, 0.016453497518367485, -0.007324225528426513, -0.004647984577528242, -0.006802711338555319, 0.005975766565607285, -0.005002265171078475, -0.0069356366706255605, -0.019453933290280122, -0.022333156883593563, 0.001438935423752675, 0.01648621465825028, 0.023754507666054622, -0.008442773146951603, -0.012862124082710133, 0.0002489352594280246, -0.011804186193977172, -0.014186759941111474, -0.04445203403573475, -0.034799145905548806, -0.02089661361305265, 0.030644340250364957, 0.06422103122939764, 0.0384615673009865], \"yaxis\": \"y\"}, {\"hoverlabel\": {\"namelength\": 0}, \"hovertemplate\": \"Word=sports<br>Month=%{x}<br>Coef=%{y}\", \"legendgroup\": \"Word=sports\", \"line\": {\"color\": \"#ab63fa\", \"dash\": \"solid\"}, \"mode\": \"lines\", \"name\": \"Word=sports\", \"showlegend\": true, \"type\": \"scattergl\", \"x\": [\"2013-01-01T00:00:00\", \"2013-02-01T00:00:00\", \"2013-03-01T00:00:00\", \"2013-04-01T00:00:00\", \"2013-05-01T00:00:00\", \"2013-06-01T00:00:00\", \"2013-07-01T00:00:00\", \"2013-08-01T00:00:00\", \"2013-09-01T00:00:00\", \"2013-10-01T00:00:00\", \"2013-11-01T00:00:00\", \"2013-12-01T00:00:00\", \"2014-01-01T00:00:00\", \"2014-02-01T00:00:00\", \"2014-03-01T00:00:00\", \"2014-04-01T00:00:00\", \"2014-05-01T00:00:00\", \"2014-06-01T00:00:00\", \"2014-07-01T00:00:00\", \"2014-08-01T00:00:00\", \"2014-09-01T00:00:00\", \"2014-10-01T00:00:00\", \"2014-11-01T00:00:00\", \"2014-12-01T00:00:00\", \"2015-01-01T00:00:00\", \"2015-02-01T00:00:00\", \"2015-03-01T00:00:00\", \"2015-04-01T00:00:00\", \"2015-05-01T00:00:00\", \"2015-06-01T00:00:00\", \"2015-07-01T00:00:00\", \"2015-08-01T00:00:00\", \"2015-09-01T00:00:00\", \"2015-10-01T00:00:00\", \"2015-11-01T00:00:00\", \"2015-12-01T00:00:00\", \"2016-01-01T00:00:00\", \"2016-02-01T00:00:00\", \"2016-03-01T00:00:00\", \"2016-04-01T00:00:00\", \"2016-05-01T00:00:00\", \"2016-06-01T00:00:00\", \"2016-07-01T00:00:00\", \"2016-08-01T00:00:00\", \"2016-09-01T00:00:00\", \"2016-10-01T00:00:00\", \"2016-11-01T00:00:00\", \"2016-12-01T00:00:00\", \"2017-01-01T00:00:00\", \"2017-02-01T00:00:00\", \"2017-03-01T00:00:00\", \"2017-04-01T00:00:00\", \"2017-05-01T00:00:00\", \"2017-06-01T00:00:00\", \"2017-07-01T00:00:00\", \"2017-08-01T00:00:00\", \"2017-09-01T00:00:00\", \"2017-10-01T00:00:00\", \"2017-11-01T00:00:00\", \"2017-12-01T00:00:00\", \"2018-01-01T00:00:00\", \"2018-02-01T00:00:00\", \"2018-03-01T00:00:00\", \"2018-04-01T00:00:00\", \"2018-05-01T00:00:00\", \"2018-06-01T00:00:00\", \"2018-07-01T00:00:00\", \"2018-08-01T00:00:00\", \"2018-09-01T00:00:00\", \"2018-10-01T00:00:00\", \"2018-11-01T00:00:00\", \"2018-12-01T00:00:00\", \"2019-01-01T00:00:00\", \"2019-02-01T00:00:00\", \"2019-03-01T00:00:00\", \"2019-04-01T00:00:00\", \"2019-05-01T00:00:00\", \"2019-06-01T00:00:00\", \"2019-07-01T00:00:00\", \"2019-08-01T00:00:00\", \"2019-09-01T00:00:00\", \"2019-10-01T00:00:00\", \"2019-11-01T00:00:00\", \"2019-12-01T00:00:00\", \"2020-01-01T00:00:00\", \"2020-02-01T00:00:00\", \"2020-03-01T00:00:00\", \"2020-04-01T00:00:00\", \"2020-05-01T00:00:00\"], \"xaxis\": \"x\", \"y\": [-0.10801043457418132, -0.12479403473243351, -0.09410256268876643, -0.11018260699641355, -0.06046939770417219, -0.0978802406605326, -0.08502489148711051, -0.06180297064649375, -0.07752041275994816, -0.10531828647191634, -0.14442355247507574, -0.15268595944564634, -0.10978266090669259, -0.10207490286687287, -0.08312538385140991, -0.09089060369594153, -0.018505883434420303, -0.04239758731376387, -0.11708672542856587, -0.12283997841910058, -0.124845904211319, -0.14035783754510375, -0.1477966149538584, -0.12181552261298081, -0.10486314663572573, -0.09941935928609813, -0.09584694560104165, -0.08918012661887495, -0.05876726114089574, -0.046091473104482264, -0.05571004075061647, -0.07028025844430061, -0.06159142071079569, -0.07257155359842644, -0.04789795175636571, -0.07341848846281286, -0.07636168198389695, -0.08919728800360704, -0.09350259240819182, -0.09757160093840085, -0.09306371736610247, -0.09997772147401424, -0.10203532281427828, -0.11754952634502035, -0.09787908382357267, -0.08608386906938248, -0.06822699281381452, -0.07034886308856228, -0.06456531596626995, -0.05095076900762667, -0.043066299196157655, -0.044432985823370144, -0.05177187814084134, -0.03715959205714307, -0.08721644869598137, -0.06954521296872163, -0.06882995417195391, -0.05245751390751635, -0.05314905436642362, -0.057936410753133806, -0.05106109919400377, -0.06451163494492278, -0.06747153233066934, -0.09649288640322291, -0.027873654722488244, -0.04040770475182325, -0.1056764944852463, -0.11329573075863451, -0.11617421450477868, -0.093568216787237, -0.08033458536869469, -0.11126489939922732, -0.12218348971727903, -0.13579211823138868, -0.1100334052007526, -0.10288149301597854, -0.035237060565852324, -0.06430515408537003, -0.10466270647662361, -0.11202391233737433, -0.10746130303906452, -0.0878422938292913, -0.08308645775863478, -0.072774951657495, -0.09341642409485193, -0.0665497976076503, -0.048671062209341996, 0.020474639085475158, 0.0036114872385688227], \"yaxis\": \"y\"}, {\"hoverlabel\": {\"namelength\": 0}, \"hovertemplate\": \"Word=staff<br>Month=%{x}<br>Coef=%{y}\", \"legendgroup\": \"Word=staff\", \"line\": {\"color\": \"#FFA15A\", \"dash\": \"solid\"}, \"mode\": \"lines\", \"name\": \"Word=staff\", \"showlegend\": true, \"type\": \"scattergl\", \"x\": [\"2013-02-01T00:00:00\", \"2013-03-01T00:00:00\", \"2013-04-01T00:00:00\", \"2013-08-01T00:00:00\", \"2013-09-01T00:00:00\", \"2013-10-01T00:00:00\", \"2013-11-01T00:00:00\", \"2013-12-01T00:00:00\", \"2014-01-01T00:00:00\", \"2014-02-01T00:00:00\", \"2014-03-01T00:00:00\", \"2014-04-01T00:00:00\", \"2014-07-01T00:00:00\", \"2014-08-01T00:00:00\", \"2014-09-01T00:00:00\", \"2014-10-01T00:00:00\", \"2014-11-01T00:00:00\", \"2014-12-01T00:00:00\", \"2015-01-01T00:00:00\", \"2015-02-01T00:00:00\", \"2015-03-01T00:00:00\", \"2015-04-01T00:00:00\", \"2015-05-01T00:00:00\", \"2015-06-01T00:00:00\", \"2015-07-01T00:00:00\", \"2015-08-01T00:00:00\", \"2015-09-01T00:00:00\", \"2015-10-01T00:00:00\", \"2015-11-01T00:00:00\", \"2015-12-01T00:00:00\", \"2016-01-01T00:00:00\", \"2016-02-01T00:00:00\", \"2016-03-01T00:00:00\", \"2016-04-01T00:00:00\", \"2016-05-01T00:00:00\", \"2016-06-01T00:00:00\", \"2016-07-01T00:00:00\", \"2016-08-01T00:00:00\", \"2016-09-01T00:00:00\", \"2016-10-01T00:00:00\", \"2016-11-01T00:00:00\", \"2016-12-01T00:00:00\", \"2017-01-01T00:00:00\", \"2017-02-01T00:00:00\", \"2017-03-01T00:00:00\", \"2017-04-01T00:00:00\", \"2017-05-01T00:00:00\", \"2017-06-01T00:00:00\", \"2017-07-01T00:00:00\", \"2017-08-01T00:00:00\", \"2017-09-01T00:00:00\", \"2017-10-01T00:00:00\", \"2017-11-01T00:00:00\", \"2017-12-01T00:00:00\", \"2018-01-01T00:00:00\", \"2018-02-01T00:00:00\", \"2018-03-01T00:00:00\", \"2018-04-01T00:00:00\", \"2018-05-01T00:00:00\", \"2018-06-01T00:00:00\", \"2018-07-01T00:00:00\", \"2018-08-01T00:00:00\", \"2018-09-01T00:00:00\", \"2018-10-01T00:00:00\", \"2018-11-01T00:00:00\", \"2018-12-01T00:00:00\", \"2019-01-01T00:00:00\", \"2019-02-01T00:00:00\", \"2019-03-01T00:00:00\", \"2019-04-01T00:00:00\", \"2019-05-01T00:00:00\", \"2019-06-01T00:00:00\", \"2019-07-01T00:00:00\", \"2019-08-01T00:00:00\", \"2019-09-01T00:00:00\", \"2019-10-01T00:00:00\", \"2019-11-01T00:00:00\", \"2019-12-01T00:00:00\", \"2020-01-01T00:00:00\", \"2020-03-01T00:00:00\", \"2020-04-01T00:00:00\", \"2020-05-01T00:00:00\"], \"xaxis\": \"x\", \"y\": [0.015454061718375827, 0.014574290397279678, 0.013680690233477262, 0.009678047695720426, 0.008565606596980715, 0.006146009669650963, -0.003320246220094016, -0.016586398947717594, 0.005579930008995428, 0.016484379274244166, 0.02394020990734924, 0.010662763075925216, -0.017178098678866188, -0.010328049341601609, -0.0076370392771059475, 0.018494668655245062, 0.019439052493043722, 0.01679246282724747, 0.007212562511566381, 0.002619434353103981, -0.008796339551707156, -0.020550922433801248, 0.0060180149767367136, 0.008994552406832642, 0.012388024000287256, -0.004276034684847342, 0.0005192298369104694, -0.004763629735535973, -0.0020076727569845725, 0.0448458750464705, 0.040253592796291614, 0.050997915386513604, 0.013702939735855752, 0.005066775642993981, -0.01995681228151909, -0.05252450520081815, -0.04246930719001416, -0.009938049130453451, 0.01862794494295983, 0.029544912030123275, 0.02530970448179371, 0.02864896427207831, 0.03664096671269807, 0.00924325626347221, -0.001524305190296468, 0.007506610896436473, 0.00861131394087174, 0.022090229660336354, 0.014116709895280253, 0.009206440095277005, 0.01698595391000965, 0.010173486357554457, 0.04557079051408933, 0.0635782714263413, 0.07301290637834981, 0.06490922457103777, 0.05041979571234921, 0.027280858650931845, 0.01988764351016081, 0.01066578711664604, 0.017335790152644356, 0.02804958659227415, 0.03638356123761473, 0.026467775951374114, -0.0012494743034987556, -0.0013841034784103693, -0.00402341155652154, 0.0049861050881884585, 0.003764850313596127, 0.00484225752244826, 0.012702266723155742, 0.008939805293114693, 0.02204845845834422, 0.01692465508429261, 0.023243497385196116, 0.01925675426042709, 0.023681944599931636, 0.010132411519099785, -0.0010443783020062068, -0.0010838366782007802, -0.0006248624153366515, -0.0022060141841161347], \"yaxis\": \"y\"}, {\"hoverlabel\": {\"namelength\": 0}, \"hovertemplate\": \"Word=circulation<br>Month=%{x}<br>Coef=%{y}\", \"legendgroup\": \"Word=circulation\", \"line\": {\"color\": \"#19d3f3\", \"dash\": \"solid\"}, \"mode\": \"lines\", \"name\": \"Word=circulation\", \"showlegend\": true, \"type\": \"scattergl\", \"x\": [\"2013-02-01T00:00:00\", \"2013-03-01T00:00:00\", \"2013-04-01T00:00:00\", \"2013-07-01T00:00:00\", \"2013-08-01T00:00:00\", \"2013-09-01T00:00:00\", \"2013-10-01T00:00:00\", \"2013-11-01T00:00:00\", \"2013-12-01T00:00:00\", \"2014-01-01T00:00:00\", \"2014-02-01T00:00:00\", \"2014-03-01T00:00:00\", \"2014-04-01T00:00:00\", \"2014-05-01T00:00:00\", \"2014-06-01T00:00:00\", \"2014-07-01T00:00:00\", \"2014-08-01T00:00:00\", \"2014-09-01T00:00:00\", \"2014-10-01T00:00:00\", \"2014-11-01T00:00:00\", \"2014-12-01T00:00:00\", \"2015-01-01T00:00:00\", \"2015-02-01T00:00:00\", \"2015-03-01T00:00:00\", \"2015-04-01T00:00:00\", \"2015-05-01T00:00:00\", \"2015-06-01T00:00:00\", \"2015-07-01T00:00:00\", \"2015-08-01T00:00:00\", \"2015-09-01T00:00:00\", \"2015-10-01T00:00:00\", \"2015-11-01T00:00:00\", \"2015-12-01T00:00:00\", \"2016-01-01T00:00:00\", \"2016-02-01T00:00:00\", \"2016-03-01T00:00:00\", \"2016-04-01T00:00:00\", \"2016-05-01T00:00:00\", \"2016-06-01T00:00:00\", \"2016-07-01T00:00:00\", \"2016-08-01T00:00:00\", \"2016-09-01T00:00:00\", \"2016-10-01T00:00:00\", \"2016-11-01T00:00:00\", \"2016-12-01T00:00:00\", \"2017-01-01T00:00:00\", \"2017-02-01T00:00:00\", \"2017-03-01T00:00:00\", \"2017-04-01T00:00:00\", \"2017-05-01T00:00:00\", \"2017-06-01T00:00:00\", \"2017-07-01T00:00:00\", \"2017-08-01T00:00:00\", \"2017-09-01T00:00:00\", \"2017-10-01T00:00:00\", \"2017-11-01T00:00:00\", \"2017-12-01T00:00:00\", \"2018-01-01T00:00:00\", \"2018-02-01T00:00:00\", \"2018-03-01T00:00:00\", \"2018-04-01T00:00:00\", \"2018-05-01T00:00:00\", \"2018-06-01T00:00:00\", \"2018-07-01T00:00:00\", \"2018-08-01T00:00:00\", \"2018-09-01T00:00:00\", \"2018-10-01T00:00:00\", \"2018-11-01T00:00:00\", \"2018-12-01T00:00:00\", \"2019-01-01T00:00:00\", \"2019-02-01T00:00:00\", \"2019-03-01T00:00:00\", \"2019-04-01T00:00:00\", \"2019-06-01T00:00:00\", \"2019-07-01T00:00:00\", \"2019-08-01T00:00:00\", \"2019-09-01T00:00:00\", \"2019-10-01T00:00:00\", \"2020-01-01T00:00:00\", \"2020-02-01T00:00:00\", \"2020-03-01T00:00:00\", \"2020-04-01T00:00:00\", \"2020-05-01T00:00:00\"], \"xaxis\": \"x\", \"y\": [-0.0008337104608655075, -0.0011156155754351365, 0.0005230422019377637, 0.00541341800198923, 0.02092169160531576, 0.010913044074826692, -0.012446923347969718, -0.02729910981136864, -0.0603508828135233, -0.036933017770481795, -0.04855985484783707, -0.031005340344890584, -0.05914085327773215, -0.04063894564432974, -0.04966866488086948, 0.008068156855880342, -0.0015471678665923308, -0.0020088162545596044, -0.03701679561284527, -0.041491492221391826, -0.08023749218439567, -0.08340999434308466, -0.10292592467110001, -0.08705782059049107, -0.07693429777863894, -0.04977120878791805, -0.03957892979473263, -0.045087160745912264, -0.01185416640492228, -0.02390867713294603, -0.0030690006375611186, -0.03135102152286885, -0.021052621400530932, -0.03512601029811512, -0.011161174006060528, -0.026334948495538794, 0.0056803692859708444, 0.036651711036256765, 0.019357960996767298, 0.010158648671325748, -0.006130540425587195, 0.007072941391093487, 0.004680941359279294, 0.04804851533913001, 0.05698081664323656, 0.05770428753900723, 0.05566322880785848, 0.02812497814886847, 0.04734054863170918, 0.018941049632554635, 0.03035164704818364, 0.030895582155448815, 0.01604042676116238, 0.01652994085842593, -0.006202612030004724, 0.012616021182314146, 0.00026894057211040734, 0.012306774738692215, 0.01397704421123036, 0.017790436060741918, 0.004406038558404703, 7.192237338530962e-05, -0.00021009370639534365, 0.058559802734740166, 0.07493730184143868, 0.08327704035238645, 0.059418041508498304, 0.035610425502918805, 0.013152793776839871, -0.0061363122411557175, 0.015543931912073958, 0.02045202383843197, 0.02270896887638281, 0.01674587748303879, 0.013383818371553852, 0.04447531017071134, 0.035605049162258456, 0.03640163696769054, 0.003403596733783897, 0.008860022086057594, 0.014772131925624597, 0.010578412531032259, -0.012085553857611595], \"yaxis\": \"y\"}, {\"hoverlabel\": {\"namelength\": 0}, \"hovertemplate\": \"Word=copy<br>Month=%{x}<br>Coef=%{y}\", \"legendgroup\": \"Word=copy\", \"line\": {\"color\": \"#FF6692\", \"dash\": \"solid\"}, \"mode\": \"lines\", \"name\": \"Word=copy\", \"showlegend\": true, \"type\": \"scattergl\", \"x\": [\"2013-03-01T00:00:00\", \"2013-04-01T00:00:00\", \"2013-05-01T00:00:00\", \"2013-06-01T00:00:00\", \"2013-07-01T00:00:00\", \"2013-08-01T00:00:00\", \"2013-09-01T00:00:00\", \"2013-10-01T00:00:00\", \"2013-11-01T00:00:00\", \"2013-12-01T00:00:00\", \"2014-01-01T00:00:00\", \"2014-02-01T00:00:00\", \"2014-03-01T00:00:00\", \"2014-04-01T00:00:00\", \"2014-05-01T00:00:00\", \"2014-06-01T00:00:00\", \"2014-07-01T00:00:00\", \"2014-08-01T00:00:00\", \"2014-09-01T00:00:00\", \"2014-10-01T00:00:00\", \"2014-11-01T00:00:00\", \"2014-12-01T00:00:00\", \"2015-01-01T00:00:00\", \"2015-02-01T00:00:00\", \"2015-03-01T00:00:00\", \"2015-04-01T00:00:00\", \"2015-07-01T00:00:00\", \"2015-08-01T00:00:00\", \"2015-09-01T00:00:00\", \"2015-10-01T00:00:00\", \"2015-11-01T00:00:00\", \"2015-12-01T00:00:00\", \"2016-01-01T00:00:00\", \"2016-02-01T00:00:00\", \"2016-03-01T00:00:00\", \"2016-04-01T00:00:00\", \"2016-05-01T00:00:00\", \"2016-06-01T00:00:00\", \"2016-07-01T00:00:00\", \"2016-08-01T00:00:00\", \"2016-09-01T00:00:00\", \"2016-10-01T00:00:00\", \"2016-11-01T00:00:00\", \"2016-12-01T00:00:00\", \"2017-01-01T00:00:00\", \"2017-02-01T00:00:00\", \"2017-03-01T00:00:00\", \"2017-04-01T00:00:00\", \"2017-05-01T00:00:00\", \"2017-06-01T00:00:00\", \"2017-07-01T00:00:00\", \"2017-08-01T00:00:00\", \"2017-09-01T00:00:00\", \"2017-10-01T00:00:00\", \"2017-11-01T00:00:00\", \"2017-12-01T00:00:00\", \"2018-01-01T00:00:00\", \"2018-02-01T00:00:00\", \"2018-03-01T00:00:00\", \"2018-04-01T00:00:00\", \"2018-05-01T00:00:00\", \"2018-06-01T00:00:00\", \"2018-07-01T00:00:00\", \"2018-08-01T00:00:00\", \"2018-09-01T00:00:00\", \"2018-10-01T00:00:00\", \"2018-11-01T00:00:00\", \"2018-12-01T00:00:00\", \"2019-01-01T00:00:00\", \"2019-02-01T00:00:00\", \"2019-03-01T00:00:00\", \"2019-04-01T00:00:00\", \"2019-05-01T00:00:00\", \"2019-06-01T00:00:00\", \"2019-07-01T00:00:00\", \"2019-08-01T00:00:00\", \"2019-09-01T00:00:00\", \"2019-10-01T00:00:00\", \"2019-11-01T00:00:00\", \"2019-12-01T00:00:00\", \"2020-01-01T00:00:00\", \"2020-02-01T00:00:00\", \"2020-03-01T00:00:00\", \"2020-04-01T00:00:00\", \"2020-05-01T00:00:00\"], \"xaxis\": \"x\", \"y\": [-0.027440457834538586, -0.04676052204399965, -0.017599233518446913, -0.022169656152035335, -0.022645315105656996, -0.05272573996576, -0.050013150754903486, -0.03126266811603393, -0.004929887308101834, -0.01326008306118746, 0.021249742625536104, 0.03949374903644048, 0.032963280657360844, -0.003302133732173981, -0.0314583109926781, -0.01886774949405913, -0.010643493072283353, 0.008432565653022623, -0.01474232547150396, -0.033684108103535705, -0.03995819340127922, -0.04062664301174589, -0.030411521112099556, -0.010617378903498106, -0.0038416739368515003, 0.012781915219141767, 0.015303973477489812, -0.006172777962973721, -0.009262590099788701, -0.0074492746969576145, 0.05023811154880088, 0.022026655574432376, -0.00514096546062481, -0.029409330685708834, -0.0064756554842687305, -0.0010326878199760584, 0.026363246578470972, 0.01314838330163949, 0.022955619289441, 0.005178012274998864, -0.006000144367383469, -0.014330403324936743, 0.008229361757448941, 0.005261069223588431, 0.024040230664038598, 0.023381755660392398, 0.02576726519305064, -0.006602767607144041, -0.009622534830213678, 0.012558994537479513, -0.0021065486329613367, 0.03695504940528193, 0.07145879671519777, 0.09221202771409635, 0.0684419011377664, 0.02634726409830445, 0.02534589882861453, 0.035351081647770954, 0.04942576609093277, 0.04238669171217916, 0.04483308516241485, 0.017158941118856286, 0.0026372629923110814, 0.00831737019091587, -0.005302651139093516, 0.00307523459139247, -0.016222843327231482, 0.003420240140518259, 0.01502466275839312, 0.013003789230610971, -0.007577297202559345, -0.03130811419814616, -0.036594039255517054, 0.01130179706728411, 0.01716761156571122, 0.024573406176840062, 0.017893499728937914, 0.0072725070586744526, 0.01120438212282718, 0.010424334793892579, -0.006215496300211505, 0.020977223504324394, 0.0156604299187731, 0.04396907464495314, 0.021116690375700953], \"yaxis\": \"y\"}, {\"hoverlabel\": {\"namelength\": 0}, \"hovertemplate\": \"Word=music<br>Month=%{x}<br>Coef=%{y}\", \"legendgroup\": \"Word=music\", \"line\": {\"color\": \"#B6E880\", \"dash\": \"solid\"}, \"mode\": \"lines\", \"name\": \"Word=music\", \"showlegend\": true, \"type\": \"scattergl\", \"x\": [\"2013-07-01T00:00:00\", \"2013-08-01T00:00:00\", \"2013-09-01T00:00:00\", \"2013-10-01T00:00:00\", \"2013-11-01T00:00:00\", \"2013-12-01T00:00:00\", \"2014-01-01T00:00:00\", \"2014-02-01T00:00:00\", \"2014-03-01T00:00:00\", \"2014-04-01T00:00:00\", \"2014-05-01T00:00:00\", \"2014-06-01T00:00:00\", \"2014-07-01T00:00:00\", \"2014-08-01T00:00:00\", \"2014-09-01T00:00:00\", \"2014-10-01T00:00:00\", \"2014-11-01T00:00:00\", \"2014-12-01T00:00:00\", \"2015-01-01T00:00:00\", \"2015-02-01T00:00:00\", \"2015-03-01T00:00:00\", \"2015-04-01T00:00:00\", \"2015-08-01T00:00:00\", \"2015-09-01T00:00:00\", \"2015-10-01T00:00:00\", \"2015-12-01T00:00:00\", \"2016-01-01T00:00:00\", \"2016-02-01T00:00:00\", \"2016-03-01T00:00:00\", \"2016-04-01T00:00:00\", \"2016-05-01T00:00:00\", \"2016-06-01T00:00:00\", \"2016-07-01T00:00:00\", \"2016-08-01T00:00:00\", \"2016-09-01T00:00:00\", \"2016-10-01T00:00:00\", \"2016-11-01T00:00:00\", \"2016-12-01T00:00:00\", \"2017-01-01T00:00:00\", \"2017-02-01T00:00:00\", \"2017-03-01T00:00:00\", \"2017-04-01T00:00:00\", \"2017-05-01T00:00:00\", \"2017-06-01T00:00:00\", \"2017-07-01T00:00:00\", \"2017-08-01T00:00:00\", \"2017-09-01T00:00:00\", \"2017-10-01T00:00:00\", \"2017-11-01T00:00:00\", \"2017-12-01T00:00:00\", \"2018-01-01T00:00:00\", \"2018-02-01T00:00:00\", \"2018-03-01T00:00:00\", \"2018-04-01T00:00:00\", \"2018-05-01T00:00:00\", \"2018-06-01T00:00:00\", \"2018-07-01T00:00:00\", \"2018-08-01T00:00:00\", \"2018-09-01T00:00:00\", \"2018-10-01T00:00:00\", \"2018-11-01T00:00:00\", \"2018-12-01T00:00:00\", \"2019-01-01T00:00:00\", \"2019-02-01T00:00:00\", \"2019-03-01T00:00:00\", \"2019-04-01T00:00:00\", \"2019-07-01T00:00:00\", \"2019-08-01T00:00:00\", \"2019-09-01T00:00:00\", \"2019-10-01T00:00:00\", \"2019-11-01T00:00:00\"], \"xaxis\": \"x\", \"y\": [0.015103426508985076, 0.027735686789454157, 0.0420188587173026, 0.019320245604009786, -0.0005154015606938192, -0.035535791122373615, -0.014525499018895837, 0.027176039855537674, 0.045883337411563765, 0.031846066647077544, -0.002853913249530711, 0.006049134967513429, -0.006710001872503195, 0.017773347727850768, 0.023965813036489234, 0.06129876558191379, 0.013802399222442476, -0.002452142455844902, -0.02120411414481174, -0.020801050825744148, -0.013127964842287777, -0.01262450584200419, -0.004753539068720178, -0.004319127451963641, -0.003450463686884948, 0.00833082669423956, -0.009521131866498063, -0.020482827548765754, -0.037888416081301876, -0.007576436374978294, 0.003962975022868628, 0.006284269536047552, -0.014640848027404658, 0.02303015586208857, 0.03531776339691888, 0.040608715540465516, -0.0018219723513218256, -0.030891490856988807, -0.00988568056669167, 0.007000852482398462, 0.03483445599308632, 0.026280028142808724, 0.02956372846463166, 0.01823655167887947, 0.00365445680124476, -0.003961185974252577, -0.012553904208510346, -0.013612628408207714, -0.024084560124587037, -0.04934960696717946, -0.026160927991300115, 0.02925451088983756, 0.046788710986370774, 0.023709042650051717, -0.03962080710566641, -0.003994954806157206, -0.0038126839511453165, -0.005465305663232369, -0.009837879599328485, 0.009460255651771122, 0.020246783005153937, 0.026646913617711078, 0.0158223663017102, 0.028895711731212963, 0.027121683544142634, 0.03004656934719447, -0.013190634177374786, -0.008846951008519276, -0.006022666248687805, 0.0031240118451524553, 0.0016909148430008885], \"yaxis\": \"y\"}, {\"hoverlabel\": {\"namelength\": 0}, \"hovertemplate\": \"Word=art<br>Month=%{x}<br>Coef=%{y}\", \"legendgroup\": \"Word=art\", \"line\": {\"color\": \"#FF97FF\", \"dash\": \"solid\"}, \"mode\": \"lines\", \"name\": \"Word=art\", \"showlegend\": true, \"type\": \"scattergl\", \"x\": [\"2014-03-01T00:00:00\", \"2014-04-01T00:00:00\", \"2014-05-01T00:00:00\", \"2014-06-01T00:00:00\", \"2014-07-01T00:00:00\", \"2014-08-01T00:00:00\", \"2014-09-01T00:00:00\", \"2014-10-01T00:00:00\", \"2014-11-01T00:00:00\", \"2014-12-01T00:00:00\", \"2015-07-01T00:00:00\", \"2015-08-01T00:00:00\", \"2015-09-01T00:00:00\", \"2015-10-01T00:00:00\", \"2015-11-01T00:00:00\", \"2015-12-01T00:00:00\", \"2016-01-01T00:00:00\", \"2016-02-01T00:00:00\", \"2016-03-01T00:00:00\", \"2016-04-01T00:00:00\", \"2016-06-01T00:00:00\", \"2016-07-01T00:00:00\", \"2016-08-01T00:00:00\", \"2016-09-01T00:00:00\", \"2016-10-01T00:00:00\", \"2016-11-01T00:00:00\", \"2016-12-01T00:00:00\", \"2017-01-01T00:00:00\", \"2017-02-01T00:00:00\", \"2017-03-01T00:00:00\", \"2017-04-01T00:00:00\", \"2017-06-01T00:00:00\", \"2017-07-01T00:00:00\", \"2017-08-01T00:00:00\", \"2017-09-01T00:00:00\", \"2017-10-01T00:00:00\", \"2017-11-01T00:00:00\", \"2017-12-01T00:00:00\", \"2018-01-01T00:00:00\", \"2018-02-01T00:00:00\", \"2018-03-01T00:00:00\", \"2018-04-01T00:00:00\", \"2018-05-01T00:00:00\", \"2018-06-01T00:00:00\", \"2018-07-01T00:00:00\", \"2018-08-01T00:00:00\", \"2018-09-01T00:00:00\", \"2018-10-01T00:00:00\", \"2018-11-01T00:00:00\", \"2018-12-01T00:00:00\"], \"xaxis\": \"x\", \"y\": [-0.01604932443415777, -0.03505796742878465, -0.026676040874490946, -0.018867749494059123, -0.032648451842160704, -0.02577530036965013, -0.035790115712047786, -0.04560767939722738, -0.04619456372822854, -0.024250626785195656, 0.008889811905877777, -0.0027685868262437973, 0.009462807896821523, -0.0009713511691950631, -0.03784844399082539, -0.08480743259446029, -0.07553005794725762, -0.07165321679972166, -0.05514711397242684, -0.04589327369819166, -0.04809203242110525, -0.07739475734862221, -0.08015047272077788, -0.06821858784427379, -0.06189430175087104, -0.06722643295224202, -0.07865833193044852, -0.09315567022820186, -0.09986137161713511, -0.0942224567409255, -0.08130879023701736, -0.07215643357981205, -0.08731827826018411, -0.09963131482236613, -0.09829112330159419, -0.11037427645091072, -0.10884689133994312, -0.09731494011731273, -0.0938850339519658, -0.11434386710165713, -0.09222990528435222, -0.07402641961291132, -0.040182614525718564, -0.07431318396465031, -0.1003009445150511, -0.10569925468343426, -0.1119452285142021, -0.09638543896172583, -0.09967319968864996, -0.040115572458639975], \"yaxis\": \"y\"}, {\"hoverlabel\": {\"namelength\": 0}, \"hovertemplate\": \"Word=analytics<br>Month=%{x}<br>Coef=%{y}\", \"legendgroup\": \"Word=analytics\", \"line\": {\"color\": \"#FECB52\", \"dash\": \"solid\"}, \"mode\": \"lines\", \"name\": \"Word=analytics\", \"showlegend\": true, \"type\": \"scattergl\", \"x\": [\"2014-08-01T00:00:00\", \"2014-09-01T00:00:00\", \"2014-10-01T00:00:00\", \"2014-11-01T00:00:00\", \"2015-07-01T00:00:00\", \"2015-08-01T00:00:00\", \"2015-09-01T00:00:00\", \"2015-10-01T00:00:00\", \"2015-11-01T00:00:00\", \"2015-12-01T00:00:00\", \"2016-01-01T00:00:00\", \"2016-02-01T00:00:00\", \"2016-03-01T00:00:00\", \"2016-04-01T00:00:00\", \"2016-05-01T00:00:00\", \"2016-06-01T00:00:00\", \"2016-07-01T00:00:00\", \"2016-08-01T00:00:00\", \"2016-09-01T00:00:00\", \"2016-10-01T00:00:00\", \"2016-11-01T00:00:00\", \"2016-12-01T00:00:00\", \"2017-01-01T00:00:00\", \"2017-02-01T00:00:00\", \"2017-03-01T00:00:00\", \"2017-04-01T00:00:00\", \"2017-05-01T00:00:00\", \"2017-06-01T00:00:00\", \"2017-07-01T00:00:00\", \"2017-08-01T00:00:00\", \"2017-09-01T00:00:00\", \"2017-10-01T00:00:00\", \"2017-11-01T00:00:00\", \"2017-12-01T00:00:00\", \"2018-01-01T00:00:00\", \"2018-02-01T00:00:00\", \"2018-03-01T00:00:00\", \"2018-04-01T00:00:00\", \"2018-05-01T00:00:00\", \"2018-06-01T00:00:00\", \"2018-07-01T00:00:00\", \"2018-08-01T00:00:00\", \"2018-09-01T00:00:00\", \"2018-10-01T00:00:00\", \"2018-11-01T00:00:00\", \"2018-12-01T00:00:00\", \"2019-01-01T00:00:00\", \"2019-02-01T00:00:00\", \"2019-03-01T00:00:00\", \"2019-04-01T00:00:00\", \"2019-05-01T00:00:00\", \"2019-06-01T00:00:00\", \"2019-07-01T00:00:00\", \"2019-08-01T00:00:00\", \"2019-09-01T00:00:00\", \"2019-10-01T00:00:00\", \"2020-03-01T00:00:00\", \"2020-04-01T00:00:00\", \"2020-05-01T00:00:00\"], \"xaxis\": \"x\", \"y\": [-0.010282114096939637, -0.013398700102335676, -0.015133716742219895, -0.004574616117575424, -0.004355725666201128, -0.03142185715255521, -0.04875804401050546, -0.06696176808581587, -0.06784259904102964, -0.06028850819009607, -0.06876833128438264, -0.0643645755039547, -0.0561840034601448, -0.02009318728489597, 0.014774912550480083, 0.010838606580310418, 0.008789266773182331, -0.014783868431399894, -0.022099017185008896, -0.0345254849826178, -0.045964485267685776, -0.05537950858420823, -0.04747161472293055, -0.07710069330205441, -0.05778733709240712, -0.0439896975769147, 0.025456941031594498, 0.017323264792918375, 0.03883800374046873, 0.07343333949922135, 0.0742284678965692, 0.06770746625888424, 0.021229382079458892, -0.0041493319569911365, 0.03392313513059642, 0.07049675085024004, 0.08635531721068758, 0.03981790507848343, 0.01127507322139318, 0.009228125098446319, 0.02373606615644205, 0.0317476715523421, 0.03095417749426223, 0.026494696431735125, 0.0353481925721717, 0.024037941239501294, 0.01846457181020225, 0.004318507179904786, -0.007388837493605124, -0.016852715538642194, 0.01000030383563682, 0.021108870691324114, 0.030766852826569296, 0.0362342917927115, 0.03339020973811672, 0.0341867975435488, 0.011208922997985397, 0.0055170448345624335, 0.002256280911060338], \"yaxis\": \"y\"}],\n",
              "                        {\"legend\": {\"tracegroupgap\": 0}, \"margin\": {\"t\": 60}, \"template\": {\"data\": {\"bar\": [{\"error_x\": {\"color\": \"#2a3f5f\"}, \"error_y\": {\"color\": \"#2a3f5f\"}, \"marker\": {\"line\": {\"color\": \"#E5ECF6\", \"width\": 0.5}}, \"type\": \"bar\"}], \"barpolar\": [{\"marker\": {\"line\": {\"color\": \"#E5ECF6\", \"width\": 0.5}}, \"type\": \"barpolar\"}], \"carpet\": [{\"aaxis\": {\"endlinecolor\": \"#2a3f5f\", \"gridcolor\": \"white\", \"linecolor\": \"white\", \"minorgridcolor\": \"white\", \"startlinecolor\": \"#2a3f5f\"}, \"baxis\": {\"endlinecolor\": \"#2a3f5f\", \"gridcolor\": \"white\", \"linecolor\": \"white\", \"minorgridcolor\": \"white\", \"startlinecolor\": \"#2a3f5f\"}, \"type\": \"carpet\"}], \"choropleth\": [{\"colorbar\": {\"outlinewidth\": 0, \"ticks\": \"\"}, \"type\": \"choropleth\"}], \"contour\": [{\"colorbar\": {\"outlinewidth\": 0, \"ticks\": \"\"}, \"colorscale\": [[0.0, \"#0d0887\"], [0.1111111111111111, \"#46039f\"], [0.2222222222222222, \"#7201a8\"], [0.3333333333333333, \"#9c179e\"], [0.4444444444444444, \"#bd3786\"], [0.5555555555555556, \"#d8576b\"], [0.6666666666666666, \"#ed7953\"], [0.7777777777777778, \"#fb9f3a\"], [0.8888888888888888, \"#fdca26\"], [1.0, \"#f0f921\"]], \"type\": \"contour\"}], \"contourcarpet\": [{\"colorbar\": {\"outlinewidth\": 0, \"ticks\": \"\"}, \"type\": \"contourcarpet\"}], \"heatmap\": [{\"colorbar\": {\"outlinewidth\": 0, \"ticks\": \"\"}, \"colorscale\": [[0.0, \"#0d0887\"], [0.1111111111111111, \"#46039f\"], [0.2222222222222222, \"#7201a8\"], [0.3333333333333333, \"#9c179e\"], [0.4444444444444444, \"#bd3786\"], [0.5555555555555556, \"#d8576b\"], [0.6666666666666666, \"#ed7953\"], [0.7777777777777778, \"#fb9f3a\"], [0.8888888888888888, \"#fdca26\"], [1.0, \"#f0f921\"]], \"type\": \"heatmap\"}], \"heatmapgl\": [{\"colorbar\": {\"outlinewidth\": 0, \"ticks\": \"\"}, \"colorscale\": [[0.0, \"#0d0887\"], [0.1111111111111111, \"#46039f\"], [0.2222222222222222, \"#7201a8\"], [0.3333333333333333, \"#9c179e\"], [0.4444444444444444, \"#bd3786\"], [0.5555555555555556, \"#d8576b\"], [0.6666666666666666, \"#ed7953\"], [0.7777777777777778, \"#fb9f3a\"], [0.8888888888888888, \"#fdca26\"], [1.0, \"#f0f921\"]], \"type\": \"heatmapgl\"}], \"histogram\": [{\"marker\": {\"colorbar\": {\"outlinewidth\": 0, \"ticks\": \"\"}}, \"type\": \"histogram\"}], \"histogram2d\": [{\"colorbar\": {\"outlinewidth\": 0, \"ticks\": \"\"}, \"colorscale\": [[0.0, \"#0d0887\"], [0.1111111111111111, \"#46039f\"], [0.2222222222222222, \"#7201a8\"], [0.3333333333333333, \"#9c179e\"], [0.4444444444444444, \"#bd3786\"], [0.5555555555555556, \"#d8576b\"], [0.6666666666666666, \"#ed7953\"], [0.7777777777777778, \"#fb9f3a\"], [0.8888888888888888, \"#fdca26\"], [1.0, \"#f0f921\"]], \"type\": \"histogram2d\"}], \"histogram2dcontour\": [{\"colorbar\": {\"outlinewidth\": 0, \"ticks\": \"\"}, \"colorscale\": [[0.0, \"#0d0887\"], [0.1111111111111111, \"#46039f\"], [0.2222222222222222, \"#7201a8\"], [0.3333333333333333, \"#9c179e\"], [0.4444444444444444, \"#bd3786\"], [0.5555555555555556, \"#d8576b\"], [0.6666666666666666, \"#ed7953\"], [0.7777777777777778, \"#fb9f3a\"], [0.8888888888888888, \"#fdca26\"], [1.0, \"#f0f921\"]], \"type\": \"histogram2dcontour\"}], \"mesh3d\": [{\"colorbar\": {\"outlinewidth\": 0, \"ticks\": \"\"}, \"type\": \"mesh3d\"}], \"parcoords\": [{\"line\": {\"colorbar\": {\"outlinewidth\": 0, \"ticks\": \"\"}}, \"type\": \"parcoords\"}], \"pie\": [{\"automargin\": true, \"type\": \"pie\"}], \"scatter\": [{\"marker\": {\"colorbar\": {\"outlinewidth\": 0, \"ticks\": \"\"}}, \"type\": \"scatter\"}], \"scatter3d\": [{\"line\": {\"colorbar\": {\"outlinewidth\": 0, \"ticks\": \"\"}}, \"marker\": {\"colorbar\": {\"outlinewidth\": 0, \"ticks\": \"\"}}, \"type\": \"scatter3d\"}], \"scattercarpet\": [{\"marker\": {\"colorbar\": {\"outlinewidth\": 0, \"ticks\": \"\"}}, \"type\": \"scattercarpet\"}], \"scattergeo\": [{\"marker\": {\"colorbar\": {\"outlinewidth\": 0, \"ticks\": \"\"}}, \"type\": \"scattergeo\"}], \"scattergl\": [{\"marker\": {\"colorbar\": {\"outlinewidth\": 0, \"ticks\": \"\"}}, \"type\": \"scattergl\"}], \"scattermapbox\": [{\"marker\": {\"colorbar\": {\"outlinewidth\": 0, \"ticks\": \"\"}}, \"type\": \"scattermapbox\"}], \"scatterpolar\": [{\"marker\": {\"colorbar\": {\"outlinewidth\": 0, \"ticks\": \"\"}}, \"type\": \"scatterpolar\"}], \"scatterpolargl\": [{\"marker\": {\"colorbar\": {\"outlinewidth\": 0, \"ticks\": \"\"}}, \"type\": \"scatterpolargl\"}], \"scatterternary\": [{\"marker\": {\"colorbar\": {\"outlinewidth\": 0, \"ticks\": \"\"}}, \"type\": \"scatterternary\"}], \"surface\": [{\"colorbar\": {\"outlinewidth\": 0, \"ticks\": \"\"}, \"colorscale\": [[0.0, \"#0d0887\"], [0.1111111111111111, \"#46039f\"], [0.2222222222222222, \"#7201a8\"], [0.3333333333333333, \"#9c179e\"], [0.4444444444444444, \"#bd3786\"], [0.5555555555555556, \"#d8576b\"], [0.6666666666666666, \"#ed7953\"], [0.7777777777777778, \"#fb9f3a\"], [0.8888888888888888, \"#fdca26\"], [1.0, \"#f0f921\"]], \"type\": \"surface\"}], \"table\": [{\"cells\": {\"fill\": {\"color\": \"#EBF0F8\"}, \"line\": {\"color\": \"white\"}}, \"header\": {\"fill\": {\"color\": \"#C8D4E3\"}, \"line\": {\"color\": \"white\"}}, \"type\": \"table\"}]}, \"layout\": {\"annotationdefaults\": {\"arrowcolor\": \"#2a3f5f\", \"arrowhead\": 0, \"arrowwidth\": 1}, \"coloraxis\": {\"colorbar\": {\"outlinewidth\": 0, \"ticks\": \"\"}}, \"colorscale\": {\"diverging\": [[0, \"#8e0152\"], [0.1, \"#c51b7d\"], [0.2, \"#de77ae\"], [0.3, \"#f1b6da\"], [0.4, \"#fde0ef\"], [0.5, \"#f7f7f7\"], [0.6, \"#e6f5d0\"], [0.7, \"#b8e186\"], [0.8, \"#7fbc41\"], [0.9, \"#4d9221\"], [1, \"#276419\"]], \"sequential\": [[0.0, \"#0d0887\"], [0.1111111111111111, \"#46039f\"], [0.2222222222222222, \"#7201a8\"], [0.3333333333333333, \"#9c179e\"], [0.4444444444444444, \"#bd3786\"], [0.5555555555555556, \"#d8576b\"], [0.6666666666666666, \"#ed7953\"], [0.7777777777777778, \"#fb9f3a\"], [0.8888888888888888, \"#fdca26\"], [1.0, \"#f0f921\"]], \"sequentialminus\": [[0.0, \"#0d0887\"], [0.1111111111111111, \"#46039f\"], [0.2222222222222222, \"#7201a8\"], [0.3333333333333333, \"#9c179e\"], [0.4444444444444444, \"#bd3786\"], [0.5555555555555556, \"#d8576b\"], [0.6666666666666666, \"#ed7953\"], [0.7777777777777778, \"#fb9f3a\"], [0.8888888888888888, \"#fdca26\"], [1.0, \"#f0f921\"]]}, \"colorway\": [\"#636efa\", \"#EF553B\", \"#00cc96\", \"#ab63fa\", \"#FFA15A\", \"#19d3f3\", \"#FF6692\", \"#B6E880\", \"#FF97FF\", \"#FECB52\"], \"font\": {\"color\": \"#2a3f5f\"}, \"geo\": {\"bgcolor\": \"white\", \"lakecolor\": \"white\", \"landcolor\": \"#E5ECF6\", \"showlakes\": true, \"showland\": true, \"subunitcolor\": \"white\"}, \"hoverlabel\": {\"align\": \"left\"}, \"hovermode\": \"closest\", \"mapbox\": {\"style\": \"light\"}, \"paper_bgcolor\": \"white\", \"plot_bgcolor\": \"#E5ECF6\", \"polar\": {\"angularaxis\": {\"gridcolor\": \"white\", \"linecolor\": \"white\", \"ticks\": \"\"}, \"bgcolor\": \"#E5ECF6\", \"radialaxis\": {\"gridcolor\": \"white\", \"linecolor\": \"white\", \"ticks\": \"\"}}, \"scene\": {\"xaxis\": {\"backgroundcolor\": \"#E5ECF6\", \"gridcolor\": \"white\", \"gridwidth\": 2, \"linecolor\": \"white\", \"showbackground\": true, \"ticks\": \"\", \"zerolinecolor\": \"white\"}, \"yaxis\": {\"backgroundcolor\": \"#E5ECF6\", \"gridcolor\": \"white\", \"gridwidth\": 2, \"linecolor\": \"white\", \"showbackground\": true, \"ticks\": \"\", \"zerolinecolor\": \"white\"}, \"zaxis\": {\"backgroundcolor\": \"#E5ECF6\", \"gridcolor\": \"white\", \"gridwidth\": 2, \"linecolor\": \"white\", \"showbackground\": true, \"ticks\": \"\", \"zerolinecolor\": \"white\"}}, \"shapedefaults\": {\"line\": {\"color\": \"#2a3f5f\"}}, \"ternary\": {\"aaxis\": {\"gridcolor\": \"white\", \"linecolor\": \"white\", \"ticks\": \"\"}, \"baxis\": {\"gridcolor\": \"white\", \"linecolor\": \"white\", \"ticks\": \"\"}, \"bgcolor\": \"#E5ECF6\", \"caxis\": {\"gridcolor\": \"white\", \"linecolor\": \"white\", \"ticks\": \"\"}}, \"title\": {\"x\": 0.05}, \"xaxis\": {\"automargin\": true, \"gridcolor\": \"white\", \"linecolor\": \"white\", \"ticks\": \"\", \"title\": {\"standoff\": 15}, \"zerolinecolor\": \"white\", \"zerolinewidth\": 2}, \"yaxis\": {\"automargin\": true, \"gridcolor\": \"white\", \"linecolor\": \"white\", \"ticks\": \"\", \"title\": {\"standoff\": 15}, \"zerolinecolor\": \"white\", \"zerolinewidth\": 2}}}, \"xaxis\": {\"anchor\": \"y\", \"domain\": [0.0, 1.0], \"title\": {\"text\": \"Month\"}}, \"yaxis\": {\"anchor\": \"x\", \"domain\": [0.0, 1.0], \"title\": {\"text\": \"Coef\"}}},\n",
              "                        {\"responsive\": true}\n",
              "                    ).then(function(){\n",
              "                            \n",
              "var gd = document.getElementById('dec093af-b33a-4a49-a407-a8af2ac0e8a6');\n",
              "var x = new MutationObserver(function (mutations, observer) {{\n",
              "        var display = window.getComputedStyle(gd).display;\n",
              "        if (!display || display === 'none') {{\n",
              "            console.log([gd, 'removed!']);\n",
              "            Plotly.purge(gd);\n",
              "            observer.disconnect();\n",
              "        }}\n",
              "}});\n",
              "\n",
              "// Listen for the removal of the full notebook cells\n",
              "var notebookContainer = gd.closest('#notebook-container');\n",
              "if (notebookContainer) {{\n",
              "    x.observe(notebookContainer, {childList: true});\n",
              "}}\n",
              "\n",
              "// Listen for the clearing of the current output cell\n",
              "var outputEl = gd.closest('.output');\n",
              "if (outputEl) {{\n",
              "    x.observe(outputEl, {childList: true});\n",
              "}}\n",
              "\n",
              "                        })\n",
              "                };\n",
              "                \n",
              "            </script>\n",
              "        </div>\n",
              "</body>\n",
              "</html>"
            ]
          },
          "metadata": {
            "tags": []
          }
        }
      ]
    },
    {
      "cell_type": "markdown",
      "metadata": {
        "id": "XjvM0wlJTKMF"
      },
      "source": [
        "## Logistic Regression\n",
        "\n",
        "binary classification model on 75-25 buckets"
      ]
    },
    {
      "cell_type": "code",
      "metadata": {
        "id": "k1ggYQYHdSR4"
      },
      "source": [
        "from sklearn.metrics import accuracy_score, confusion_matrix, mean_squared_error, mean_absolute_error, recall_score, precision_score, f1_score, auc\r\n",
        "from sklearn.linear_model import LogisticRegression"
      ],
      "execution_count": null,
      "outputs": []
    },
    {
      "cell_type": "code",
      "metadata": {
        "id": "bXGdoa9geOBu"
      },
      "source": [
        "# function for computing the relevant metrics\r\n",
        "# to evaluate a classification model\r\n",
        "\r\n",
        "def get_classification_metrics(actual, pred):\r\n",
        "  print(confusion_matrix(actual, pred))\r\n",
        "  print('Accuracy: {}, Precision: {}, Recall: {}, F1 Score: {}'.format(\r\n",
        "      accuracy_score(actual, pred),\r\n",
        "      precision_score(actual, pred),\r\n",
        "      recall_score(actual, pred),\r\n",
        "      f1_score(actual, pred)))"
      ],
      "execution_count": null,
      "outputs": []
    },
    {
      "cell_type": "code",
      "metadata": {
        "id": "Fxp_cPNgbc7T"
      },
      "source": [
        "# Upsample minority\r\n",
        "train_df_upsampled = upsample_minority(train_df)\r\n",
        "\r\n",
        "# Vectorize words\r\n",
        "X_train_upsampled, X_test_upsampled, vec = convert_text_to_vectors(train_df_upsampled, test_df_upsampled, max_words = 2000, use_tfidf = False)\r\n",
        "\r\n",
        "y_train = train_df_upsampled['top25pct']\r\n",
        "y_test = test_df_upsampled['top25pct']"
      ],
      "execution_count": null,
      "outputs": []
    },
    {
      "cell_type": "code",
      "metadata": {
        "id": "zrXvxYqshsq1"
      },
      "source": [
        "from sklearn.model_selection import GridSearchCV"
      ],
      "execution_count": null,
      "outputs": []
    },
    {
      "cell_type": "code",
      "metadata": {
        "id": "drC68n0DhLMK"
      },
      "source": [
        "# function for tuning hyper parameters using GridSearch\r\n",
        "def hyp_tuning(model_list, param_grid_list, X_train, y_train, X_test, y_test):\r\n",
        "    for i in range(len(model_list)):\r\n",
        "        print(model_list[i])\r\n",
        "        grid_search = GridSearchCV(model_list[i], param_grid_list[i], cv = 5, scoring = 'accuracy')\r\n",
        "        grid_search.fit(X_train, y_train)\r\n",
        "        print('Best Parameters: {}'.format(grid_search.best_params_))\r\n",
        "        best_cross_val_score = grid_search.best_score_\r\n",
        "        print('Best Cross Validation Score: {}'.format(best_cross_val_score))\r\n",
        "        # Score on the test set\r\n",
        "        test_score = grid_search.score(X_test, y_test)\r\n",
        "        print('Test Set Score: {}'.format(test_score))"
      ],
      "execution_count": null,
      "outputs": []
    },
    {
      "cell_type": "code",
      "metadata": {
        "colab": {
          "base_uri": "https://localhost:8080/"
        },
        "id": "dgtmgKRLx8Uz",
        "outputId": "b90fe354-dd85-4f08-bfff-c658edf1db6e"
      },
      "source": [
        "# Hyper-parameter tuning for Logistic Regression\r\n",
        "param_grid_logistic = {'C': [0.001, 0.01, 0.1, 1, 10]}\r\n",
        "\r\n",
        "model_list = [LogisticRegression(max_iter = 1000)]\r\n",
        "param_grid_list = [param_grid_logistic]\r\n",
        "\r\n",
        "hyp_tuning(model_list, param_grid_list, X_train_upsampled, y_train, X_test_upsampled, y_test)"
      ],
      "execution_count": null,
      "outputs": [
        {
          "output_type": "stream",
          "text": [
            "LogisticRegression(C=1.0, class_weight=None, dual=False, fit_intercept=True,\n",
            "                   intercept_scaling=1, l1_ratio=None, max_iter=1000,\n",
            "                   multi_class='auto', n_jobs=None, penalty='l2',\n",
            "                   random_state=None, solver='lbfgs', tol=0.0001, verbose=0,\n",
            "                   warm_start=False)\n",
            "Best Parameters: {'C': 0.001}\n",
            "Best Cross Validation Score: 0.5778556575903491\n",
            "Test Set Score: 0.6240384615384615\n"
          ],
          "name": "stdout"
        }
      ]
    },
    {
      "cell_type": "code",
      "metadata": {
        "colab": {
          "base_uri": "https://localhost:8080/"
        },
        "id": "mepiFDxHdWnR",
        "outputId": "b041beef-6536-4cfa-838a-4ae51a7dec69"
      },
      "source": [
        "# running Logistic Regression on the training and testing data sets\r\n",
        "\r\n",
        "clf = LogisticRegression(C=0.001, random_state=0, max_iter=1000)\r\n",
        "clf.fit(X_train_upsampled, y_train)\r\n",
        "\r\n",
        "y_train_pred = clf.predict(X_train_upsampled)\r\n",
        "# Confusion Matrix\r\n",
        "print('Training')\r\n",
        "get_classification_metrics(y_train, y_train_pred)\r\n",
        "\r\n",
        "# Fit on test data\r\n",
        "y_test_pred = clf.predict(X_test_upsampled)\r\n",
        "print('Test')\r\n",
        "get_classification_metrics(y_test, y_test_pred)"
      ],
      "execution_count": null,
      "outputs": [
        {
          "output_type": "stream",
          "text": [
            "Training\n",
            "[[6881 5661]\n",
            " [3582 8960]]\n",
            "Accuracy: 0.6315180991867326, Precision: 0.6128171807673893, Recall: 0.7143996172859193, F1 Score: 0.6597209439310826\n",
            "Test\n",
            "[[1721 1399]\n",
            " [ 947 2173]]\n",
            "Accuracy: 0.6240384615384615, Precision: 0.6083426651735723, Recall: 0.6964743589743589, F1 Score: 0.6494321578003587\n"
          ],
          "name": "stdout"
        }
      ]
    },
    {
      "cell_type": "code",
      "metadata": {
        "id": "BexgLybi5jMO"
      },
      "source": [
        "# Save the predictions so that it can be used for ensemble\n",
        "test_df_upsampled['logistic_predictions_pos'] = y_test_pred"
      ],
      "execution_count": null,
      "outputs": []
    },
    {
      "cell_type": "markdown",
      "metadata": {
        "id": "5BqxBbUpTOhr"
      },
      "source": [
        "## Random Forest\n",
        "\n",
        "binary classification model on 75-25 buckets"
      ]
    },
    {
      "cell_type": "code",
      "metadata": {
        "id": "F5hPOevHsxFQ",
        "colab": {
          "base_uri": "https://localhost:8080/"
        },
        "outputId": "6c625598-f237-4bee-bf3a-4b8a8fa16274"
      },
      "source": [
        "from sklearn.ensemble import RandomForestClassifier\n",
        "\n",
        "# Get window, Upsample minority, Convert text to vectors already done\n",
        "clf = RandomForestClassifier(n_estimators = 100, max_depth = 20, max_features = 45, random_state=20)\n",
        "clf.fit(X_train_upsampled, y_train)"
      ],
      "execution_count": null,
      "outputs": [
        {
          "output_type": "execute_result",
          "data": {
            "text/plain": [
              "RandomForestClassifier(bootstrap=True, ccp_alpha=0.0, class_weight=None,\n",
              "                       criterion='gini', max_depth=20, max_features=45,\n",
              "                       max_leaf_nodes=None, max_samples=None,\n",
              "                       min_impurity_decrease=0.0, min_impurity_split=None,\n",
              "                       min_samples_leaf=1, min_samples_split=2,\n",
              "                       min_weight_fraction_leaf=0.0, n_estimators=100,\n",
              "                       n_jobs=None, oob_score=False, random_state=20, verbose=0,\n",
              "                       warm_start=False)"
            ]
          },
          "metadata": {
            "tags": []
          },
          "execution_count": 51
        }
      ]
    },
    {
      "cell_type": "code",
      "metadata": {
        "colab": {
          "base_uri": "https://localhost:8080/"
        },
        "id": "WyCdCRvBfht_",
        "outputId": "abe596b8-f8dd-4e60-e290-164617c78cd1"
      },
      "source": [
        "y_train_pred = clf.predict(X_train_upsampled)\r\n",
        "# Confusion Matrix\r\n",
        "print('Training')\r\n",
        "get_classification_metrics(y_train, y_train_pred)\r\n",
        "\r\n",
        "# Fit on test data\r\n",
        "y_test_pred = clf.predict(X_test_upsampled)\r\n",
        "print('Test')\r\n",
        "get_classification_metrics(y_test, y_test_pred)"
      ],
      "execution_count": null,
      "outputs": [
        {
          "output_type": "stream",
          "text": [
            "Training\n",
            "[[8435 4107]\n",
            " [4317 8225]]\n",
            "Accuracy: 0.6641683941955031, Precision: 0.6669639961076873, Recall: 0.6557965236804337, F1 Score: 0.6613331189193534\n",
            "Test\n",
            "[[2074 1046]\n",
            " [1293 1827]]\n",
            "Accuracy: 0.6251602564102564, Precision: 0.6359206404455273, Recall: 0.5855769230769231, F1 Score: 0.6097113298848658\n"
          ],
          "name": "stdout"
        }
      ]
    },
    {
      "cell_type": "code",
      "metadata": {
        "id": "vC6LSRPphLJ4"
      },
      "source": [
        "param_grid_rf = [\r\n",
        "    {'max_depth': [40, 45, 50], 'max_features': [50], 'n_estimators': [25]}\r\n",
        "]"
      ],
      "execution_count": null,
      "outputs": []
    },
    {
      "cell_type": "code",
      "metadata": {
        "colab": {
          "base_uri": "https://localhost:8080/"
        },
        "id": "-BNT9IDchVyg",
        "outputId": "cc5877e5-7458-44d6-be9d-23fd89204ccb"
      },
      "source": [
        "# hyper-parameter tuning for random forests\r\n",
        "\r\n",
        "model_list = [RandomForestClassifier()]\r\n",
        "param_grid_list = [param_grid_rf]\r\n",
        "\r\n",
        "hyp_tuning(model_list, param_grid_list, X_train_upsampled, y_train, X_test_upsampled, y_test)"
      ],
      "execution_count": null,
      "outputs": [
        {
          "output_type": "stream",
          "text": [
            "RandomForestClassifier(bootstrap=True, ccp_alpha=0.0, class_weight=None,\n",
            "                       criterion='gini', max_depth=None, max_features='auto',\n",
            "                       max_leaf_nodes=None, max_samples=None,\n",
            "                       min_impurity_decrease=0.0, min_impurity_split=None,\n",
            "                       min_samples_leaf=1, min_samples_split=2,\n",
            "                       min_weight_fraction_leaf=0.0, n_estimators=100,\n",
            "                       n_jobs=None, oob_score=False, random_state=None,\n",
            "                       verbose=0, warm_start=False)\n",
            "Best Parameters: {'max_depth': 40, 'max_features': 50, 'n_estimators': 25}\n",
            "Best Cross Validation Score: 0.541417855527252\n",
            "Test Set Score: 0.6232371794871795\n"
          ],
          "name": "stdout"
        }
      ]
    },
    {
      "cell_type": "code",
      "metadata": {
        "colab": {
          "base_uri": "https://localhost:8080/"
        },
        "id": "LHp7-TEQ9k0W",
        "outputId": "da8e9ad4-0900-46ff-e117-d397417a44d8"
      },
      "source": [
        "clf = RandomForestClassifier(max_depth=40, max_features=50, n_estimators=25)\n",
        "clf.fit(X_train_upsampled, y_train)\n",
        "\n",
        "y_train_pred = clf.predict(X_train_upsampled)\n",
        "# Confusion Matrix\n",
        "print('Training')\n",
        "get_classification_metrics(y_train, y_train_pred)\n",
        "\n",
        "# Fit on test data\n",
        "y_test_pred = clf.predict(X_test_upsampled)\n",
        "print('Test')\n",
        "get_classification_metrics(y_test, y_test_pred)"
      ],
      "execution_count": null,
      "outputs": [
        {
          "output_type": "stream",
          "text": [
            "Training\n",
            "[[8647 3895]\n",
            " [4532 8010]]\n",
            "Accuracy: 0.6640487960452879, Precision: 0.6728265434691306, Recall: 0.6386541221495774, F1 Score: 0.6552951282365934\n",
            "Test\n",
            "[[2125  995]\n",
            " [1363 1757]]\n",
            "Accuracy: 0.6221153846153846, Precision: 0.6384447674418605, Recall: 0.5631410256410256, F1 Score: 0.5984332425068121\n"
          ],
          "name": "stdout"
        }
      ]
    },
    {
      "cell_type": "code",
      "metadata": {
        "id": "hLpYeO-S5xz6"
      },
      "source": [
        "# Save the predictions so that it can be used for ensemble\n",
        "test_df_upsampled['rf_predictions_pos'] = y_test_pred"
      ],
      "execution_count": null,
      "outputs": []
    },
    {
      "cell_type": "markdown",
      "metadata": {
        "id": "TH-yZUi_TQF3"
      },
      "source": [
        "## Ada Boost\n",
        "\n",
        "binary classification model on 75-25 buckets"
      ]
    },
    {
      "cell_type": "code",
      "metadata": {
        "id": "4ZR8gUOJM4wM",
        "colab": {
          "base_uri": "https://localhost:8080/"
        },
        "outputId": "cf59a9b3-6861-4d26-bde2-9e1bfa191b47"
      },
      "source": [
        "from sklearn.tree import DecisionTreeClassifier\n",
        "from sklearn.ensemble import AdaBoostClassifier\n",
        "\n",
        "learning_rate = 0.1\n",
        "max_depth = 1\n",
        "random_state = 20\n",
        "\n",
        "base_estimator = DecisionTreeClassifier(max_depth=max_depth)\n",
        "clf = AdaBoostClassifier(base_estimator=base_estimator, n_estimators=5, learning_rate=learning_rate, random_state=random_state)\n",
        "clf.fit(X_train_upsampled, y_train)"
      ],
      "execution_count": null,
      "outputs": [
        {
          "output_type": "execute_result",
          "data": {
            "text/plain": [
              "AdaBoostClassifier(algorithm='SAMME.R',\n",
              "                   base_estimator=DecisionTreeClassifier(ccp_alpha=0.0,\n",
              "                                                         class_weight=None,\n",
              "                                                         criterion='gini',\n",
              "                                                         max_depth=1,\n",
              "                                                         max_features=None,\n",
              "                                                         max_leaf_nodes=None,\n",
              "                                                         min_impurity_decrease=0.0,\n",
              "                                                         min_impurity_split=None,\n",
              "                                                         min_samples_leaf=1,\n",
              "                                                         min_samples_split=2,\n",
              "                                                         min_weight_fraction_leaf=0.0,\n",
              "                                                         presort='deprecated',\n",
              "                                                         random_state=None,\n",
              "                                                         splitter='best'),\n",
              "                   learning_rate=0.1, n_estimators=5, random_state=20)"
            ]
          },
          "metadata": {
            "tags": []
          },
          "execution_count": 59
        }
      ]
    },
    {
      "cell_type": "code",
      "metadata": {
        "id": "kqdYENQBD5gn",
        "colab": {
          "base_uri": "https://localhost:8080/"
        },
        "outputId": "95f9e045-1b4e-43a6-8bd1-90fbf849721a"
      },
      "source": [
        "y_train_pred = clf.predict(X_train_upsampled)\n",
        "# Confusion Matrix\n",
        "print('Training')\n",
        "get_classification_metrics(y_train, y_train_pred)\n",
        "\n",
        "# Fit on test data\n",
        "y_test_pred = clf.predict(X_test_upsampled)\n",
        "print('Test')\n",
        "get_classification_metrics(y_test, y_test_pred)"
      ],
      "execution_count": null,
      "outputs": [
        {
          "output_type": "stream",
          "text": [
            "Training\n",
            "[[ 4398  8144]\n",
            " [ 1508 11034]]\n",
            "Accuracy: 0.6152128847073832, Precision: 0.5753467514860778, Recall: 0.8797639929835752, F1 Score: 0.6957124842370745\n",
            "Test\n",
            "[[1106 2014]\n",
            " [ 373 2747]]\n",
            "Accuracy: 0.6174679487179487, Precision: 0.5769796261289645, Recall: 0.8804487179487179, F1 Score: 0.6971196548661337\n"
          ],
          "name": "stdout"
        }
      ]
    },
    {
      "cell_type": "code",
      "metadata": {
        "id": "ctHeB57p554t"
      },
      "source": [
        "# Save the predictions so that it can be used for ensemble\n",
        "\n",
        "test_df_upsampled['ada_predictions_pos'] = y_test_pred"
      ],
      "execution_count": null,
      "outputs": []
    },
    {
      "cell_type": "markdown",
      "metadata": {
        "id": "aOlpRTApTUyD"
      },
      "source": [
        "## SVM\n",
        "\n",
        "binary classification model on 75-25 buckets"
      ]
    },
    {
      "cell_type": "code",
      "metadata": {
        "id": "fzoi6pmM0N3i"
      },
      "source": [
        "from sklearn.svm import SVC\n",
        "\n",
        "# run SVM on several kernel types to see which one gives the best result\n",
        "list_kernel_type = ['linear', 'poly', 'rbf']\n",
        "random_state = 20\n",
        "\n",
        "models = []\n",
        "\n",
        "for kernel_type in list_kernel_type:\n",
        "  clf = SVC(kernel=kernel_type, random_state=random_state)\n",
        "  clf.fit(X_train_upsampled, y_train)\n",
        "  models.append(clf)\n",
        "\n",
        "  print(f'----{kernel_type}----\\n')\n",
        "  y_train_pred = clf.predict(X_train_upsampled)\n",
        "  # Confusion Matrix\n",
        "  print('Training')\n",
        "  get_classification_metrics(y_train, y_train_pred)\n",
        "\n",
        "  # Fit on test data\n",
        "  y_test_pred = clf.predict(X_test_upsampled)\n",
        "  print('Test')\n",
        "  get_classification_metrics(y_test, y_test_pred)\n",
        "  print('\\n')"
      ],
      "execution_count": null,
      "outputs": []
    },
    {
      "cell_type": "code",
      "metadata": {
        "colab": {
          "base_uri": "https://localhost:8080/"
        },
        "id": "gQ7-uVnvmWLw",
        "outputId": "45eb19ca-cbc7-4436-d6d4-de5c44681030"
      },
      "source": [
        "y_train_pred = clf.predict(X_train_upsampled)\n",
        "# Confusion Matrix\n",
        "print('Training')\n",
        "get_classification_metrics(y_train, y_train_pred)\n",
        "\n",
        "# Fit on test data\n",
        "y_test_pred = clf.predict(X_test_upsampled)\n",
        "print('Test')\n",
        "get_classification_metrics(y_test, y_test_pred)"
      ],
      "execution_count": null,
      "outputs": [
        {
          "output_type": "stream",
          "text": [
            "Training\n",
            "[[ 4861  7681]\n",
            " [ 1587 10955]]\n",
            "Accuracy: 0.6305214479349386, Precision: 0.5878407383558704, Recall: 0.8734651570722373, F1 Score: 0.7027391109115403\n",
            "Test\n",
            "[[1211 1909]\n",
            " [ 415 2705]]\n",
            "Accuracy: 0.6275641025641026, Precision: 0.5862592110966623, Recall: 0.8669871794871795, F1 Score: 0.6995086630462891\n"
          ],
          "name": "stdout"
        }
      ]
    },
    {
      "cell_type": "code",
      "metadata": {
        "id": "CaSOztNqYzVY"
      },
      "source": [
        "test_df_upsampled['svm_linear_pos'] = y_test_pred"
      ],
      "execution_count": null,
      "outputs": []
    },
    {
      "cell_type": "code",
      "metadata": {
        "id": "4O0Zrhui_x_p"
      },
      "source": [
        "# save all predictions to a CSV file (to be used for ensemble)\n",
        "\n",
        "test_df_upsampled.to_csv('test_df_upsampled_pos_predictions.csv', index=False)"
      ],
      "execution_count": null,
      "outputs": []
    }
  ]
}