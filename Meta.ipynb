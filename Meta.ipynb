{
  "nbformat": 4,
  "nbformat_minor": 0,
  "metadata": {
    "colab": {
      "name": "Meta.ipynb",
      "provenance": [],
      "collapsed_sections": [],
      "toc_visible": true
    },
    "kernelspec": {
      "name": "python3",
      "display_name": "Python 3"
    }
  },
  "cells": [
    {
      "cell_type": "markdown",
      "metadata": {
        "id": "UPIBNo_Ya7Lg"
      },
      "source": [
        "# Metadata: tags, authors\n",
        "\n",
        "Given the `titleURL` of the article, `getMetaData` returns the tags and authors of the article"
      ]
    },
    {
      "cell_type": "code",
      "metadata": {
        "colab": {
          "base_uri": "https://localhost:8080/"
        },
        "id": "3hgVvj3QbH-2",
        "outputId": "0b76dd57-1d78-458d-e458-931e0d876c3e"
      },
      "source": [
        "# install dependency\n",
        "!pip install requests"
      ],
      "execution_count": 2,
      "outputs": [
        {
          "output_type": "stream",
          "text": [
            "Requirement already satisfied: requests in /usr/local/lib/python3.6/dist-packages (2.23.0)\n",
            "Requirement already satisfied: idna<3,>=2.5 in /usr/local/lib/python3.6/dist-packages (from requests) (2.10)\n",
            "Requirement already satisfied: certifi>=2017.4.17 in /usr/local/lib/python3.6/dist-packages (from requests) (2020.11.8)\n",
            "Requirement already satisfied: chardet<4,>=3.0.2 in /usr/local/lib/python3.6/dist-packages (from requests) (3.0.4)\n",
            "Requirement already satisfied: urllib3!=1.25.0,!=1.25.1,<1.26,>=1.21.1 in /usr/local/lib/python3.6/dist-packages (from requests) (1.24.3)\n"
          ],
          "name": "stdout"
        }
      ]
    },
    {
      "cell_type": "code",
      "metadata": {
        "id": "ltWs2RUJbJNJ"
      },
      "source": [
        "import requests as r\n",
        "\n",
        "def getMetaData(titleURL):\n",
        "  article = r.get(f'https://www.thedp.com/article/{titleURL}.json').json()['article']\n",
        "  return {\"authors\": article['authors'], \"tags\": article['tags']}"
      ],
      "execution_count": 20,
      "outputs": []
    },
    {
      "cell_type": "code",
      "metadata": {
        "colab": {
          "base_uri": "https://localhost:8080/"
        },
        "id": "A2ORLZbLbTnu",
        "outputId": "b05a38ec-dcc9-4e35-f8cb-1c4b5c0442ac"
      },
      "source": [
        "getMetaData('2009/01/w-squash-the-coach-can-play-but-can-they')"
      ],
      "execution_count": 21,
      "outputs": [
        {
          "output_type": "execute_result",
          "data": {
            "text/plain": [
              "{'authors': [{'bio': '',\n",
              "   'ceo_id': '4086',\n",
              "   'email': None,\n",
              "   'id': '3071',\n",
              "   'metadata': None,\n",
              "   'name': 'Max Weiss',\n",
              "   'slug': 'max_weiss',\n",
              "   'status': '1',\n",
              "   'tagline': None,\n",
              "   'uuid': '009562dc-d4bf-440b-9334-409d12a7ca89'}],\n",
              " 'tags': [{'ceo_id': '2',\n",
              "   'id': '58',\n",
              "   'metadata': None,\n",
              "   'name': 'sports',\n",
              "   'slug': 'sports',\n",
              "   'uuid': 'c0cace7d-a132-4050-a5f4-d4ed12e5270c'}]}"
            ]
          },
          "metadata": {
            "tags": []
          },
          "execution_count": 21
        }
      ]
    },
    {
      "cell_type": "markdown",
      "metadata": {
        "id": "vk5SylkycgF5"
      },
      "source": [
        "# Duration of an article appearing on the front page\n",
        "\n",
        "Articles on the home page are more likely to have a higher page view. With this in mind, the following code fetch the list of the articles that appeared on the home page, together with their duration (in hours)."
      ]
    },
    {
      "cell_type": "code",
      "metadata": {
        "id": "PhyPoZP-c6x0"
      },
      "source": [
        "# centerpiece articles duration\n",
        "import json\n",
        "\n",
        "def getPageNumber(section):\n",
        "  pagination = r.get(f'https://www.thedp.com/section/{section}.json?page=1&per_page=50').json()['pagination']\n",
        "  return pagination['total']\n",
        "\n",
        "def getDuration(section):\n",
        "  total_page_number = getPageNumber(section)\n",
        "  curr_date = datetime.now()\n",
        "\n",
        "  duration_json = []\n",
        "\n",
        "  for page_num in range(total_page_number):\n",
        "    articles = r.get(f'https://www.thedp.com/section/{section}.json?page={page_num+1}&per_page=50').json()['articles']\n",
        "    for article in articles:\n",
        "      slug = article['slug']\n",
        "      published_at = datetime.strptime(article['published_at'], '%Y-%m-%d %H:%M:%S')\n",
        "      duration = (curr_date - published_at).total_seconds()/3600\n",
        "      curr_date = published_at\n",
        "      duration_json.append({'slug': slug, 'duration': duration })\n",
        "  \n",
        "  with open('duration_centerpiece.json', 'w', encoding='utf-8') as f:\n",
        "    json.dump(duration_json, f, ensure_ascii=False, indent=4)"
      ],
      "execution_count": 60,
      "outputs": []
    },
    {
      "cell_type": "code",
      "metadata": {
        "id": "DiuWB7BunRgB"
      },
      "source": [
        "getDuration('centerpiece')"
      ],
      "execution_count": 61,
      "outputs": []
    },
    {
      "cell_type": "code",
      "metadata": {
        "id": "r6b_aOhoxqVq"
      },
      "source": [
        ""
      ],
      "execution_count": null,
      "outputs": []
    }
  ]
}