{
  "nbformat": 4,
  "nbformat_minor": 0,
  "metadata": {
    "colab": {
      "name": "Tags Supervised_Learning.ipynb",
      "provenance": [],
      "collapsed_sections": [],
      "toc_visible": true
    },
    "kernelspec": {
      "display_name": "Python 3",
      "name": "python3"
    }
  },
  "cells": [
    {
      "cell_type": "markdown",
      "metadata": {
        "id": "8KlhaQGvU0YR"
      },
      "source": [
        "# Overview\n",
        "\n",
        "This notebook trains 5 models using *tags* as the feature, including 1 regression model (Ridge Regression) and 4 classification models (Logistic Classification, Decision Tree, Adaboost, and SVM).\n",
        "\n",
        "We first start with the preprocessing steps of loading the dataframes and transforming certain columns so they can be used directly.\n",
        "\n",
        "Then, we proceed to model trainings and interpreting variable importances."
      ]
    },
    {
      "cell_type": "markdown",
      "metadata": {
        "id": "VWbKmUBi8x2T"
      },
      "source": [
        "# Preprocessing"
      ]
    },
    {
      "cell_type": "code",
      "metadata": {
        "id": "ei1-WBlUSN2I"
      },
      "source": [
        "# load imports\n",
        "import numpy as np\n",
        "import pandas as pd\n",
        "from datetime import datetime, timedelta\n",
        "from dateutil.relativedelta import *\n",
        "import plotly.express as px\n",
        "from sklearn.utils import resample\n",
        "from sklearn.feature_extraction.text import CountVectorizer, TfidfVectorizer\n",
        "import json\n",
        "import matplotlib.pyplot as plt"
      ],
      "execution_count": null,
      "outputs": []
    },
    {
      "cell_type": "code",
      "metadata": {
        "id": "BkVGgclb53t7"
      },
      "source": [
        "train_df = pd.read_csv('drive/MyDrive/CIS520 Project/data set/train_name_pos_tag.csv')\n",
        "test_df = pd.read_csv('drive/MyDrive/CIS520 Project/data set/test_name_pos_tag.csv')\n",
        "test_df_upsampled = pd.read_csv('drive/MyDrive/CIS520 Project/data set/test_df_upsampled.csv')\n",
        "\n",
        "def parse_json(df):\n",
        "  df['authors'] = df['authors'].apply(lambda x : json.loads(x))\n",
        "  df['tags'] = df['tags'].apply(lambda x : json.loads(x))\n",
        "  df['author_positions'] = df['author_positions'].apply(lambda x : json.loads(x))\n",
        "  return df\n",
        "\n",
        "train_df = parse_json(train_df)\n",
        "test_df = parse_json(test_df)\n",
        "test_df_upsampled = parse_json(test_df_upsampled)"
      ],
      "execution_count": null,
      "outputs": []
    },
    {
      "cell_type": "code",
      "metadata": {
        "id": "WNn94ow_Ic2e"
      },
      "source": [
        "# combine author names, tags, author positions into \n",
        "# a comma separted string\n",
        "\n",
        "def transform_meta(df):\n",
        "  cols = ['authors', 'tags', 'author_positions']\n",
        "  for col in cols:\n",
        "    df[col] = df[col].apply(lambda x : ', '.join(x))\n",
        "  \n",
        "  return df\n",
        "\n",
        "train_df = transform_meta(train_df)\n",
        "test_df = transform_meta(test_df)\n",
        "test_df_upsampled = transform_meta(test_df_upsampled)"
      ],
      "execution_count": null,
      "outputs": []
    },
    {
      "cell_type": "code",
      "metadata": {
        "id": "117d4yPklxeV"
      },
      "source": [
        "# get quintiles for train data\n",
        "train_df['quintile'] = pd.cut(train_df['percentile'], [0, 0.2, 0.4, 0.6, 0.8, 1], labels = [1,2,3,4,5])\n",
        "# get quintiles for the test data\n",
        "test_df['quintile'] = pd.cut(test_df['percentile'], [0, 0.2, 0.4, 0.6, 0.8, 1], labels = [1,2,3,4,5])\n",
        "\n",
        "# Get top 25% vs bottom 75%\n",
        "train_df['top25pct'] = (train_df['percentile'] >= 0.75).astype(int)\n",
        "test_df['top25pct'] = (test_df['percentile'] >= 0.75).astype(int)\n",
        "\n",
        "train_df['published_date'] = train_df['published_date'].apply(lambda x: datetime.strptime(x, '%Y-%m-%d %H:%M:%S'))\n",
        "test_df['published_date'] = test_df['published_date'].apply(lambda x: datetime.strptime(x, '%Y-%m-%d %H:%M:%S'))"
      ],
      "execution_count": null,
      "outputs": []
    },
    {
      "cell_type": "code",
      "metadata": {
        "id": "Tsc7-EfaLClB"
      },
      "source": [
        "# Returns the training and test data within the window\n",
        "def get_window(train_df, test_df, date_start, months):\n",
        "  date_end = date_start + relativedelta(months = +months)\n",
        "  train_window = train_df.loc[(train_df['published_date'] >= date_start) & (train_df['published_date'] < date_end), :]\n",
        "  test_window = test_df.loc[(test_df['published_date'] >= date_start) & (test_df['published_date'] < date_end), :]\n",
        "  return train_window, test_window"
      ],
      "execution_count": null,
      "outputs": []
    },
    {
      "cell_type": "code",
      "metadata": {
        "id": "TwK54abNdyyd"
      },
      "source": [
        "def upsample_minority(df):\r\n",
        "\r\n",
        "  # Upsample minority class in both the training and test data\r\n",
        "  df_majority = df.loc[df['top25pct'] == 0, :]\r\n",
        "  df_minority = df.loc[df['top25pct'] == 1, :]\r\n",
        "  df_minority_upsampled = resample(df_minority, replace = True, n_samples = len(df_majority), random_state = 42)\r\n",
        "\r\n",
        "  # Combine together to get the upsampled training data\r\n",
        "  df = pd.concat([df_majority, df_minority_upsampled])\r\n",
        "\r\n",
        "  return df"
      ],
      "execution_count": null,
      "outputs": []
    },
    {
      "cell_type": "markdown",
      "metadata": {
        "id": "kTnONzK7zBeB"
      },
      "source": [
        "**Count Vectorization of Words**"
      ]
    },
    {
      "cell_type": "code",
      "metadata": {
        "id": "_ehOEBSbYuKY"
      },
      "source": [
        "# Input: train, test dataframe, feature\n",
        "# Output: train_titles, test_titles vectorized matrix (#doc x #words)\n",
        "def convert_text_to_vectors(train_data, test_data, max_words = 2000, use_tfidf = False):\n",
        "\n",
        "  # Doing the Vectorization of the text\n",
        "  if use_tfidf == False:\n",
        "    vectorizer = CountVectorizer(stop_words='english', max_features = max_words)\n",
        "  else:\n",
        "    vectorizer = TfidfVectorizer(stop_words = 'english', max_features = max_words)\n",
        "\n",
        "  # tokenize and build vocab\n",
        "  vectorizer.fit(train_data['tags'])\n",
        "\n",
        "  # transform text columns\n",
        "  X_train = vectorizer.transform(train_data['tags']).toarray()\n",
        "  X_test = vectorizer.transform(test_data['tags']).toarray()\n",
        "\n",
        "  return X_train, X_test, vectorizer"
      ],
      "execution_count": null,
      "outputs": []
    },
    {
      "cell_type": "markdown",
      "metadata": {
        "id": "PeOcb80OwP9X"
      },
      "source": [
        "# Model Trainings"
      ]
    },
    {
      "cell_type": "markdown",
      "metadata": {
        "id": "T3s27st6TH9-"
      },
      "source": [
        "## Ridge Regression\r\n",
        "\r\n",
        "Regression model on percentiles"
      ]
    },
    {
      "cell_type": "code",
      "metadata": {
        "id": "REEgJ-3W17GE"
      },
      "source": [
        "from sklearn.linear_model import Ridge\r\n",
        "from sklearn.model_selection import cross_val_score\r\n",
        "from sklearn.metrics import accuracy_score, confusion_matrix, mean_squared_error, mean_absolute_error"
      ],
      "execution_count": null,
      "outputs": []
    },
    {
      "cell_type": "code",
      "metadata": {
        "id": "o3blcPsYU6e9"
      },
      "source": [
        "# Create and fit model\n",
        "\n",
        "def train_ridge(X_train, X_test, y_train, y_test, alpha = 1):\n",
        "  reg = Ridge(alpha = alpha)\n",
        "  reg.fit(X_train, y_train)\n",
        "  y_train_pred = reg.predict(X_train)\n",
        "  \n",
        "  # Training MSE and MAE\n",
        "  rmse = mean_squared_error(y_train, y_train_pred) ** 0.5\n",
        "  mae = mean_absolute_error(y_train, y_train_pred)\n",
        "\n",
        "  print('Training RMSE: {}, MAE: {}'.format(rmse , mae))\n",
        "\n",
        "  # Fit on test data\n",
        "  y_test_pred = reg.predict(X_test)\n",
        "  # Training MSE and MAE\n",
        "  rmse = mean_squared_error(y_test, y_test_pred) ** 0.5\n",
        "  mae = mean_absolute_error(y_test, y_test_pred)\n",
        "  print('Test RMSE: {}, MAE: {}'.format(rmse , mae))\n",
        "\n",
        "  return y_train_pred, y_test_pred, reg"
      ],
      "execution_count": null,
      "outputs": []
    },
    {
      "cell_type": "code",
      "metadata": {
        "id": "86WYKYDQ5NaI"
      },
      "source": [
        "# Variable Importance\r\n",
        "\r\n",
        "def get_variable_importance(reg, vectorizer, X_train_titles):\r\n",
        "\r\n",
        "  reg_coefs = reg.coef_\r\n",
        "  vectorizer_words = vectorizer.get_feature_names()\r\n",
        "\r\n",
        "  word_coefs = {}\r\n",
        "  for word, coef in zip(vectorizer_words, reg_coefs):\r\n",
        "    word_coefs.update({word:coef})\r\n",
        "\r\n",
        "  # Word Frequency\r\n",
        "  word_freq = np.sum(X_train_titles, axis = 0)\r\n",
        "  # Number of articles the word appeared in\r\n",
        "  word_num_articles = np.sum((X_train_titles > 0).astype(int), axis = 0)\r\n",
        "\r\n",
        "  # Store the top words in a dataframe\r\n",
        "  word_coefs_df = pd.DataFrame({'Word': vectorizer_words, 'Frequency': word_freq, 'Articles': word_num_articles, 'Coef': reg_coefs}).sort_values('Coef', ascending = False).reset_index(drop = True)\r\n",
        "\r\n",
        "  return word_coefs_df"
      ],
      "execution_count": null,
      "outputs": []
    },
    {
      "cell_type": "code",
      "metadata": {
        "colab": {
          "base_uri": "https://localhost:8080/"
        },
        "id": "NQrjcy56ZtKh",
        "outputId": "31d02215-9ae5-4d73-8f07-0f451674248f"
      },
      "source": [
        "# Run Model on All\r\n",
        "\r\n",
        "# Vectorize words\r\n",
        "X_train, X_test, vec = convert_text_to_vectors(train_df, test_df_upsampled, max_words = 2000, use_tfidf = False)\r\n",
        "y_percentiles_train = train_df['percentile']\r\n",
        "y_percentiles_test = test_df_upsampled['percentile']\r\n",
        "\r\n",
        "# Train ridge regression\r\n",
        "y_train_pred, y_test_pred, reg = train_ridge(X_train, X_test, y_percentiles_train, y_percentiles_test, alpha = 20)"
      ],
      "execution_count": null,
      "outputs": [
        {
          "output_type": "stream",
          "text": [
            "Training RMSE: 0.22484518053477662, MAE: 0.18440923249719746\n",
            "Test RMSE: 0.24465097002845976, MAE: 0.20742336748889548\n"
          ],
          "name": "stdout"
        }
      ]
    },
    {
      "cell_type": "code",
      "metadata": {
        "id": "lb8W1dzyAjWp"
      },
      "source": [
        "# examine variable importance\n",
        "\n",
        "# Get the variable importance coefs\n",
        "word_coefs_df = get_variable_importance(reg, vec, X_train)\n",
        "\n",
        "# Only choose words appearing more than 50 times\n",
        "word_coefs_df_top = word_coefs_df.loc[word_coefs_df['Frequency'] > 50, :]\n",
        "\n",
        "word_coefs_df_top.head(50)"
      ],
      "execution_count": null,
      "outputs": []
    },
    {
      "cell_type": "code",
      "metadata": {
        "colab": {
          "base_uri": "https://localhost:8080/",
          "height": 501
        },
        "id": "Sx2RREaaqaRp",
        "outputId": "e0ef5064-7236-4a75-cec6-7df22ef811f7"
      },
      "source": [
        "fig = plt.figure(figsize = (9, 6))\r\n",
        "\r\n",
        "plt.bar(word_coefs_df_top.iloc[0:15, 0], word_coefs_df_top.iloc[0:15, -1], color = 'green')\r\n",
        "plt.bar(word_coefs_df_top.iloc[-15:, 0], word_coefs_df_top.iloc[-15:, -1], color = 'red')\r\n",
        "fig = plt.xticks(rotation=45, ha=\"right\")\r\n",
        "plt.axhline(y = 0, color = 'black', linewidth = 1)\r\n",
        "plt.xlabel('Tags')\r\n",
        "plt.ylabel('Ridge Regression Coefficient')\r\n",
        "plt.title('Variable Importances for Tags')"
      ],
      "execution_count": null,
      "outputs": [
        {
          "output_type": "execute_result",
          "data": {
            "text/plain": [
              "Text(0.5, 1.0, 'Variable Importances for Tags')"
            ]
          },
          "metadata": {
            "tags": []
          },
          "execution_count": 20
        },
        {
          "output_type": "display_data",
          "data": {
            "image/png": "[encoded data removed]",
            "text/plain": [
              "<Figure size 648x432 with 1 Axes>"
            ]
          },
          "metadata": {
            "tags": [],
            "needs_background": "light"
          }
        }
      ]
    },
    {
      "cell_type": "code",
      "metadata": {
        "id": "PffrioUX4-A3"
      },
      "source": [
        "# Save the predictions to be used for ensemble\n",
        "test_df_upsampled['ridge_predictions_tags'] = y_test_pred"
      ],
      "execution_count": null,
      "outputs": []
    },
    {
      "cell_type": "markdown",
      "metadata": {
        "id": "Ts1uGpEfaVEE"
      },
      "source": [
        "**Rolling Window Predictions**"
      ]
    },
    {
      "cell_type": "code",
      "metadata": {
        "id": "NGJ_4xpt5NeJ",
        "colab": {
          "base_uri": "https://localhost:8080/"
        },
        "outputId": "a10dfa2a-4398-435d-fe5d-5ee7b688fe10"
      },
      "source": [
        "# Get a list of start dates\r\n",
        "dates = [datetime.fromtimestamp(e.timestamp()) for e in pd.date_range('2013-01-01','2020-05-02', freq='MS')]\r\n",
        "\r\n",
        "word_coefs_df_all = pd.DataFrame()\r\n",
        "for start_date in dates:\r\n",
        "  print(start_date)\r\n",
        "  # Segment by window\r\n",
        "  train_window, test_window = get_window(train_df, test_df, start_date, 3)\r\n",
        "  # Vectorize words\r\n",
        "  X_train, X_test, vec = convert_text_to_vectors(train_window, test_window, max_words = 2000, use_tfidf = False)\r\n",
        "  \r\n",
        "  y_percentiles_train = train_window['percentile']\r\n",
        "  y_percentiles_test = test_window['percentile']\r\n",
        "  # Train ridge regression\r\n",
        "  y_train_pred, y_test_pred, reg = train_ridge(X_train, X_test, y_percentiles_train, y_percentiles_test, alpha = 20)\r\n",
        "\r\n",
        "  # Get the variable importance coefs\r\n",
        "  word_coefs_df = get_variable_importance(reg, vec, X_train)\r\n",
        "\r\n",
        "  word_coefs_df['Month'] = start_date\r\n",
        "\r\n",
        "  word_coefs_df_all = pd.concat([word_coefs_df_all, word_coefs_df], axis = 0)"
      ],
      "execution_count": null,
      "outputs": [
        {
          "output_type": "stream",
          "text": [
            "2013-01-01 00:00:00\n",
            "Training RMSE: 0.19125364031089806, MAE: 0.15754372375401424\n",
            "Test RMSE: 0.21845869461395348, MAE: 0.18469895860975105\n",
            "2013-02-01 00:00:00\n",
            "Training RMSE: 0.18853265161259253, MAE: 0.154182231577569\n",
            "Test RMSE: 0.22732943134520878, MAE: 0.19001606201792162\n",
            "2013-03-01 00:00:00\n",
            "Training RMSE: 0.187997939655866, MAE: 0.15476945100078474\n",
            "Test RMSE: 0.22100151576098506, MAE: 0.18511403854633218\n",
            "2013-04-01 00:00:00\n",
            "Training RMSE: 0.20851142550000631, MAE: 0.17342722693965032\n",
            "Test RMSE: 0.26482963894584116, MAE: 0.2293902345493854\n",
            "2013-05-01 00:00:00\n",
            "Training RMSE: 0.23046945420158568, MAE: 0.19699968595618067\n",
            "Test RMSE: 0.3111921764450392, MAE: 0.2692177123859449\n",
            "2013-06-01 00:00:00\n",
            "Training RMSE: 0.22501310891044699, MAE: 0.1912253626069458\n",
            "Test RMSE: 0.29462205713494544, MAE: 0.23991518023216396\n",
            "2013-07-01 00:00:00\n",
            "Training RMSE: 0.20784120483919788, MAE: 0.17098319908925919\n",
            "Test RMSE: 0.2436530671510532, MAE: 0.192464961806437\n",
            "2013-08-01 00:00:00\n",
            "Training RMSE: 0.21662394462450005, MAE: 0.17862796571545292\n",
            "Test RMSE: 0.23244152893543793, MAE: 0.1879216843884427\n",
            "2013-09-01 00:00:00\n",
            "Training RMSE: 0.21665925422882817, MAE: 0.1794876346613052\n",
            "Test RMSE: 0.2299198059787167, MAE: 0.19129322868982182\n",
            "2013-10-01 00:00:00\n",
            "Training RMSE: 0.22202001241865088, MAE: 0.18727137417016113\n",
            "Test RMSE: 0.22408742279125046, MAE: 0.1886917603385765\n",
            "2013-11-01 00:00:00\n",
            "Training RMSE: 0.22028851511422357, MAE: 0.18428826472471685\n",
            "Test RMSE: 0.22048335209938144, MAE: 0.18576589116768458\n",
            "2013-12-01 00:00:00\n",
            "Training RMSE: 0.21465661903814928, MAE: 0.1776994044389601\n",
            "Test RMSE: 0.20569135635239136, MAE: 0.16560494411487386\n",
            "2014-01-01 00:00:00\n",
            "Training RMSE: 0.20013516029743586, MAE: 0.16357912523291246\n",
            "Test RMSE: 0.20458439259004516, MAE: 0.16573037659246168\n",
            "2014-02-01 00:00:00\n",
            "Training RMSE: 0.1924275838995889, MAE: 0.15844838780296178\n",
            "Test RMSE: 0.19764064653062605, MAE: 0.15989944571593395\n",
            "2014-03-01 00:00:00\n",
            "Training RMSE: 0.19088304761173625, MAE: 0.15694886069324795\n",
            "Test RMSE: 0.20243769029163747, MAE: 0.16371492522718972\n",
            "2014-04-01 00:00:00\n",
            "Training RMSE: 0.2280072124521964, MAE: 0.19370418086420685\n",
            "Test RMSE: 0.22905322495326413, MAE: 0.18708924992262857\n",
            "2014-05-01 00:00:00\n",
            "Training RMSE: 0.25864080676803963, MAE: 0.22595280277922075\n",
            "Test RMSE: 0.23683651981893622, MAE: 0.18336108120149736\n",
            "2014-06-01 00:00:00\n",
            "Training RMSE: 0.24655573670979106, MAE: 0.21208368924795515\n",
            "Test RMSE: 0.23189073899711016, MAE: 0.18803477663978532\n",
            "2014-07-01 00:00:00\n",
            "Training RMSE: 0.23548725254578953, MAE: 0.19318408023908704\n",
            "Test RMSE: 0.24299030938375868, MAE: 0.20368996082205826\n",
            "2014-08-01 00:00:00\n",
            "Training RMSE: 0.2191793953554514, MAE: 0.1748229354967194\n",
            "Test RMSE: 0.22839480799182496, MAE: 0.18729464412247512\n",
            "2014-09-01 00:00:00\n",
            "Training RMSE: 0.21131953213449783, MAE: 0.16867734108962254\n",
            "Test RMSE: 0.22230794382173535, MAE: 0.183170485210988\n",
            "2014-10-01 00:00:00\n",
            "Training RMSE: 0.2111174993806634, MAE: 0.17019666344593565\n",
            "Test RMSE: 0.2220747418464887, MAE: 0.18423537769372425\n",
            "2014-11-01 00:00:00\n",
            "Training RMSE: 0.21427031989345766, MAE: 0.17833271395525635\n",
            "Test RMSE: 0.22488618391744444, MAE: 0.18984286581987472\n",
            "2014-12-01 00:00:00\n",
            "Training RMSE: 0.22016008747173538, MAE: 0.18429115416571049\n",
            "Test RMSE: 0.2262664421443373, MAE: 0.19209465076095156\n",
            "2015-01-01 00:00:00\n",
            "Training RMSE: 0.2127086670094069, MAE: 0.17803038524077947\n",
            "Test RMSE: 0.2200650399416176, MAE: 0.1816709535776827\n",
            "2015-02-01 00:00:00\n",
            "Training RMSE: 0.20810294317802555, MAE: 0.17256985245232911\n",
            "Test RMSE: 0.21534928722918942, MAE: 0.18040295725688552\n",
            "2015-03-01 00:00:00\n",
            "Training RMSE: 0.2075063263878025, MAE: 0.1727358703495773\n",
            "Test RMSE: 0.209438560998482, MAE: 0.17133645990644397\n",
            "2015-04-01 00:00:00\n",
            "Training RMSE: 0.21228111823464166, MAE: 0.17665722502346365\n",
            "Test RMSE: 0.221289623118939, MAE: 0.18376938663004236\n",
            "2015-05-01 00:00:00\n",
            "Training RMSE: 0.23120254884001054, MAE: 0.1987935810557274\n",
            "Test RMSE: 0.2452890453764969, MAE: 0.20167361916913618\n",
            "2015-06-01 00:00:00\n",
            "Training RMSE: 0.2293469333813144, MAE: 0.1932401365728845\n",
            "Test RMSE: 0.28117637750093394, MAE: 0.23753552907328968\n",
            "2015-07-01 00:00:00\n",
            "Training RMSE: 0.2110750410297182, MAE: 0.17496060602592203\n",
            "Test RMSE: 0.237249870962916, MAE: 0.1963070095720843\n",
            "2015-08-01 00:00:00\n",
            "Training RMSE: 0.20843350850970702, MAE: 0.17282777825198256\n",
            "Test RMSE: 0.23268418031093313, MAE: 0.19409027795342867\n",
            "2015-09-01 00:00:00\n",
            "Training RMSE: 0.21173397545748224, MAE: 0.17445666740041912\n",
            "Test RMSE: 0.21736015603436662, MAE: 0.18376989943908276\n",
            "2015-10-01 00:00:00\n",
            "Training RMSE: 0.21317128725854886, MAE: 0.17487757381196004\n",
            "Test RMSE: 0.21682320134023828, MAE: 0.1835615872139683\n",
            "2015-11-01 00:00:00\n",
            "Training RMSE: 0.22196223849486219, MAE: 0.18404579007246394\n",
            "Test RMSE: 0.23028313098401873, MAE: 0.1928453296088389\n",
            "2015-12-01 00:00:00\n",
            "Training RMSE: 0.2117194940818412, MAE: 0.17646037641028728\n",
            "Test RMSE: 0.2280550503444663, MAE: 0.18749313850044036\n",
            "2016-01-01 00:00:00\n",
            "Training RMSE: 0.207862472182089, MAE: 0.171390141482863\n",
            "Test RMSE: 0.2207189040655488, MAE: 0.17943264854162463\n",
            "2016-02-01 00:00:00\n",
            "Training RMSE: 0.20703839977365662, MAE: 0.1703085683275338\n",
            "Test RMSE: 0.20255200776979046, MAE: 0.16574545489765072\n",
            "2016-03-01 00:00:00\n",
            "Training RMSE: 0.2148579547593288, MAE: 0.1781737632963837\n",
            "Test RMSE: 0.2066621494365525, MAE: 0.17028400938629873\n",
            "2016-04-01 00:00:00\n",
            "Training RMSE: 0.2161413310944353, MAE: 0.18137438540343573\n",
            "Test RMSE: 0.2323033911120636, MAE: 0.19356117067291712\n",
            "2016-05-01 00:00:00\n",
            "Training RMSE: 0.2281819980448604, MAE: 0.1954780444700989\n",
            "Test RMSE: 0.2704810706575245, MAE: 0.23488625195877363\n",
            "2016-06-01 00:00:00\n",
            "Training RMSE: 0.22500418505191921, MAE: 0.19397679370690543\n",
            "Test RMSE: 0.2558648413735349, MAE: 0.21405566485479186\n",
            "2016-07-01 00:00:00\n",
            "Training RMSE: 0.20667888707743665, MAE: 0.17089115361243246\n",
            "Test RMSE: 0.20448933487529894, MAE: 0.16568507773758048\n",
            "2016-08-01 00:00:00\n",
            "Training RMSE: 0.20658122714543664, MAE: 0.16974875892078606\n",
            "Test RMSE: 0.20936629838325316, MAE: 0.16865797289727402\n",
            "2016-09-01 00:00:00\n",
            "Training RMSE: 0.22170554592357344, MAE: 0.18382687818403287\n",
            "Test RMSE: 0.21524993333675496, MAE: 0.177039154224469\n",
            "2016-10-01 00:00:00\n",
            "Training RMSE: 0.23056701247926326, MAE: 0.19280071268616597\n",
            "Test RMSE: 0.23022199595950155, MAE: 0.19157182900808384\n",
            "2016-11-01 00:00:00\n",
            "Training RMSE: 0.23151195755533716, MAE: 0.192331339581149\n",
            "Test RMSE: 0.2268091574903487, MAE: 0.1916313037624763\n",
            "2016-12-01 00:00:00\n",
            "Training RMSE: 0.22449953304614575, MAE: 0.18476835446110454\n",
            "Test RMSE: 0.23570178424708643, MAE: 0.19394806314369195\n",
            "2017-01-01 00:00:00\n",
            "Training RMSE: 0.2173114958078588, MAE: 0.17946453623820366\n",
            "Test RMSE: 0.24661968349590904, MAE: 0.20428855920307387\n",
            "2017-02-01 00:00:00\n",
            "Training RMSE: 0.22985132761528929, MAE: 0.19151717092726792\n",
            "Test RMSE: 0.23938690969345802, MAE: 0.20110009156564637\n",
            "2017-03-01 00:00:00\n",
            "Training RMSE: 0.2319812414398221, MAE: 0.19436538587926122\n",
            "Test RMSE: 0.24312026512140342, MAE: 0.20544623656261368\n",
            "2017-04-01 00:00:00\n",
            "Training RMSE: 0.25158061711749424, MAE: 0.2164142401342043\n",
            "Test RMSE: 0.23623078055895821, MAE: 0.20456791801473495\n",
            "2017-05-01 00:00:00\n",
            "Training RMSE: 0.24474368613669994, MAE: 0.21338103496417316\n",
            "Test RMSE: 0.23368569317905505, MAE: 0.19398835221838748\n",
            "2017-06-01 00:00:00\n",
            "Training RMSE: 0.2401954350434636, MAE: 0.20309136943338688\n",
            "Test RMSE: 0.2561585838042669, MAE: 0.21339031438057346\n",
            "2017-07-01 00:00:00\n",
            "Training RMSE: 0.22312066063600744, MAE: 0.18209088327882253\n",
            "Test RMSE: 0.21224748424750103, MAE: 0.16649074693527063\n",
            "2017-08-01 00:00:00\n",
            "Training RMSE: 0.22659169884566252, MAE: 0.18376472394319132\n",
            "Test RMSE: 0.20145524001386472, MAE: 0.1642940521195612\n",
            "2017-09-01 00:00:00\n",
            "Training RMSE: 0.22007257683050988, MAE: 0.17935929904247228\n",
            "Test RMSE: 0.20162574605554556, MAE: 0.16284929238502888\n",
            "2017-10-01 00:00:00\n",
            "Training RMSE: 0.22283957067904495, MAE: 0.18346520514230188\n",
            "Test RMSE: 0.21694996913963535, MAE: 0.1776547688098475\n",
            "2017-11-01 00:00:00\n",
            "Training RMSE: 0.21611562212350005, MAE: 0.1785431448561764\n",
            "Test RMSE: 0.23016337344717275, MAE: 0.19122775869662892\n",
            "2017-12-01 00:00:00\n",
            "Training RMSE: 0.22153649695565064, MAE: 0.1834389471283275\n",
            "Test RMSE: 0.21680908466172108, MAE: 0.18451766468559952\n",
            "2018-01-01 00:00:00\n",
            "Training RMSE: 0.2220490420728526, MAE: 0.18452588531967282\n",
            "Test RMSE: 0.20759298026259415, MAE: 0.17595837243439527\n",
            "2018-02-01 00:00:00\n",
            "Training RMSE: 0.21762685796395936, MAE: 0.18017168493460992\n",
            "Test RMSE: 0.21911486859028634, MAE: 0.18200256136572668\n",
            "2018-03-01 00:00:00\n",
            "Training RMSE: 0.22199942185711494, MAE: 0.18556919651647605\n",
            "Test RMSE: 0.22598175747315163, MAE: 0.18156816868305\n",
            "2018-04-01 00:00:00\n",
            "Training RMSE: 0.21991308443213797, MAE: 0.18347996677097916\n",
            "Test RMSE: 0.2345066375979986, MAE: 0.18739327963807287\n",
            "2018-05-01 00:00:00\n",
            "Training RMSE: 0.23653188717410473, MAE: 0.20413568593836778\n",
            "Test RMSE: 0.2624886751771252, MAE: 0.2381316263079368\n",
            "2018-06-01 00:00:00\n",
            "Training RMSE: 0.2150075921188646, MAE: 0.18483206063836916\n",
            "Test RMSE: 0.27232795116431896, MAE: 0.23955115379126468\n",
            "2018-07-01 00:00:00\n",
            "Training RMSE: 0.21030640932954844, MAE: 0.17263534382833212\n",
            "Test RMSE: 0.24994328893572307, MAE: 0.2073918986478955\n",
            "2018-08-01 00:00:00\n",
            "Training RMSE: 0.2090540703262302, MAE: 0.17172138557123293\n",
            "Test RMSE: 0.2235022953840136, MAE: 0.1869405742802907\n",
            "2018-09-01 00:00:00\n",
            "Training RMSE: 0.21329296194413544, MAE: 0.17602398960459853\n",
            "Test RMSE: 0.22474287655575978, MAE: 0.1916512094494963\n",
            "2018-10-01 00:00:00\n",
            "Training RMSE: 0.22009245274631786, MAE: 0.18391355183672697\n",
            "Test RMSE: 0.22870867031789344, MAE: 0.19945854426943574\n",
            "2018-11-01 00:00:00\n",
            "Training RMSE: 0.22270129957549822, MAE: 0.18570745423639645\n",
            "Test RMSE: 0.24221760805363118, MAE: 0.2069979882229419\n",
            "2018-12-01 00:00:00\n",
            "Training RMSE: 0.2162986605667077, MAE: 0.17545161888040003\n",
            "Test RMSE: 0.2325020983114495, MAE: 0.19965374050966497\n",
            "2019-01-01 00:00:00\n",
            "Training RMSE: 0.21332509916934875, MAE: 0.17567252156064175\n",
            "Test RMSE: 0.22321799827651576, MAE: 0.18764275222528484\n",
            "2019-02-01 00:00:00\n",
            "Training RMSE: 0.2073639408403366, MAE: 0.1712759738852036\n",
            "Test RMSE: 0.21013771592785552, MAE: 0.17134426613110973\n",
            "2019-03-01 00:00:00\n",
            "Training RMSE: 0.2180057948133308, MAE: 0.1806725537721442\n",
            "Test RMSE: 0.22614913324075986, MAE: 0.18276295841681148\n",
            "2019-04-01 00:00:00\n",
            "Training RMSE: 0.2238870170062373, MAE: 0.18548092418178563\n",
            "Test RMSE: 0.24512296600840638, MAE: 0.19935376240156902\n",
            "2019-05-01 00:00:00\n",
            "Training RMSE: 0.2455415023730497, MAE: 0.20792437016885632\n",
            "Test RMSE: 0.28834408166434333, MAE: 0.2526995257621416\n",
            "2019-06-01 00:00:00\n",
            "Training RMSE: 0.22388629429594298, MAE: 0.18712919162000957\n",
            "Test RMSE: 0.25908556433545094, MAE: 0.22674333239920116\n",
            "2019-07-01 00:00:00\n",
            "Training RMSE: 0.2160822896130901, MAE: 0.1791646861324703\n",
            "Test RMSE: 0.23442652683456014, MAE: 0.2026334433613612\n",
            "2019-08-01 00:00:00\n",
            "Training RMSE: 0.21315616381363375, MAE: 0.17347943466397525\n",
            "Test RMSE: 0.21967015556695507, MAE: 0.1849358328525005\n",
            "2019-09-01 00:00:00\n",
            "Training RMSE: 0.20741237286005448, MAE: 0.1682603315537692\n",
            "Test RMSE: 0.21384127520655313, MAE: 0.18050668930989655\n",
            "2019-10-01 00:00:00\n",
            "Training RMSE: 0.2175605150923808, MAE: 0.17952183171486055\n",
            "Test RMSE: 0.22288502349731765, MAE: 0.18875148257348467\n",
            "2019-11-01 00:00:00\n",
            "Training RMSE: 0.21924434691623645, MAE: 0.17914376607305674\n",
            "Test RMSE: 0.23324057441178286, MAE: 0.20151685615706522\n",
            "2019-12-01 00:00:00\n",
            "Training RMSE: 0.22124083541825076, MAE: 0.18117161855101035\n",
            "Test RMSE: 0.2142896346266077, MAE: 0.17981178049203425\n",
            "2020-01-01 00:00:00\n",
            "Training RMSE: 0.23229191605801877, MAE: 0.19251749036564553\n",
            "Test RMSE: 0.21898931652337061, MAE: 0.1853939938122163\n",
            "2020-02-01 00:00:00\n",
            "Training RMSE: 0.24184565196661129, MAE: 0.20425749352454653\n",
            "Test RMSE: 0.24549607013947006, MAE: 0.2078712308397644\n",
            "2020-03-01 00:00:00\n",
            "Training RMSE: 0.25487850173721305, MAE: 0.21844013590802175\n",
            "Test RMSE: 0.27631318522490717, MAE: 0.24311327803353436\n",
            "2020-04-01 00:00:00\n",
            "Training RMSE: 0.2605462950700659, MAE: 0.22464050987436654\n",
            "Test RMSE: 0.27963735950957386, MAE: 0.24226092329207982\n",
            "2020-05-01 00:00:00\n",
            "Training RMSE: 0.254777734520144, MAE: 0.2175244664872676\n",
            "Test RMSE: 0.2592683190682125, MAE: 0.22361306100828243\n"
          ],
          "name": "stdout"
        }
      ]
    },
    {
      "cell_type": "code",
      "metadata": {
        "id": "A2-8ju9Fq8b9"
      },
      "source": [
        "top_words=  word_coefs_df_all.groupby('Word')['Frequency'].sum().sort_values(ascending = False).iloc[0:30].index.tolist()\r\n"
      ],
      "execution_count": null,
      "outputs": []
    },
    {
      "cell_type": "code",
      "metadata": {
        "id": "93YXnOx2rGXo"
      },
      "source": [
        "top_words_filtered = ['sports', 'news', 'topstories', 'newsreel', 'opinion', 'centerpiece', 'politics', 'philly', 'studentlife', 'academics']"
      ],
      "execution_count": null,
      "outputs": []
    },
    {
      "cell_type": "code",
      "metadata": {
        "id": "PKhuXrL4a4nk",
        "colab": {
          "base_uri": "https://localhost:8080/",
          "height": 517
        },
        "outputId": "ff37a922-4f7b-4c80-a1a9-cabb5698fb1c"
      },
      "source": [
        "top_words=  word_coefs_df_all.groupby('Word')['Frequency'].sum().sort_values(ascending = False).iloc[0:30].index.tolist()\r\n",
        "coefs_all = word_coefs_df_all.loc[word_coefs_df_all['Word'].apply(lambda x: x in top_words_filtered), :]\r\n",
        "coefs_all_pivot = coefs_all.pivot(index = 'Word', columns = 'Month', values = 'Coef')\r\n",
        "#coefs_all = coefs_all.fillna(-0.4)\r\n",
        "\r\n",
        "fig = px.line(coefs_all, x = \"Month\", y = \"Coef\", color = \"Word\",title = 'Word Importnaces over Time (3-month Rolling Window)', width = 800, height = 500)\r\n",
        "fig.show()"
      ],
      "execution_count": null,
      "outputs": [
        {
          "output_type": "display_data",
          "data": {
            "text/html": [
              "<html>\n",
              "<head><meta charset=\"utf-8\" /></head>\n",
              "<body>\n",
              "    <div>\n",
              "            <script src=\"https://cdnjs.cloudflare.com/ajax/libs/mathjax/2.7.5/MathJax.js?config=TeX-AMS-MML_SVG\"></script><script type=\"text/javascript\">if (window.MathJax) {MathJax.Hub.Config({SVG: {font: \"STIX-Web\"}});}</script>\n",
              "                <script type=\"text/javascript\">window.PlotlyConfig = {MathJaxConfig: 'local'};</script>\n",
              "        <script src=\"https://cdn.plot.ly/plotly-latest.min.js\"></script>    \n",
              "            <div id=\"b0f9e354-88e1-48a8-a903-d8c17b2b35a9\" class=\"plotly-graph-div\" style=\"height:500px; width:800px;\"></div>\n",
              "            <script type=\"text/javascript\">\n",
              "                \n",
              "                    window.PLOTLYENV=window.PLOTLYENV || {};\n",
              "                    \n",
              "                if (document.getElementById(\"b0f9e354-88e1-48a8-a903-d8c17b2b35a9\")) {\n",
              "                    Plotly.newPlot(\n",
              "                        'b0f9e354-88e1-48a8-a903-d8c17b2b35a9',\n",
              "                        [{\"hoverlabel\": {\"namelength\": 0}, \"hovertemplate\": \"Word=news<br>Month=%{x}<br>Coef=%{y}\", \"legendgroup\": \"Word=news\", \"line\": {\"color\": \"#636efa\", \"dash\": \"solid\"}, \"mode\": \"lines\", \"name\": \"Word=news\", \"showlegend\": true, \"type\": \"scatter\", \"x\": [\"2013-01-01T00:00:00\", \"2013-02-01T00:00:00\", \"2013-03-01T00:00:00\", \"2013-04-01T00:00:00\", \"2013-05-01T00:00:00\", \"2013-06-01T00:00:00\", \"2013-07-01T00:00:00\", \"2013-08-01T00:00:00\", \"2013-09-01T00:00:00\", \"2013-10-01T00:00:00\", \"2013-11-01T00:00:00\", \"2013-12-01T00:00:00\", \"2014-01-01T00:00:00\", \"2014-02-01T00:00:00\", \"2014-03-01T00:00:00\", \"2014-04-01T00:00:00\", \"2014-05-01T00:00:00\", \"2014-06-01T00:00:00\", \"2014-07-01T00:00:00\", \"2014-08-01T00:00:00\", \"2014-09-01T00:00:00\", \"2014-10-01T00:00:00\", \"2014-11-01T00:00:00\", \"2014-12-01T00:00:00\", \"2015-01-01T00:00:00\", \"2015-02-01T00:00:00\", \"2015-03-01T00:00:00\", \"2015-04-01T00:00:00\", \"2015-05-01T00:00:00\", \"2015-06-01T00:00:00\", \"2015-07-01T00:00:00\", \"2015-08-01T00:00:00\", \"2015-09-01T00:00:00\", \"2015-10-01T00:00:00\", \"2015-11-01T00:00:00\", \"2015-12-01T00:00:00\", \"2016-01-01T00:00:00\", \"2016-02-01T00:00:00\", \"2016-03-01T00:00:00\", \"2016-04-01T00:00:00\", \"2016-05-01T00:00:00\", \"2016-06-01T00:00:00\", \"2016-07-01T00:00:00\", \"2016-08-01T00:00:00\", \"2016-09-01T00:00:00\", \"2016-10-01T00:00:00\", \"2016-11-01T00:00:00\", \"2016-12-01T00:00:00\", \"2017-01-01T00:00:00\", \"2017-02-01T00:00:00\", \"2017-03-01T00:00:00\", \"2017-04-01T00:00:00\", \"2017-05-01T00:00:00\", \"2017-06-01T00:00:00\", \"2017-07-01T00:00:00\", \"2017-08-01T00:00:00\", \"2017-09-01T00:00:00\", \"2017-10-01T00:00:00\", \"2017-11-01T00:00:00\", \"2017-12-01T00:00:00\", \"2018-01-01T00:00:00\", \"2018-02-01T00:00:00\", \"2018-03-01T00:00:00\", \"2018-04-01T00:00:00\", \"2018-05-01T00:00:00\", \"2018-06-01T00:00:00\", \"2018-07-01T00:00:00\", \"2018-08-01T00:00:00\", \"2018-09-01T00:00:00\", \"2018-10-01T00:00:00\", \"2018-11-01T00:00:00\", \"2018-12-01T00:00:00\", \"2019-01-01T00:00:00\", \"2019-02-01T00:00:00\", \"2019-03-01T00:00:00\", \"2019-04-01T00:00:00\", \"2019-05-01T00:00:00\", \"2019-06-01T00:00:00\", \"2019-07-01T00:00:00\", \"2019-08-01T00:00:00\", \"2019-09-01T00:00:00\", \"2019-10-01T00:00:00\", \"2019-11-01T00:00:00\", \"2019-12-01T00:00:00\", \"2020-01-01T00:00:00\", \"2020-02-01T00:00:00\", \"2020-03-01T00:00:00\", \"2020-04-01T00:00:00\", \"2020-05-01T00:00:00\"], \"xaxis\": \"x\", \"y\": [0.18752718889061798, 0.19744362636729004, 0.187388797015591, 0.10406317892909671, 0.08317773078066716, 0.11191061314006584, 0.1691136959706462, 0.13676970462872703, 0.1298831681458638, 0.07659746833280832, 0.10071472258344183, 0.10481118325020806, 0.13246037162891652, 0.13732652091861983, 0.13864443343455865, 0.12047698282676586, 0.06517290919857795, 0.06870653867367386, 0.10403218429711492, 0.08741807055202469, 0.0708760649865215, 0.036819274130529746, 0.05879546891466947, 0.09263160002586772, 0.0933746427384119, 0.03357681541675543, 0.028238195248261995, -0.011740601326245782, 0.016116181717805843, 0.03998416809920573, 0.03030419752780973, 0.00782242542931745, -0.0026234791908808057, 0.02963175073034498, 0.07042239018969969, 0.08716455411599952, 0.07030538407786649, 0.05902856899583287, 0.062160301168225324, 0.061914341901239296, 0.06560730997845773, 0.08332432989275629, 0.09261832971882084, 0.08147864022470146, 0.10188366771812035, 0.11974595418369015, 0.14381690151135015, 0.10281640116611909, 0.15589842952763006, 0.12949603944668628, 0.14026928410104458, 0.08738867163492295, 0.1127835827518555, 0.10001462935141653, 0.09441957833541932, 0.0802472018364266, 0.1538040377092143, 0.1404074276535707, 0.16604422762828283, 0.1033310722288139, 0.11570188199737744, 0.1002837510230515, 0.08663028530236375, 0.06287448145509134, 0.03733131990161839, 0.050037434691903714, 0.08494427294351069, 0.08772323412399585, 0.07534606854837983, 0.0562967126803701, 0.04573042159580801, 0.0710325123260561, 0.07514839611570229, 0.08014536728456309, 0.057335762592381274, 0.07950558254696019, 0.06934303514085391, 0.09187908242825572, 0.06979195119421121, 0.07966340208912284, 0.09267608439518353, 0.09241916443481762, 0.09048902540084346, 0.10048473414624301, 0.08325736792290905, 0.05334371536333845, 0.000510617871111615, -0.03259682472332041, -0.029374799701534896], \"yaxis\": \"y\"}, {\"hoverlabel\": {\"namelength\": 0}, \"hovertemplate\": \"Word=opinion<br>Month=%{x}<br>Coef=%{y}\", \"legendgroup\": \"Word=opinion\", \"line\": {\"color\": \"#EF553B\", \"dash\": \"solid\"}, \"mode\": \"lines\", \"name\": \"Word=opinion\", \"showlegend\": true, \"type\": \"scatter\", \"x\": [\"2013-01-01T00:00:00\", \"2013-02-01T00:00:00\", \"2013-03-01T00:00:00\", \"2013-04-01T00:00:00\", \"2013-05-01T00:00:00\", \"2013-06-01T00:00:00\", \"2013-07-01T00:00:00\", \"2013-08-01T00:00:00\", \"2013-09-01T00:00:00\", \"2013-10-01T00:00:00\", \"2013-11-01T00:00:00\", \"2013-12-01T00:00:00\", \"2014-01-01T00:00:00\", \"2014-02-01T00:00:00\", \"2014-03-01T00:00:00\", \"2014-04-01T00:00:00\", \"2014-05-01T00:00:00\", \"2014-06-01T00:00:00\", \"2014-07-01T00:00:00\", \"2014-08-01T00:00:00\", \"2014-09-01T00:00:00\", \"2014-10-01T00:00:00\", \"2014-11-01T00:00:00\", \"2014-12-01T00:00:00\", \"2015-01-01T00:00:00\", \"2015-02-01T00:00:00\", \"2015-03-01T00:00:00\", \"2015-04-01T00:00:00\", \"2015-05-01T00:00:00\", \"2015-06-01T00:00:00\", \"2015-07-01T00:00:00\", \"2015-08-01T00:00:00\", \"2015-09-01T00:00:00\", \"2015-10-01T00:00:00\", \"2015-11-01T00:00:00\", \"2015-12-01T00:00:00\", \"2016-01-01T00:00:00\", \"2016-02-01T00:00:00\", \"2016-03-01T00:00:00\", \"2016-04-01T00:00:00\", \"2016-05-01T00:00:00\", \"2016-06-01T00:00:00\", \"2016-07-01T00:00:00\", \"2016-08-01T00:00:00\", \"2016-09-01T00:00:00\", \"2016-10-01T00:00:00\", \"2016-11-01T00:00:00\", \"2016-12-01T00:00:00\", \"2017-01-01T00:00:00\", \"2017-02-01T00:00:00\", \"2017-03-01T00:00:00\", \"2017-04-01T00:00:00\", \"2017-05-01T00:00:00\", \"2017-06-01T00:00:00\", \"2017-07-01T00:00:00\", \"2017-08-01T00:00:00\", \"2017-09-01T00:00:00\", \"2017-10-01T00:00:00\", \"2017-11-01T00:00:00\", \"2017-12-01T00:00:00\", \"2018-01-01T00:00:00\", \"2018-02-01T00:00:00\", \"2018-03-01T00:00:00\", \"2018-04-01T00:00:00\", \"2018-05-01T00:00:00\", \"2018-06-01T00:00:00\", \"2018-07-01T00:00:00\", \"2018-08-01T00:00:00\", \"2018-09-01T00:00:00\", \"2018-10-01T00:00:00\", \"2018-11-01T00:00:00\", \"2018-12-01T00:00:00\", \"2019-01-01T00:00:00\", \"2019-02-01T00:00:00\", \"2019-03-01T00:00:00\", \"2019-04-01T00:00:00\", \"2019-05-01T00:00:00\", \"2019-06-01T00:00:00\", \"2019-07-01T00:00:00\", \"2019-08-01T00:00:00\", \"2019-09-01T00:00:00\", \"2019-10-01T00:00:00\", \"2019-11-01T00:00:00\", \"2019-12-01T00:00:00\", \"2020-01-01T00:00:00\", \"2020-02-01T00:00:00\", \"2020-03-01T00:00:00\", \"2020-04-01T00:00:00\", \"2020-05-01T00:00:00\"], \"xaxis\": \"x\", \"y\": [0.16513171202851537, 0.15678267927867542, 0.14720854122552063, 0.06817683712715525, 0.0018799326988770116, -0.0052458814087391085, 0.06492682391610714, 0.08613441474354896, 0.11717678740823004, 0.11264933250475516, 0.12519270699493482, 0.13716929272138104, 0.1625246469298059, 0.18363349718653474, 0.16617831806212247, 0.08819320379784037, -0.06791264893981555, -0.04813429152260694, 0.06431588469607999, 0.09667053000175825, 0.07912753057907257, 0.046632440756335804, 0.03343625617964977, 0.017668111987435498, 0.04141711647713377, 0.03562389237396026, 0.02869648332113111, 0.036041091639401376, 0.024382434903480073, 0.0027772438057245465, 0.03406787249817718, 0.05049569408322134, 0.06546682631062022, 0.07402904831077443, 0.06297184309968475, 0.0437298909193605, 0.03676986204919225, 0.06287095323762465, 0.0597913488323954, 0.06840726048197808, 0.04717302296226047, 0.05040615468923979, 0.06120440305809147, 0.05859498911107361, 0.0582425445892716, 0.039136682618339524, 0.04155767328185539, 0.030392750990561025, 0.05517762544462582, 0.0718972318193432, 0.06123657121175527, 0.059634727852855354, -0.001112731908847261, 0.004513091674531161, 0.0018132403528915212, 0.023137828629515817, 0.017507187835022114, 0.0237137111385935, 0.03293848189511809, 0.03846023294141732, 0.06991335365911953, 0.0876728560418039, 0.07179962865031089, 0.029713045633843325, -0.03305819695969011, -0.04312212295086377, 0.02969496327490256, 0.055189212620591274, 0.054791728040126934, 0.024992663966522555, 0.025871004974247064, 0.07212746960473758, 0.08251747630259147, 0.05479606688651572, 0.0207698276074705, 0.009836824936827988, -0.031081391381078842, -0.04910095837057521, 0.00950134002308189, 0.06404480969594464, 0.07957558668096291, 0.06327387135374896, 0.047040385788764585, 0.06867668581454488, 0.0442542702337816, 0.0217409751604338, -0.03524462203262881, -0.004613195860945781, -0.009937159897479378], \"yaxis\": \"y\"}, {\"hoverlabel\": {\"namelength\": 0}, \"hovertemplate\": \"Word=centerpiece<br>Month=%{x}<br>Coef=%{y}\", \"legendgroup\": \"Word=centerpiece\", \"line\": {\"color\": \"#00cc96\", \"dash\": \"solid\"}, \"mode\": \"lines\", \"name\": \"Word=centerpiece\", \"showlegend\": true, \"type\": \"scatter\", \"x\": [\"2013-01-01T00:00:00\", \"2013-02-01T00:00:00\", \"2013-03-01T00:00:00\", \"2013-04-01T00:00:00\", \"2013-05-01T00:00:00\", \"2013-06-01T00:00:00\", \"2013-07-01T00:00:00\", \"2013-08-01T00:00:00\", \"2013-09-01T00:00:00\", \"2013-10-01T00:00:00\", \"2013-11-01T00:00:00\", \"2013-12-01T00:00:00\", \"2014-01-01T00:00:00\", \"2014-02-01T00:00:00\", \"2014-03-01T00:00:00\", \"2014-04-01T00:00:00\", \"2014-05-01T00:00:00\", \"2014-06-01T00:00:00\", \"2014-07-01T00:00:00\", \"2014-08-01T00:00:00\", \"2014-09-01T00:00:00\", \"2014-10-01T00:00:00\", \"2014-11-01T00:00:00\", \"2014-12-01T00:00:00\", \"2015-01-01T00:00:00\", \"2015-02-01T00:00:00\", \"2015-03-01T00:00:00\", \"2015-04-01T00:00:00\", \"2015-05-01T00:00:00\", \"2015-06-01T00:00:00\", \"2015-07-01T00:00:00\", \"2015-08-01T00:00:00\", \"2015-09-01T00:00:00\", \"2015-10-01T00:00:00\", \"2015-11-01T00:00:00\", \"2015-12-01T00:00:00\", \"2016-01-01T00:00:00\", \"2016-02-01T00:00:00\", \"2016-03-01T00:00:00\", \"2016-04-01T00:00:00\", \"2016-05-01T00:00:00\", \"2016-06-01T00:00:00\", \"2016-07-01T00:00:00\", \"2016-08-01T00:00:00\", \"2016-09-01T00:00:00\", \"2016-10-01T00:00:00\", \"2016-11-01T00:00:00\", \"2016-12-01T00:00:00\", \"2017-01-01T00:00:00\", \"2017-02-01T00:00:00\", \"2017-03-01T00:00:00\", \"2017-04-01T00:00:00\", \"2017-05-01T00:00:00\", \"2017-06-01T00:00:00\", \"2017-07-01T00:00:00\", \"2017-08-01T00:00:00\", \"2017-09-01T00:00:00\", \"2017-10-01T00:00:00\", \"2017-11-01T00:00:00\", \"2017-12-01T00:00:00\", \"2018-01-01T00:00:00\", \"2018-02-01T00:00:00\", \"2018-03-01T00:00:00\", \"2018-04-01T00:00:00\", \"2018-05-01T00:00:00\", \"2018-06-01T00:00:00\", \"2018-07-01T00:00:00\", \"2018-08-01T00:00:00\", \"2018-09-01T00:00:00\", \"2018-10-01T00:00:00\", \"2018-11-01T00:00:00\", \"2018-12-01T00:00:00\", \"2019-02-01T00:00:00\", \"2019-03-01T00:00:00\", \"2019-04-01T00:00:00\", \"2019-06-01T00:00:00\", \"2019-07-01T00:00:00\", \"2019-08-01T00:00:00\", \"2019-09-01T00:00:00\", \"2019-10-01T00:00:00\", \"2019-11-01T00:00:00\", \"2019-12-01T00:00:00\", \"2020-01-01T00:00:00\", \"2020-02-01T00:00:00\", \"2020-03-01T00:00:00\", \"2020-04-01T00:00:00\", \"2020-05-01T00:00:00\"], \"xaxis\": \"x\", \"y\": [0.07267705940079357, 0.09773391919307382, 0.12973411429818205, 0.12612808248536533, 0.0763342171710157, 0.052676707282567105, 0.07534150995737386, 0.13483506652808275, 0.16359776548777819, 0.18860107460969192, 0.17023642615496012, 0.19340144937579057, 0.20871787741980485, 0.24199515999787646, 0.20333093839013075, 0.17482173905742074, 0.06533354109180786, 0.09466092448956874, 0.11571892535191612, 0.1260380835356511, 0.10943444783302282, 0.12997209679401922, 0.10858382948178556, 0.1572240654370859, 0.19152694035613338, 0.19830882732110383, 0.17493634978128023, 0.14794693305834483, 0.06308087458027663, 0.06912959212654447, 0.12245265403352153, 0.1675827157011012, 0.16493011765611476, 0.16413206833901156, 0.12521923964659717, 0.08884116105332057, 0.08217407087376245, 0.11332108547271447, 0.13264894737276686, 0.15224061038207334, 0.1380359544442574, 0.09725007586095978, 0.1361422392883346, 0.12111377520954754, 0.12116934959682084, 0.0915769433407981, 0.11115698086780307, 0.10330320737661039, 0.13655228675304784, 0.16445775589447933, 0.15576377157873342, 0.10036529392115835, 0.052674019541591295, 0.027377186434866873, 0.05159410623768934, 0.07605357145023892, 0.09269096208559324, 0.10702736661679321, 0.06923273320005394, 0.07151757256475681, 0.09379050515441541, 0.13469126475098714, 0.11137599216869407, 0.09737192328458648, 0.07455886677058206, 0.07759205109319325, 0.09700275944747457, 0.10348285542617637, 0.12836337001191744, 0.12210364855964179, 0.10299015604236063, 0.023533216638748525, 0.055492079632551664, 0.06150570162488501, 0.06094329712294505, 0.026586305138235372, 0.04327817190980159, 0.07543381528600801, 0.055564382998678774, 0.05079132481481331, 0.05028636213963197, 0.08650631447475005, 0.06401586888998279, 0.058346482486154566, 0.02805168089111629, 0.04342263171958964, 0.04554572768850552], \"yaxis\": \"y\"}, {\"hoverlabel\": {\"namelength\": 0}, \"hovertemplate\": \"Word=academics<br>Month=%{x}<br>Coef=%{y}\", \"legendgroup\": \"Word=academics\", \"line\": {\"color\": \"#ab63fa\", \"dash\": \"solid\"}, \"mode\": \"lines\", \"name\": \"Word=academics\", \"showlegend\": true, \"type\": \"scatter\", \"x\": [\"2013-01-01T00:00:00\", \"2013-02-01T00:00:00\", \"2013-03-01T00:00:00\", \"2013-04-01T00:00:00\", \"2013-05-01T00:00:00\", \"2013-06-01T00:00:00\", \"2013-07-01T00:00:00\", \"2013-08-01T00:00:00\", \"2013-09-01T00:00:00\", \"2013-10-01T00:00:00\", \"2013-11-01T00:00:00\", \"2013-12-01T00:00:00\", \"2014-01-01T00:00:00\", \"2014-02-01T00:00:00\", \"2014-03-01T00:00:00\", \"2014-04-01T00:00:00\", \"2014-05-01T00:00:00\", \"2014-06-01T00:00:00\", \"2014-07-01T00:00:00\", \"2014-08-01T00:00:00\", \"2014-09-01T00:00:00\", \"2014-10-01T00:00:00\", \"2014-11-01T00:00:00\", \"2014-12-01T00:00:00\", \"2015-01-01T00:00:00\", \"2015-02-01T00:00:00\", \"2015-03-01T00:00:00\", \"2015-04-01T00:00:00\", \"2015-05-01T00:00:00\", \"2015-06-01T00:00:00\", \"2015-07-01T00:00:00\", \"2015-08-01T00:00:00\", \"2015-09-01T00:00:00\", \"2015-10-01T00:00:00\", \"2015-11-01T00:00:00\", \"2015-12-01T00:00:00\", \"2016-01-01T00:00:00\", \"2016-02-01T00:00:00\", \"2016-03-01T00:00:00\", \"2016-04-01T00:00:00\", \"2016-05-01T00:00:00\", \"2016-06-01T00:00:00\", \"2016-07-01T00:00:00\", \"2016-08-01T00:00:00\", \"2016-09-01T00:00:00\", \"2016-10-01T00:00:00\", \"2016-11-01T00:00:00\", \"2016-12-01T00:00:00\", \"2017-01-01T00:00:00\", \"2017-02-01T00:00:00\", \"2017-03-01T00:00:00\", \"2017-04-01T00:00:00\", \"2017-05-01T00:00:00\", \"2017-06-01T00:00:00\", \"2017-07-01T00:00:00\", \"2017-08-01T00:00:00\", \"2017-09-01T00:00:00\", \"2017-10-01T00:00:00\", \"2017-11-01T00:00:00\", \"2017-12-01T00:00:00\", \"2018-01-01T00:00:00\", \"2018-02-01T00:00:00\", \"2018-03-01T00:00:00\", \"2018-04-01T00:00:00\", \"2018-05-01T00:00:00\", \"2018-06-01T00:00:00\", \"2018-07-01T00:00:00\", \"2018-08-01T00:00:00\", \"2018-09-01T00:00:00\", \"2018-10-01T00:00:00\", \"2018-11-01T00:00:00\", \"2018-12-01T00:00:00\", \"2019-01-01T00:00:00\", \"2019-02-01T00:00:00\", \"2019-03-01T00:00:00\", \"2019-04-01T00:00:00\", \"2019-05-01T00:00:00\", \"2019-06-01T00:00:00\", \"2019-07-01T00:00:00\", \"2019-08-01T00:00:00\", \"2019-09-01T00:00:00\", \"2019-10-01T00:00:00\", \"2019-11-01T00:00:00\", \"2019-12-01T00:00:00\", \"2020-01-01T00:00:00\", \"2020-02-01T00:00:00\", \"2020-03-01T00:00:00\", \"2020-04-01T00:00:00\", \"2020-05-01T00:00:00\"], \"xaxis\": \"x\", \"y\": [0.002567466916147588, -0.00470789618018798, -0.003992694778304976, -0.009304304697796209, -0.03881493051589581, -0.029629158854376423, -0.044565872349807495, -0.01903968712196999, -0.026364680082126047, -0.01077661901339029, -0.0133536215981622, -0.027157751386642115, -0.012091072460226681, -0.07077089511675126, -0.08380138888822693, -0.05839155330477964, -0.01865378657257356, -0.03151870423663236, -0.043040431145987434, -0.021320207707352934, 0.021461529508889153, 0.009626448047498414, 0.017887249856389356, 0.0069318118181942385, 0.029735244705115342, -0.002248133056377963, -0.0006148323569529284, -0.01786243729095546, 0.015312862618852365, 0.021098902391034582, 0.003999442317548722, 0.03449023966808149, 0.02787648474381996, 0.016921210360375964, 0.0049942007307302244, 0.025655186306515282, 0.010709234747083034, -0.00027995679208865783, -0.024805251950098896, 0.0015359738629982195, -0.0022869310083329574, -0.010670765929020063, 0.015578000889628624, 0.019488368572603457, 0.03885797799820354, -0.003218728898252752, -0.02784767841815647, -0.05325462979195246, 0.0027907121048362936, 0.02075832368582958, 0.017005600994122082, -0.012028062752118365, -0.012282621743842457, -0.0014026520453728126, -0.02962633786015227, 0.028552510550155338, -0.004156193250393209, 0.013283224226170552, 0.00841227168694342, 0.028985063099894823, 0.019492135863105123, 0.013871971947304634, 0.02081183406482638, 0.036144183895219374, 0.025657667489273506, 0.017991374253967476, 0.03271498870350333, 0.009671198399576182, 0.025490214222668315, 0.007252154630424394, 0.0029389601508571775, -0.018158389294590297, 0.0025998058014993185, 0.025405870642011184, 0.020930372430698976, -0.0017709381873812144, 0.0008998322312298773, 0.025111203990311665, 0.00617975227958533, -0.005293068630172263, -0.005020850110931219, 0.0006542109270870294, 0.01868280249071967, -0.017206928822526762, 0.008044119453155946, 0.011685726072879368, 0.05345096178325503, 0.043098341754167865, 0.04125113873749818], \"yaxis\": \"y\"}, {\"hoverlabel\": {\"namelength\": 0}, \"hovertemplate\": \"Word=politics<br>Month=%{x}<br>Coef=%{y}\", \"legendgroup\": \"Word=politics\", \"line\": {\"color\": \"#FFA15A\", \"dash\": \"solid\"}, \"mode\": \"lines\", \"name\": \"Word=politics\", \"showlegend\": true, \"type\": \"scatter\", \"x\": [\"2013-01-01T00:00:00\", \"2013-02-01T00:00:00\", \"2013-03-01T00:00:00\", \"2013-04-01T00:00:00\", \"2013-05-01T00:00:00\", \"2013-06-01T00:00:00\", \"2013-07-01T00:00:00\", \"2013-08-01T00:00:00\", \"2013-09-01T00:00:00\", \"2013-10-01T00:00:00\", \"2013-11-01T00:00:00\", \"2013-12-01T00:00:00\", \"2014-01-01T00:00:00\", \"2014-02-01T00:00:00\", \"2014-03-01T00:00:00\", \"2014-04-01T00:00:00\", \"2014-05-01T00:00:00\", \"2014-06-01T00:00:00\", \"2014-07-01T00:00:00\", \"2014-08-01T00:00:00\", \"2014-09-01T00:00:00\", \"2014-10-01T00:00:00\", \"2014-11-01T00:00:00\", \"2014-12-01T00:00:00\", \"2015-01-01T00:00:00\", \"2015-02-01T00:00:00\", \"2015-03-01T00:00:00\", \"2015-04-01T00:00:00\", \"2015-05-01T00:00:00\", \"2015-06-01T00:00:00\", \"2015-07-01T00:00:00\", \"2015-08-01T00:00:00\", \"2015-09-01T00:00:00\", \"2015-10-01T00:00:00\", \"2015-11-01T00:00:00\", \"2015-12-01T00:00:00\", \"2016-01-01T00:00:00\", \"2016-02-01T00:00:00\", \"2016-03-01T00:00:00\", \"2016-04-01T00:00:00\", \"2016-05-01T00:00:00\", \"2016-06-01T00:00:00\", \"2016-07-01T00:00:00\", \"2016-08-01T00:00:00\", \"2016-09-01T00:00:00\", \"2016-10-01T00:00:00\", \"2016-11-01T00:00:00\", \"2016-12-01T00:00:00\", \"2017-01-01T00:00:00\", \"2017-02-01T00:00:00\", \"2017-03-01T00:00:00\", \"2017-04-01T00:00:00\", \"2017-05-01T00:00:00\", \"2017-06-01T00:00:00\", \"2017-07-01T00:00:00\", \"2017-08-01T00:00:00\", \"2017-09-01T00:00:00\", \"2017-10-01T00:00:00\", \"2017-11-01T00:00:00\", \"2017-12-01T00:00:00\", \"2018-01-01T00:00:00\", \"2018-02-01T00:00:00\", \"2018-03-01T00:00:00\", \"2018-04-01T00:00:00\", \"2018-05-01T00:00:00\", \"2018-06-01T00:00:00\", \"2018-07-01T00:00:00\", \"2018-08-01T00:00:00\", \"2018-09-01T00:00:00\", \"2018-10-01T00:00:00\", \"2018-11-01T00:00:00\", \"2018-12-01T00:00:00\", \"2019-01-01T00:00:00\", \"2019-02-01T00:00:00\", \"2019-03-01T00:00:00\", \"2019-04-01T00:00:00\", \"2019-05-01T00:00:00\", \"2019-06-01T00:00:00\", \"2019-07-01T00:00:00\", \"2019-08-01T00:00:00\", \"2019-09-01T00:00:00\", \"2019-10-01T00:00:00\", \"2019-11-01T00:00:00\", \"2019-12-01T00:00:00\", \"2020-01-01T00:00:00\", \"2020-02-01T00:00:00\", \"2020-03-01T00:00:00\", \"2020-04-01T00:00:00\", \"2020-05-01T00:00:00\"], \"xaxis\": \"x\", \"y\": [0.000557036375244785, -0.03256572911076929, -0.031100398816349226, -0.022547288888243026, -0.0010190546113266847, -0.011549803875156188, -0.05942115069766681, -0.056998853679438355, -0.056896884696737815, -0.0399916901181993, -0.04370496427621097, -0.047876137433622096, -0.05807795502873497, -0.052016305809765705, -0.022863394675514008, -0.008063933113222576, -0.003968746000061249, -0.0006072502579100293, -0.03940671500626937, -0.04581819707694432, -0.040704770504029084, -0.032164248523877316, -0.03377559634126372, -0.05721658005869262, -0.06628541858799862, -0.057352669287488965, -0.0660974571962455, -0.062323867516531996, -0.060945226622196896, -0.0369843572840685, -0.007773913250100519, -0.026694575813630154, -0.018094349752735873, -0.02326221312250172, 0.004447790569466652, -0.011863203471062553, 0.00112218283504106, 0.003205284201695032, 0.021177529069308323, 0.025747181217279716, 0.025384029122877363, -0.002470524777710264, -0.03027269253631132, -0.009649339579397202, 0.01811633191136547, 0.028093387396079514, 0.03986791099500918, 0.003913422534441104, -0.008403397639433992, -0.035314678059529474, -0.029404128827027445, 0.0015788771789464707, 0.022895247631029843, 0.055853978969216296, 0.030584699295276553, 0.01168063343581162, -0.04783639422398005, -0.043907526854095526, -0.06652085370711218, -0.0476952041356751, -0.06643537294533955, -0.04936717025773778, -0.0594800862053516, -0.049315714884412186, -0.04960673921797536, -0.041998168776692116, -0.00930411840710744, -0.01675247425183463, -0.018927823591323566, -0.019845244720239782, -0.020538271001280393, -0.03858648448185616, -0.04165725665964372, -0.051392998413853266, -0.04756871638288841, -0.03884923627097311, 0.010089694343740775, -0.025017863526234772, -0.014128615895851402, -0.015342360431457648, -0.011900022633565632, -0.01021802388939194, -0.031804740120471624, -0.04767309922730692, -0.06909766735360749, -0.06780995030086276, -0.05572570974937374, -0.05855930255085074, -0.07506825276587431], \"yaxis\": \"y\"}, {\"hoverlabel\": {\"namelength\": 0}, \"hovertemplate\": \"Word=sports<br>Month=%{x}<br>Coef=%{y}\", \"legendgroup\": \"Word=sports\", \"line\": {\"color\": \"#19d3f3\", \"dash\": \"solid\"}, \"mode\": \"lines\", \"name\": \"Word=sports\", \"showlegend\": true, \"type\": \"scatter\", \"x\": [\"2013-01-01T00:00:00\", \"2013-02-01T00:00:00\", \"2013-03-01T00:00:00\", \"2013-04-01T00:00:00\", \"2013-05-01T00:00:00\", \"2013-06-01T00:00:00\", \"2013-07-01T00:00:00\", \"2013-08-01T00:00:00\", \"2013-09-01T00:00:00\", \"2013-10-01T00:00:00\", \"2013-11-01T00:00:00\", \"2013-12-01T00:00:00\", \"2014-01-01T00:00:00\", \"2014-02-01T00:00:00\", \"2014-03-01T00:00:00\", \"2014-04-01T00:00:00\", \"2014-05-01T00:00:00\", \"2014-06-01T00:00:00\", \"2014-07-01T00:00:00\", \"2014-08-01T00:00:00\", \"2014-09-01T00:00:00\", \"2014-10-01T00:00:00\", \"2014-11-01T00:00:00\", \"2014-12-01T00:00:00\", \"2015-01-01T00:00:00\", \"2015-02-01T00:00:00\", \"2015-03-01T00:00:00\", \"2015-04-01T00:00:00\", \"2015-05-01T00:00:00\", \"2015-06-01T00:00:00\", \"2015-07-01T00:00:00\", \"2015-08-01T00:00:00\", \"2015-09-01T00:00:00\", \"2015-10-01T00:00:00\", \"2015-11-01T00:00:00\", \"2015-12-01T00:00:00\", \"2016-01-01T00:00:00\", \"2016-02-01T00:00:00\", \"2016-03-01T00:00:00\", \"2016-04-01T00:00:00\", \"2016-05-01T00:00:00\", \"2016-06-01T00:00:00\", \"2016-07-01T00:00:00\", \"2016-08-01T00:00:00\", \"2016-09-01T00:00:00\", \"2016-10-01T00:00:00\", \"2016-11-01T00:00:00\", \"2016-12-01T00:00:00\", \"2017-01-01T00:00:00\", \"2017-02-01T00:00:00\", \"2017-03-01T00:00:00\", \"2017-04-01T00:00:00\", \"2017-05-01T00:00:00\", \"2017-06-01T00:00:00\", \"2017-07-01T00:00:00\", \"2017-08-01T00:00:00\", \"2017-09-01T00:00:00\", \"2017-10-01T00:00:00\", \"2017-11-01T00:00:00\", \"2017-12-01T00:00:00\", \"2018-01-01T00:00:00\", \"2018-02-01T00:00:00\", \"2018-03-01T00:00:00\", \"2018-04-01T00:00:00\", \"2018-05-01T00:00:00\", \"2018-06-01T00:00:00\", \"2018-07-01T00:00:00\", \"2018-08-01T00:00:00\", \"2018-09-01T00:00:00\", \"2018-10-01T00:00:00\", \"2018-11-01T00:00:00\", \"2018-12-01T00:00:00\", \"2019-01-01T00:00:00\", \"2019-02-01T00:00:00\", \"2019-03-01T00:00:00\", \"2019-04-01T00:00:00\", \"2019-05-01T00:00:00\", \"2019-06-01T00:00:00\", \"2019-07-01T00:00:00\", \"2019-08-01T00:00:00\", \"2019-09-01T00:00:00\", \"2019-10-01T00:00:00\", \"2019-11-01T00:00:00\", \"2019-12-01T00:00:00\", \"2020-01-01T00:00:00\", \"2020-02-01T00:00:00\", \"2020-03-01T00:00:00\", \"2020-04-01T00:00:00\", \"2020-05-01T00:00:00\"], \"xaxis\": \"x\", \"y\": [-0.09353914532074527, -0.08061445055846889, -0.047226321913606074, -0.12272903014952864, -0.10567627414934105, -0.11589490785285114, -0.12844453926210728, -0.0843800714384816, -0.056173254133515683, -0.026592005818626953, -0.0346018920126581, -0.054471052725052434, -0.050642798364842194, -0.039465532698563344, -0.03511514770974972, -0.03896012065594461, -0.016455471164096642, -0.05279075094191326, -0.11276123720354661, -0.11816854569509622, -0.11551134949161086, -0.11028343348029265, -0.0905920535025477, -0.07125697493394335, -0.07737709862149107, -0.08133925332670211, -0.08562606122944603, -0.07963904881169077, -0.08030079287049173, -0.07030225073869929, -0.12288869301978034, -0.11708271320857015, -0.10064245784138874, -0.071215996019522, -0.04672772727791858, -0.05342663099399333, -0.07695770042019649, -0.07368437962389413, -0.07418526768241167, -0.05771267986646305, -0.046285987937021246, -0.03580678835590245, -0.08506070867459128, -0.09868565251524343, -0.07962316291222823, -0.05977221355137633, -0.0330247586050518, -0.0664486245175694, -0.050887121379335834, -0.03446268345293435, -0.011081930635150915, -0.016951010675056603, -0.05000354592561497, -0.03947288739205021, -0.06551100572247352, -0.046071158057538426, -0.01978098031715017, -0.01180177868598913, -0.002706606531277657, -0.012798113726129011, -0.002297816053784092, -0.02087128047408427, -0.019340371282346183, -0.06054729435753722, -0.044751323270284436, -0.05086034038324523, -0.041746129220780706, -0.027914061629302957, -0.03954184387915089, -0.0556139501680479, -0.0732108578709886, -0.07206412053778713, -0.0689548882604345, -0.07616624683231517, -0.06957711771935148, -0.07291674087353418, -0.039039695790407024, -0.06111202422042944, -0.07073490023608273, -0.05921499758685296, -0.05600632806929365, -0.042671772632221036, -0.02962035691782321, -0.013882119591395186, -0.04118792175214701, -0.04602420401848522, -0.04126648315939517, 0.018728853144685285, 0.03343840090071183], \"yaxis\": \"y\"}, {\"hoverlabel\": {\"namelength\": 0}, \"hovertemplate\": \"Word=topstories<br>Month=%{x}<br>Coef=%{y}\", \"legendgroup\": \"Word=topstories\", \"line\": {\"color\": \"#FF6692\", \"dash\": \"solid\"}, \"mode\": \"lines\", \"name\": \"Word=topstories\", \"showlegend\": true, \"type\": \"scatter\", \"x\": [\"2013-09-01T00:00:00\", \"2013-10-01T00:00:00\", \"2013-11-01T00:00:00\", \"2014-07-01T00:00:00\", \"2014-08-01T00:00:00\", \"2014-09-01T00:00:00\", \"2014-10-01T00:00:00\", \"2014-11-01T00:00:00\", \"2014-12-01T00:00:00\", \"2015-01-01T00:00:00\", \"2015-02-01T00:00:00\", \"2015-03-01T00:00:00\", \"2015-04-01T00:00:00\", \"2015-05-01T00:00:00\", \"2015-06-01T00:00:00\", \"2015-07-01T00:00:00\", \"2015-08-01T00:00:00\", \"2015-09-01T00:00:00\", \"2015-10-01T00:00:00\", \"2015-11-01T00:00:00\", \"2015-12-01T00:00:00\", \"2016-01-01T00:00:00\", \"2016-02-01T00:00:00\", \"2016-03-01T00:00:00\", \"2016-04-01T00:00:00\", \"2016-05-01T00:00:00\", \"2016-06-01T00:00:00\", \"2016-07-01T00:00:00\", \"2016-08-01T00:00:00\", \"2016-09-01T00:00:00\", \"2016-10-01T00:00:00\", \"2016-11-01T00:00:00\", \"2016-12-01T00:00:00\", \"2017-01-01T00:00:00\", \"2017-02-01T00:00:00\", \"2017-03-01T00:00:00\"], \"xaxis\": \"x\", \"y\": [-0.004056891599122034, -0.00724742608425771, -0.0077351537356902655, 0.0018349601223454448, -0.010412220569832016, 0.04252282717199312, 0.05571577907502419, 0.10343055635509624, 0.09012597564593344, 0.09766663542030889, 0.0843232366579516, 0.0790097752346581, 0.06371924322190746, 0.06233979576215431, 0.07482719742086423, 0.06771503210467067, 0.06632414076083668, 0.07036493445927863, 0.07328560907085362, 0.11656780965403313, 0.12329207100332622, 0.11849737780446944, 0.1256577203518191, 0.11765557582548389, 0.12945632406055071, 0.09362220938474425, 0.08660412438872755, 0.11448677259565408, 0.08881303395699937, 0.07056237119657047, 0.0006045927558086479, -0.033623473011195566, -0.02816829493797998, 0.024584388007435305, 0.03136102345052678, 0.02401270519777996], \"yaxis\": \"y\"}, {\"hoverlabel\": {\"namelength\": 0}, \"hovertemplate\": \"Word=studentlife<br>Month=%{x}<br>Coef=%{y}\", \"legendgroup\": \"Word=studentlife\", \"line\": {\"color\": \"#B6E880\", \"dash\": \"solid\"}, \"mode\": \"lines\", \"name\": \"Word=studentlife\", \"showlegend\": true, \"type\": \"scatter\", \"x\": [\"2013-11-01T00:00:00\", \"2013-12-01T00:00:00\", \"2014-01-01T00:00:00\", \"2014-09-01T00:00:00\", \"2014-10-01T00:00:00\", \"2014-11-01T00:00:00\", \"2014-12-01T00:00:00\", \"2015-01-01T00:00:00\", \"2015-02-01T00:00:00\", \"2015-03-01T00:00:00\", \"2015-04-01T00:00:00\", \"2015-05-01T00:00:00\", \"2015-06-01T00:00:00\", \"2015-07-01T00:00:00\", \"2015-08-01T00:00:00\", \"2015-09-01T00:00:00\", \"2015-10-01T00:00:00\", \"2015-11-01T00:00:00\", \"2015-12-01T00:00:00\", \"2016-01-01T00:00:00\", \"2016-02-01T00:00:00\", \"2016-03-01T00:00:00\", \"2016-04-01T00:00:00\", \"2016-05-01T00:00:00\", \"2016-06-01T00:00:00\", \"2016-07-01T00:00:00\", \"2016-08-01T00:00:00\", \"2016-09-01T00:00:00\", \"2016-10-01T00:00:00\", \"2016-11-01T00:00:00\", \"2016-12-01T00:00:00\", \"2017-01-01T00:00:00\", \"2017-02-01T00:00:00\", \"2017-03-01T00:00:00\", \"2017-04-01T00:00:00\", \"2017-05-01T00:00:00\", \"2017-06-01T00:00:00\", \"2017-07-01T00:00:00\", \"2017-08-01T00:00:00\", \"2017-09-01T00:00:00\", \"2017-10-01T00:00:00\", \"2017-11-01T00:00:00\", \"2017-12-01T00:00:00\", \"2018-01-01T00:00:00\", \"2018-02-01T00:00:00\", \"2018-03-01T00:00:00\", \"2018-04-01T00:00:00\", \"2018-05-01T00:00:00\", \"2018-06-01T00:00:00\", \"2018-07-01T00:00:00\", \"2018-08-01T00:00:00\", \"2018-09-01T00:00:00\", \"2018-10-01T00:00:00\", \"2018-11-01T00:00:00\", \"2018-12-01T00:00:00\", \"2019-01-01T00:00:00\", \"2019-02-01T00:00:00\", \"2019-03-01T00:00:00\", \"2019-04-01T00:00:00\", \"2019-05-01T00:00:00\", \"2019-06-01T00:00:00\", \"2019-07-01T00:00:00\", \"2019-08-01T00:00:00\", \"2019-09-01T00:00:00\", \"2019-10-01T00:00:00\", \"2019-11-01T00:00:00\", \"2019-12-01T00:00:00\", \"2020-01-01T00:00:00\", \"2020-02-01T00:00:00\", \"2020-03-01T00:00:00\", \"2020-04-01T00:00:00\", \"2020-05-01T00:00:00\"], \"xaxis\": \"x\", \"y\": [-0.007732804103364956, -0.008078448624035872, -0.00748892430401214, -0.00798427296700889, -0.01541824053083535, 0.006512666379262412, 0.02285162367627052, 0.038653327359366406, 0.03914940170624418, 0.0340284490879279, 0.0563324417880367, 0.08310962975415187, 0.06849136550369357, 0.017576141481702907, 0.002061761527718569, 0.022401313473949913, 0.026112119494613797, 0.03271146393828671, 0.015958327347163802, 0.02089136305757797, 0.030824532848496452, 0.01486534703252714, 0.02192338646839798, -0.012513989236692747, -0.0028504193475722417, 0.014501363985044985, 0.017968416751296856, 0.019043118207516085, 0.028813029796633187, 0.018758825290093827, 0.010617533098459336, 0.0017276948954248008, 0.00417086265644502, 0.02016621247874233, 0.00791717262047433, 0.04036889525292892, 0.05556337131321495, 0.0927659065704713, 0.0856197109052591, 0.06594600775341235, 0.0422646710215368, 0.022656645410694808, 0.002561195728167505, 0.0012487539731419993, 0.029942455187315364, 0.034536375418537796, 0.022582748725260813, -0.04004612083752547, 0.017102152366593213, 0.049873120770460626, 0.06511207763370302, 0.05869391600086466, 0.03235865372311234, 0.01252337283285567, -0.004051913603708709, 0.02109339544787894, 0.05570808479025085, 0.06367607276823202, 0.046654261547682783, 0.014388140123424107, -0.03494503512615776, -0.038132121823656655, -0.05019033237719347, -0.005261188344534245, 0.014705693049413581, 0.053540400605079475, 0.011148890590440204, 0.018819789673138198, 0.024850738271449475, 0.0384935246734909, 0.08138927001828418, 0.0919753457498394], \"yaxis\": \"y\"}, {\"hoverlabel\": {\"namelength\": 0}, \"hovertemplate\": \"Word=philly<br>Month=%{x}<br>Coef=%{y}\", \"legendgroup\": \"Word=philly\", \"line\": {\"color\": \"#FF97FF\", \"dash\": \"solid\"}, \"mode\": \"lines\", \"name\": \"Word=philly\", \"showlegend\": true, \"type\": \"scatter\", \"x\": [\"2013-12-01T00:00:00\", \"2014-01-01T00:00:00\", \"2014-02-01T00:00:00\", \"2014-03-01T00:00:00\", \"2014-04-01T00:00:00\", \"2014-05-01T00:00:00\", \"2014-08-01T00:00:00\", \"2014-09-01T00:00:00\", \"2014-10-01T00:00:00\", \"2014-11-01T00:00:00\", \"2014-12-01T00:00:00\", \"2015-01-01T00:00:00\", \"2015-02-01T00:00:00\", \"2015-03-01T00:00:00\", \"2015-04-01T00:00:00\", \"2015-05-01T00:00:00\", \"2015-06-01T00:00:00\", \"2015-07-01T00:00:00\", \"2015-08-01T00:00:00\", \"2015-09-01T00:00:00\", \"2015-10-01T00:00:00\", \"2015-11-01T00:00:00\", \"2015-12-01T00:00:00\", \"2016-01-01T00:00:00\", \"2016-02-01T00:00:00\", \"2016-03-01T00:00:00\", \"2016-04-01T00:00:00\", \"2016-05-01T00:00:00\", \"2016-06-01T00:00:00\", \"2016-07-01T00:00:00\", \"2016-08-01T00:00:00\", \"2016-09-01T00:00:00\", \"2016-10-01T00:00:00\", \"2016-11-01T00:00:00\", \"2016-12-01T00:00:00\", \"2017-01-01T00:00:00\", \"2017-02-01T00:00:00\", \"2017-03-01T00:00:00\", \"2017-04-01T00:00:00\", \"2017-05-01T00:00:00\", \"2017-06-01T00:00:00\", \"2017-07-01T00:00:00\", \"2017-08-01T00:00:00\", \"2017-09-01T00:00:00\", \"2017-10-01T00:00:00\", \"2017-11-01T00:00:00\", \"2017-12-01T00:00:00\", \"2018-01-01T00:00:00\", \"2018-02-01T00:00:00\", \"2018-03-01T00:00:00\", \"2018-04-01T00:00:00\", \"2018-05-01T00:00:00\", \"2018-06-01T00:00:00\", \"2018-07-01T00:00:00\", \"2018-08-01T00:00:00\", \"2018-09-01T00:00:00\", \"2018-10-01T00:00:00\", \"2018-11-01T00:00:00\", \"2018-12-01T00:00:00\", \"2019-01-01T00:00:00\", \"2019-02-01T00:00:00\", \"2019-03-01T00:00:00\", \"2019-04-01T00:00:00\", \"2019-05-01T00:00:00\", \"2019-06-01T00:00:00\", \"2019-07-01T00:00:00\", \"2019-08-01T00:00:00\", \"2019-09-01T00:00:00\", \"2019-10-01T00:00:00\", \"2019-11-01T00:00:00\", \"2019-12-01T00:00:00\", \"2020-01-01T00:00:00\", \"2020-02-01T00:00:00\", \"2020-03-01T00:00:00\", \"2020-04-01T00:00:00\", \"2020-05-01T00:00:00\"], \"xaxis\": \"x\", \"y\": [0.0038005585830610663, -0.00643175801091671, -0.02035022399703229, -0.025687396974441758, -0.014588312284859122, -0.01061973556746838, -0.001709067609430689, 0.00327717526860912, -0.012190827990686545, -0.03012770991339194, -0.04314188292330428, -0.04553268178048296, -0.048456154550390845, -0.04217340634766308, -0.03201774432925542, -0.00912719727248504, -0.022185242767268406, -0.0003555412039344454, -0.0159363401825408, -0.024442001178745322, -0.021027580603555546, -0.042393988925760545, -0.009111493208735165, -0.015529501390665841, 0.006765598848809202, 0.0022953695446290747, 0.014496859071144863, 0.019766377409183328, 0.027479131023692264, 0.011752215129950026, -0.0054375041698055335, 0.009072072856541356, 0.006159931370909326, 0.016325061410524623, -0.004789766704739816, 0.004772361194067064, 0.013345833249259663, 0.0019137524772591646, 0.00020847590579319833, 0.005424445691583345, 0.02719168135716855, 0.024838461652674334, -0.014367887158126657, 0.0023202444455210636, 0.000815774746225605, -0.024200755110610258, -0.005380506337081733, -0.012257190363606578, 0.0039712320015887195, 0.0012986888987454631, 0.03554474939158685, 0.010930863703406164, 0.013732736021636776, 0.03781744207665583, 0.0012345698618718688, 0.003792057949053368, -0.02210977296120147, 0.007986800542577725, 0.0012105052217124817, 0.0043027431540237256, 0.014777106117705713, 0.02335689781076302, 0.018973987564985976, -0.0065998961605445525, 0.01625359580574717, 0.013522201559298975, 0.020716383740727446, -0.00966135789760326, -0.008444087887977635, -0.01571565095914724, 0.007204764361080261, -0.008934681316257444, 0.0053552132984389005, -0.003269797295388225, 0.012050669583890056, -0.015369805173756704], \"yaxis\": \"y\"}, {\"hoverlabel\": {\"namelength\": 0}, \"hovertemplate\": \"Word=newsreel<br>Month=%{x}<br>Coef=%{y}\", \"legendgroup\": \"Word=newsreel\", \"line\": {\"color\": \"#FECB52\", \"dash\": \"solid\"}, \"mode\": \"lines\", \"name\": \"Word=newsreel\", \"showlegend\": true, \"type\": \"scatter\", \"x\": [\"2014-10-01T00:00:00\", \"2014-11-01T00:00:00\", \"2014-12-01T00:00:00\", \"2015-01-01T00:00:00\", \"2015-02-01T00:00:00\", \"2015-03-01T00:00:00\", \"2015-04-01T00:00:00\", \"2015-05-01T00:00:00\", \"2015-06-01T00:00:00\", \"2015-07-01T00:00:00\", \"2015-08-01T00:00:00\", \"2015-09-01T00:00:00\", \"2015-10-01T00:00:00\", \"2015-11-01T00:00:00\", \"2015-12-01T00:00:00\", \"2016-01-01T00:00:00\", \"2016-02-01T00:00:00\", \"2016-03-01T00:00:00\", \"2016-04-01T00:00:00\", \"2016-05-01T00:00:00\", \"2016-06-01T00:00:00\", \"2016-07-01T00:00:00\", \"2016-08-01T00:00:00\", \"2016-09-01T00:00:00\", \"2016-10-01T00:00:00\", \"2016-11-01T00:00:00\", \"2016-12-01T00:00:00\", \"2017-01-01T00:00:00\", \"2017-02-01T00:00:00\", \"2017-03-01T00:00:00\", \"2017-04-01T00:00:00\", \"2017-05-01T00:00:00\", \"2017-06-01T00:00:00\", \"2017-07-01T00:00:00\", \"2017-08-01T00:00:00\", \"2017-09-01T00:00:00\", \"2017-10-01T00:00:00\", \"2017-11-01T00:00:00\"], \"xaxis\": \"x\", \"y\": [0.01038914088174244, 0.03973526152353667, 0.09481925440352178, 0.04640301512583843, 0.023026602007140573, -0.006042710253277172, 0.005600763573907167, 0.012300334700502263, 0.03310340170668842, 0.051692655875191, 0.08071038063367543, 0.0684278187447738, 0.08124276371961599, 0.024027021832422783, -0.03029419692499945, -0.06677607633695067, -0.05512234466739161, -0.031157921669788355, 0.008535944059725993, 0.04717302296226049, 0.031791821096424595, -0.020649125837482976, -0.037949546089953885, -0.038909310517010715, -0.03821226148500319, -0.0714406178579253, -0.07547282051286872, -0.071935412341815, -0.04720485460757171, -0.030128247102065603, -0.03394867798468724, -0.03279209612872932, -0.044664852576000565, -0.02398363035559609, -0.024568769053963692, 0.014244106727828443, 0.01225688786323363, -0.000948711189215671], \"yaxis\": \"y\"}],\n",
              "                        {\"height\": 500, \"legend\": {\"tracegroupgap\": 0}, \"template\": {\"data\": {\"bar\": [{\"error_x\": {\"color\": \"#2a3f5f\"}, \"error_y\": {\"color\": \"#2a3f5f\"}, \"marker\": {\"line\": {\"color\": \"#E5ECF6\", \"width\": 0.5}}, \"type\": \"bar\"}], \"barpolar\": [{\"marker\": {\"line\": {\"color\": \"#E5ECF6\", \"width\": 0.5}}, \"type\": \"barpolar\"}], \"carpet\": [{\"aaxis\": {\"endlinecolor\": \"#2a3f5f\", \"gridcolor\": \"white\", \"linecolor\": \"white\", \"minorgridcolor\": \"white\", \"startlinecolor\": \"#2a3f5f\"}, \"baxis\": {\"endlinecolor\": \"#2a3f5f\", \"gridcolor\": \"white\", \"linecolor\": \"white\", \"minorgridcolor\": \"white\", \"startlinecolor\": \"#2a3f5f\"}, \"type\": \"carpet\"}], \"choropleth\": [{\"colorbar\": {\"outlinewidth\": 0, \"ticks\": \"\"}, \"type\": \"choropleth\"}], \"contour\": [{\"colorbar\": {\"outlinewidth\": 0, \"ticks\": \"\"}, \"colorscale\": [[0.0, \"#0d0887\"], [0.1111111111111111, \"#46039f\"], [0.2222222222222222, \"#7201a8\"], [0.3333333333333333, \"#9c179e\"], [0.4444444444444444, \"#bd3786\"], [0.5555555555555556, \"#d8576b\"], [0.6666666666666666, \"#ed7953\"], [0.7777777777777778, \"#fb9f3a\"], [0.8888888888888888, \"#fdca26\"], [1.0, \"#f0f921\"]], \"type\": \"contour\"}], \"contourcarpet\": [{\"colorbar\": {\"outlinewidth\": 0, \"ticks\": \"\"}, \"type\": \"contourcarpet\"}], \"heatmap\": [{\"colorbar\": {\"outlinewidth\": 0, \"ticks\": \"\"}, \"colorscale\": [[0.0, \"#0d0887\"], [0.1111111111111111, \"#46039f\"], [0.2222222222222222, \"#7201a8\"], [0.3333333333333333, \"#9c179e\"], [0.4444444444444444, \"#bd3786\"], [0.5555555555555556, \"#d8576b\"], [0.6666666666666666, \"#ed7953\"], [0.7777777777777778, \"#fb9f3a\"], [0.8888888888888888, \"#fdca26\"], [1.0, \"#f0f921\"]], \"type\": \"heatmap\"}], \"heatmapgl\": [{\"colorbar\": {\"outlinewidth\": 0, \"ticks\": \"\"}, \"colorscale\": [[0.0, \"#0d0887\"], [0.1111111111111111, \"#46039f\"], [0.2222222222222222, \"#7201a8\"], [0.3333333333333333, \"#9c179e\"], [0.4444444444444444, \"#bd3786\"], [0.5555555555555556, \"#d8576b\"], [0.6666666666666666, \"#ed7953\"], [0.7777777777777778, \"#fb9f3a\"], [0.8888888888888888, \"#fdca26\"], [1.0, \"#f0f921\"]], \"type\": \"heatmapgl\"}], \"histogram\": [{\"marker\": {\"colorbar\": {\"outlinewidth\": 0, \"ticks\": \"\"}}, \"type\": \"histogram\"}], \"histogram2d\": [{\"colorbar\": {\"outlinewidth\": 0, \"ticks\": \"\"}, \"colorscale\": [[0.0, \"#0d0887\"], [0.1111111111111111, \"#46039f\"], [0.2222222222222222, \"#7201a8\"], [0.3333333333333333, \"#9c179e\"], [0.4444444444444444, \"#bd3786\"], [0.5555555555555556, \"#d8576b\"], [0.6666666666666666, \"#ed7953\"], [0.7777777777777778, \"#fb9f3a\"], [0.8888888888888888, \"#fdca26\"], [1.0, \"#f0f921\"]], \"type\": \"histogram2d\"}], \"histogram2dcontour\": [{\"colorbar\": {\"outlinewidth\": 0, \"ticks\": \"\"}, \"colorscale\": [[0.0, \"#0d0887\"], [0.1111111111111111, \"#46039f\"], [0.2222222222222222, \"#7201a8\"], [0.3333333333333333, \"#9c179e\"], [0.4444444444444444, \"#bd3786\"], [0.5555555555555556, \"#d8576b\"], [0.6666666666666666, \"#ed7953\"], [0.7777777777777778, \"#fb9f3a\"], [0.8888888888888888, \"#fdca26\"], [1.0, \"#f0f921\"]], \"type\": \"histogram2dcontour\"}], \"mesh3d\": [{\"colorbar\": {\"outlinewidth\": 0, \"ticks\": \"\"}, \"type\": \"mesh3d\"}], \"parcoords\": [{\"line\": {\"colorbar\": {\"outlinewidth\": 0, \"ticks\": \"\"}}, \"type\": \"parcoords\"}], \"pie\": [{\"automargin\": true, \"type\": \"pie\"}], \"scatter\": [{\"marker\": {\"colorbar\": {\"outlinewidth\": 0, \"ticks\": \"\"}}, \"type\": \"scatter\"}], \"scatter3d\": [{\"line\": {\"colorbar\": {\"outlinewidth\": 0, \"ticks\": \"\"}}, \"marker\": {\"colorbar\": {\"outlinewidth\": 0, \"ticks\": \"\"}}, \"type\": \"scatter3d\"}], \"scattercarpet\": [{\"marker\": {\"colorbar\": {\"outlinewidth\": 0, \"ticks\": \"\"}}, \"type\": \"scattercarpet\"}], \"scattergeo\": [{\"marker\": {\"colorbar\": {\"outlinewidth\": 0, \"ticks\": \"\"}}, \"type\": \"scattergeo\"}], \"scattergl\": [{\"marker\": {\"colorbar\": {\"outlinewidth\": 0, \"ticks\": \"\"}}, \"type\": \"scattergl\"}], \"scattermapbox\": [{\"marker\": {\"colorbar\": {\"outlinewidth\": 0, \"ticks\": \"\"}}, \"type\": \"scattermapbox\"}], \"scatterpolar\": [{\"marker\": {\"colorbar\": {\"outlinewidth\": 0, \"ticks\": \"\"}}, \"type\": \"scatterpolar\"}], \"scatterpolargl\": [{\"marker\": {\"colorbar\": {\"outlinewidth\": 0, \"ticks\": \"\"}}, \"type\": \"scatterpolargl\"}], \"scatterternary\": [{\"marker\": {\"colorbar\": {\"outlinewidth\": 0, \"ticks\": \"\"}}, \"type\": \"scatterternary\"}], \"surface\": [{\"colorbar\": {\"outlinewidth\": 0, \"ticks\": \"\"}, \"colorscale\": [[0.0, \"#0d0887\"], [0.1111111111111111, \"#46039f\"], [0.2222222222222222, \"#7201a8\"], [0.3333333333333333, \"#9c179e\"], [0.4444444444444444, \"#bd3786\"], [0.5555555555555556, \"#d8576b\"], [0.6666666666666666, \"#ed7953\"], [0.7777777777777778, \"#fb9f3a\"], [0.8888888888888888, \"#fdca26\"], [1.0, \"#f0f921\"]], \"type\": \"surface\"}], \"table\": [{\"cells\": {\"fill\": {\"color\": \"#EBF0F8\"}, \"line\": {\"color\": \"white\"}}, \"header\": {\"fill\": {\"color\": \"#C8D4E3\"}, \"line\": {\"color\": \"white\"}}, \"type\": \"table\"}]}, \"layout\": {\"annotationdefaults\": {\"arrowcolor\": \"#2a3f5f\", \"arrowhead\": 0, \"arrowwidth\": 1}, \"coloraxis\": {\"colorbar\": {\"outlinewidth\": 0, \"ticks\": \"\"}}, \"colorscale\": {\"diverging\": [[0, \"#8e0152\"], [0.1, \"#c51b7d\"], [0.2, \"#de77ae\"], [0.3, \"#f1b6da\"], [0.4, \"#fde0ef\"], [0.5, \"#f7f7f7\"], [0.6, \"#e6f5d0\"], [0.7, \"#b8e186\"], [0.8, \"#7fbc41\"], [0.9, \"#4d9221\"], [1, \"#276419\"]], \"sequential\": [[0.0, \"#0d0887\"], [0.1111111111111111, \"#46039f\"], [0.2222222222222222, \"#7201a8\"], [0.3333333333333333, \"#9c179e\"], [0.4444444444444444, \"#bd3786\"], [0.5555555555555556, \"#d8576b\"], [0.6666666666666666, \"#ed7953\"], [0.7777777777777778, \"#fb9f3a\"], [0.8888888888888888, \"#fdca26\"], [1.0, \"#f0f921\"]], \"sequentialminus\": [[0.0, \"#0d0887\"], [0.1111111111111111, \"#46039f\"], [0.2222222222222222, \"#7201a8\"], [0.3333333333333333, \"#9c179e\"], [0.4444444444444444, \"#bd3786\"], [0.5555555555555556, \"#d8576b\"], [0.6666666666666666, \"#ed7953\"], [0.7777777777777778, \"#fb9f3a\"], [0.8888888888888888, \"#fdca26\"], [1.0, \"#f0f921\"]]}, \"colorway\": [\"#636efa\", \"#EF553B\", \"#00cc96\", \"#ab63fa\", \"#FFA15A\", \"#19d3f3\", \"#FF6692\", \"#B6E880\", \"#FF97FF\", \"#FECB52\"], \"font\": {\"color\": \"#2a3f5f\"}, \"geo\": {\"bgcolor\": \"white\", \"lakecolor\": \"white\", \"landcolor\": \"#E5ECF6\", \"showlakes\": true, \"showland\": true, \"subunitcolor\": \"white\"}, \"hoverlabel\": {\"align\": \"left\"}, \"hovermode\": \"closest\", \"mapbox\": {\"style\": \"light\"}, \"paper_bgcolor\": \"white\", \"plot_bgcolor\": \"#E5ECF6\", \"polar\": {\"angularaxis\": {\"gridcolor\": \"white\", \"linecolor\": \"white\", \"ticks\": \"\"}, \"bgcolor\": \"#E5ECF6\", \"radialaxis\": {\"gridcolor\": \"white\", \"linecolor\": \"white\", \"ticks\": \"\"}}, \"scene\": {\"xaxis\": {\"backgroundcolor\": \"#E5ECF6\", \"gridcolor\": \"white\", \"gridwidth\": 2, \"linecolor\": \"white\", \"showbackground\": true, \"ticks\": \"\", \"zerolinecolor\": \"white\"}, \"yaxis\": {\"backgroundcolor\": \"#E5ECF6\", \"gridcolor\": \"white\", \"gridwidth\": 2, \"linecolor\": \"white\", \"showbackground\": true, \"ticks\": \"\", \"zerolinecolor\": \"white\"}, \"zaxis\": {\"backgroundcolor\": \"#E5ECF6\", \"gridcolor\": \"white\", \"gridwidth\": 2, \"linecolor\": \"white\", \"showbackground\": true, \"ticks\": \"\", \"zerolinecolor\": \"white\"}}, \"shapedefaults\": {\"line\": {\"color\": \"#2a3f5f\"}}, \"ternary\": {\"aaxis\": {\"gridcolor\": \"white\", \"linecolor\": \"white\", \"ticks\": \"\"}, \"baxis\": {\"gridcolor\": \"white\", \"linecolor\": \"white\", \"ticks\": \"\"}, \"bgcolor\": \"#E5ECF6\", \"caxis\": {\"gridcolor\": \"white\", \"linecolor\": \"white\", \"ticks\": \"\"}}, \"title\": {\"x\": 0.05}, \"xaxis\": {\"automargin\": true, \"gridcolor\": \"white\", \"linecolor\": \"white\", \"ticks\": \"\", \"title\": {\"standoff\": 15}, \"zerolinecolor\": \"white\", \"zerolinewidth\": 2}, \"yaxis\": {\"automargin\": true, \"gridcolor\": \"white\", \"linecolor\": \"white\", \"ticks\": \"\", \"title\": {\"standoff\": 15}, \"zerolinecolor\": \"white\", \"zerolinewidth\": 2}}}, \"title\": {\"text\": \"Word Importnaces over Time (3-month Rolling Window)\"}, \"width\": 800, \"xaxis\": {\"anchor\": \"y\", \"domain\": [0.0, 1.0], \"title\": {\"text\": \"Month\"}}, \"yaxis\": {\"anchor\": \"x\", \"domain\": [0.0, 1.0], \"title\": {\"text\": \"Coef\"}}},\n",
              "                        {\"responsive\": true}\n",
              "                    ).then(function(){\n",
              "                            \n",
              "var gd = document.getElementById('b0f9e354-88e1-48a8-a903-d8c17b2b35a9');\n",
              "var x = new MutationObserver(function (mutations, observer) {{\n",
              "        var display = window.getComputedStyle(gd).display;\n",
              "        if (!display || display === 'none') {{\n",
              "            console.log([gd, 'removed!']);\n",
              "            Plotly.purge(gd);\n",
              "            observer.disconnect();\n",
              "        }}\n",
              "}});\n",
              "\n",
              "// Listen for the removal of the full notebook cells\n",
              "var notebookContainer = gd.closest('#notebook-container');\n",
              "if (notebookContainer) {{\n",
              "    x.observe(notebookContainer, {childList: true});\n",
              "}}\n",
              "\n",
              "// Listen for the clearing of the current output cell\n",
              "var outputEl = gd.closest('.output');\n",
              "if (outputEl) {{\n",
              "    x.observe(outputEl, {childList: true});\n",
              "}}\n",
              "\n",
              "                        })\n",
              "                };\n",
              "                \n",
              "            </script>\n",
              "        </div>\n",
              "</body>\n",
              "</html>"
            ]
          },
          "metadata": {
            "tags": []
          }
        }
      ]
    },
    {
      "cell_type": "markdown",
      "metadata": {
        "id": "XjvM0wlJTKMF"
      },
      "source": [
        "## Logistic Regression"
      ]
    },
    {
      "cell_type": "code",
      "metadata": {
        "id": "k1ggYQYHdSR4"
      },
      "source": [
        "from sklearn.metrics import accuracy_score, confusion_matrix, mean_squared_error, mean_absolute_error, recall_score, precision_score, f1_score, auc\r\n",
        "from sklearn.linear_model import LogisticRegression"
      ],
      "execution_count": null,
      "outputs": []
    },
    {
      "cell_type": "code",
      "metadata": {
        "id": "bXGdoa9geOBu"
      },
      "source": [
        "def get_classification_metrics(actual, pred):\r\n",
        "  print(confusion_matrix(actual, pred))\r\n",
        "  print('Accuracy: {}, Precision: {}, Recall: {}, F1 Score: {}'.format(\r\n",
        "      accuracy_score(actual, pred),\r\n",
        "      precision_score(actual, pred),\r\n",
        "      recall_score(actual, pred),\r\n",
        "      f1_score(actual, pred)))"
      ],
      "execution_count": null,
      "outputs": []
    },
    {
      "cell_type": "code",
      "metadata": {
        "id": "Fxp_cPNgbc7T"
      },
      "source": [
        "# Upsample minority\r\n",
        "train_df_upsampled = upsample_minority(train_df)\r\n",
        "# test_df_upsampled = upsample_minority(test_df)\r\n",
        "\r\n",
        "# Vectorize words\r\n",
        "X_train_upsampled, X_test_upsampled, vec = convert_text_to_vectors(train_df_upsampled, test_df_upsampled, max_words = 2000, use_tfidf = False)\r\n",
        "\r\n",
        "y_train = train_df_upsampled['top25pct']\r\n",
        "y_test = test_df_upsampled['top25pct']"
      ],
      "execution_count": null,
      "outputs": []
    },
    {
      "cell_type": "code",
      "metadata": {
        "colab": {
          "base_uri": "https://localhost:8080/"
        },
        "id": "dgtmgKRLx8Uz",
        "outputId": "d0397df4-5db9-49f7-92b7-653cb5b9d41a"
      },
      "source": [
        "# Hyperparameter tuning\r\n",
        "param_grid_logistic = {'C': [0.001, 0.01, 0.1, 1, 10]}\r\n",
        "\r\n",
        "model_list = [LogisticRegression(max_iter = 1000)]\r\n",
        "param_grid_list = [param_grid_logistic]\r\n",
        "\r\n",
        "hyp_tuning(model_list, param_grid_list, X_train_upsampled, y_train, X_test_upsampled, y_test)"
      ],
      "execution_count": null,
      "outputs": [
        {
          "output_type": "stream",
          "text": [
            "LogisticRegression(C=1.0, class_weight=None, dual=False, fit_intercept=True,\n",
            "                   intercept_scaling=1, l1_ratio=None, max_iter=1000,\n",
            "                   multi_class='auto', n_jobs=None, penalty='l2',\n",
            "                   random_state=None, solver='lbfgs', tol=0.0001, verbose=0,\n",
            "                   warm_start=False)\n",
            "Best Parameters: {'C': 0.001}\n",
            "Best Cross Validation Score: 0.636700719944533\n",
            "Test Set Score: 0.6599358974358974\n"
          ],
          "name": "stdout"
        }
      ]
    },
    {
      "cell_type": "code",
      "metadata": {
        "colab": {
          "base_uri": "https://localhost:8080/"
        },
        "id": "mepiFDxHdWnR",
        "outputId": "9080f430-7edc-46dd-84bd-57fdb50e89ef"
      },
      "source": [
        "clf = LogisticRegression(C=0.001, random_state=0, max_iter=1000)\r\n",
        "clf.fit(X_train_upsampled, y_train)\r\n",
        "\r\n",
        "y_train_pred = clf.predict(X_train_upsampled)\r\n",
        "# Confusion Matrix\r\n",
        "print('Training')\r\n",
        "get_classification_metrics(y_train, y_train_pred)\r\n",
        "\r\n",
        "# Fit on test data\r\n",
        "y_test_pred = clf.predict(X_test_upsampled)\r\n",
        "print('Test')\r\n",
        "get_classification_metrics(y_test, y_test_pred)"
      ],
      "execution_count": null,
      "outputs": [
        {
          "output_type": "stream",
          "text": [
            "Training\n",
            "[[ 5994  6548]\n",
            " [ 1935 10607]]\n",
            "Accuracy: 0.6618162972412693, Precision: 0.6183037015447391, Recall: 0.8457183862222931, F1 Score: 0.7143482506650504\n",
            "Test\n",
            "[[1510 1610]\n",
            " [ 512 2608]]\n",
            "Accuracy: 0.6599358974358974, Precision: 0.6183025130393551, Recall: 0.8358974358974359, F1 Score: 0.7108203870264378\n"
          ],
          "name": "stdout"
        }
      ]
    },
    {
      "cell_type": "code",
      "metadata": {
        "id": "BexgLybi5jMO"
      },
      "source": [
        "test_df_upsampled['logistic_predictions_tags'] = y_test_pred"
      ],
      "execution_count": null,
      "outputs": []
    },
    {
      "cell_type": "markdown",
      "metadata": {
        "id": "5BqxBbUpTOhr"
      },
      "source": [
        "## Random Forest"
      ]
    },
    {
      "cell_type": "code",
      "metadata": {
        "id": "F5hPOevHsxFQ",
        "colab": {
          "base_uri": "https://localhost:8080/"
        },
        "outputId": "83c8edf9-b604-4e2c-fd97-c7da845d37d7"
      },
      "source": [
        "from sklearn.ensemble import RandomForestClassifier\n",
        "\n",
        "# Get window, Upsample minority, Convert text to vectors already done\n",
        "clf = RandomForestClassifier(n_estimators = 100, max_depth = 20, max_features = 45, random_state=20)\n",
        "clf.fit(X_train_upsampled, y_train)"
      ],
      "execution_count": null,
      "outputs": [
        {
          "output_type": "execute_result",
          "data": {
            "text/plain": [
              "RandomForestClassifier(bootstrap=True, ccp_alpha=0.0, class_weight=None,\n",
              "                       criterion='gini', max_depth=20, max_features=45,\n",
              "                       max_leaf_nodes=None, max_samples=None,\n",
              "                       min_impurity_decrease=0.0, min_impurity_split=None,\n",
              "                       min_samples_leaf=1, min_samples_split=2,\n",
              "                       min_weight_fraction_leaf=0.0, n_estimators=100,\n",
              "                       n_jobs=None, oob_score=False, random_state=20, verbose=0,\n",
              "                       warm_start=False)"
            ]
          },
          "metadata": {
            "tags": []
          },
          "execution_count": 19
        }
      ]
    },
    {
      "cell_type": "code",
      "metadata": {
        "colab": {
          "base_uri": "https://localhost:8080/"
        },
        "id": "WyCdCRvBfht_",
        "outputId": "cb996567-d092-4d8c-b7d3-c697c0b3426a"
      },
      "source": [
        "y_train_pred = clf.predict(X_train_upsampled)\r\n",
        "# Confusion Matrix\r\n",
        "print('Training')\r\n",
        "get_classification_metrics(y_train, y_train_pred)\r\n",
        "\r\n",
        "# Fit on test data\r\n",
        "y_test_pred = clf.predict(X_test_upsampled)\r\n",
        "print('Test')\r\n",
        "get_classification_metrics(y_test, y_test_pred)"
      ],
      "execution_count": null,
      "outputs": [
        {
          "output_type": "stream",
          "text": [
            "Training\n",
            "[[ 7003  5539]\n",
            " [ 1582 10960]]\n",
            "Accuracy: 0.7161138574390049, Precision: 0.6642826837990181, Recall: 0.8738638175729548, F1 Score: 0.7547949450776488\n",
            "Test\n",
            "[[1661 1459]\n",
            " [ 570 2550]]\n",
            "Accuracy: 0.6748397435897436, Precision: 0.6360688450985283, Recall: 0.8173076923076923, F1 Score: 0.7153878524337214\n"
          ],
          "name": "stdout"
        }
      ]
    },
    {
      "cell_type": "code",
      "metadata": {
        "id": "zrXvxYqshsq1"
      },
      "source": [
        "from sklearn.model_selection import GridSearchCV"
      ],
      "execution_count": null,
      "outputs": []
    },
    {
      "cell_type": "code",
      "metadata": {
        "id": "vC6LSRPphLJ4"
      },
      "source": [
        "param_grid_rf = [\r\n",
        "    {'max_depth': [40, 45, 50], 'max_features': [50], 'n_estimators': [25]}\r\n",
        "]"
      ],
      "execution_count": null,
      "outputs": []
    },
    {
      "cell_type": "code",
      "metadata": {
        "id": "drC68n0DhLMK"
      },
      "source": [
        "# Function taken from CIS520 HW\r\n",
        "\r\n",
        "def hyp_tuning(model_list, param_grid_list, X_train, y_train, X_test, y_test):\r\n",
        "    for i in range(len(model_list)):\r\n",
        "        print(model_list[i])\r\n",
        "        grid_search = GridSearchCV(model_list[i], param_grid_list[i], cv = 5, scoring = 'accuracy')\r\n",
        "        grid_search.fit(X_train, y_train)\r\n",
        "        print('Best Parameters: {}'.format(grid_search.best_params_))\r\n",
        "        best_cross_val_score = grid_search.best_score_\r\n",
        "        print('Best Cross Validation Score: {}'.format(best_cross_val_score))\r\n",
        "        # Score on the test set\r\n",
        "        test_score = grid_search.score(X_test, y_test)\r\n",
        "        print('Test Set Score: {}'.format(test_score))"
      ],
      "execution_count": null,
      "outputs": []
    },
    {
      "cell_type": "markdown",
      "metadata": {
        "id": "-LAK4EfhhMG3"
      },
      "source": [
        "Seems like the RF is overfitting very badly. Try to regularize by hyperparameter tuning"
      ]
    },
    {
      "cell_type": "code",
      "metadata": {
        "colab": {
          "base_uri": "https://localhost:8080/"
        },
        "id": "-BNT9IDchVyg",
        "outputId": "4e5bb103-19df-4f32-d8f4-4cb3a5724ec6"
      },
      "source": [
        "model_list = [RandomForestClassifier()]\r\n",
        "param_grid_list = [param_grid_rf]\r\n",
        "\r\n",
        "hyp_tuning(model_list, param_grid_list, X_train_upsampled, y_train, X_test_upsampled, y_test)"
      ],
      "execution_count": null,
      "outputs": [
        {
          "output_type": "stream",
          "text": [
            "RandomForestClassifier(bootstrap=True, ccp_alpha=0.0, class_weight=None,\n",
            "                       criterion='gini', max_depth=None, max_features='auto',\n",
            "                       max_leaf_nodes=None, max_samples=None,\n",
            "                       min_impurity_decrease=0.0, min_impurity_split=None,\n",
            "                       min_samples_leaf=1, min_samples_split=2,\n",
            "                       min_weight_fraction_leaf=0.0, n_estimators=100,\n",
            "                       n_jobs=None, oob_score=False, random_state=None,\n",
            "                       verbose=0, warm_start=False)\n",
            "Best Parameters: {'max_depth': 40, 'max_features': 50, 'n_estimators': 25}\n",
            "Best Cross Validation Score: 0.6449131008796567\n",
            "Test Set Score: 0.6708333333333333\n"
          ],
          "name": "stdout"
        }
      ]
    },
    {
      "cell_type": "code",
      "metadata": {
        "colab": {
          "base_uri": "https://localhost:8080/"
        },
        "id": "LHp7-TEQ9k0W",
        "outputId": "319690e9-8e03-4d6b-9146-34a37868f1cc"
      },
      "source": [
        "clf = RandomForestClassifier(max_depth=40, max_features=50, n_estimators=25)\n",
        "clf.fit(X_train_upsampled, y_train)\n",
        "\n",
        "y_train_pred = clf.predict(X_train_upsampled)\n",
        "# Confusion Matrix\n",
        "print('Training')\n",
        "get_classification_metrics(y_train, y_train_pred)\n",
        "\n",
        "# Fit on test data\n",
        "y_test_pred = clf.predict(X_test_upsampled)\n",
        "print('Test')\n",
        "get_classification_metrics(y_test, y_test_pred)"
      ],
      "execution_count": null,
      "outputs": [
        {
          "output_type": "stream",
          "text": [
            "Training\n",
            "[[ 8499  4043]\n",
            " [ 1169 11373]]\n",
            "Accuracy: 0.7922181470259927, Precision: 0.7377400103788272, Recall: 0.9067931749322277, F1 Score: 0.8135775091208239\n",
            "Test\n",
            "[[1898 1222]\n",
            " [ 775 2345]]\n",
            "Accuracy: 0.6799679487179487, Precision: 0.6574151948416036, Recall: 0.7516025641025641, F1 Score: 0.7013608494093017\n"
          ],
          "name": "stdout"
        }
      ]
    },
    {
      "cell_type": "code",
      "metadata": {
        "id": "hLpYeO-S5xz6"
      },
      "source": [
        "test_df_upsampled['rf_predictions_tags'] = y_test_pred"
      ],
      "execution_count": null,
      "outputs": []
    },
    {
      "cell_type": "markdown",
      "metadata": {
        "id": "TH-yZUi_TQF3"
      },
      "source": [
        "## Ada Boost"
      ]
    },
    {
      "cell_type": "code",
      "metadata": {
        "id": "4ZR8gUOJM4wM",
        "colab": {
          "base_uri": "https://localhost:8080/"
        },
        "outputId": "ae52de37-10c2-4064-8007-d4d2d10db698"
      },
      "source": [
        "from sklearn.tree import DecisionTreeClassifier\n",
        "from sklearn.ensemble import AdaBoostClassifier\n",
        "\n",
        "learning_rate = 0.1\n",
        "max_depth = 1\n",
        "random_state = 20\n",
        "\n",
        "base_estimator = DecisionTreeClassifier(max_depth=max_depth)\n",
        "clf = AdaBoostClassifier(base_estimator=base_estimator, n_estimators=5, learning_rate=learning_rate, random_state=random_state)\n",
        "clf.fit(X_train_upsampled, y_train)"
      ],
      "execution_count": null,
      "outputs": [
        {
          "output_type": "execute_result",
          "data": {
            "text/plain": [
              "AdaBoostClassifier(algorithm='SAMME.R',\n",
              "                   base_estimator=DecisionTreeClassifier(ccp_alpha=0.0,\n",
              "                                                         class_weight=None,\n",
              "                                                         criterion='gini',\n",
              "                                                         max_depth=1,\n",
              "                                                         max_features=None,\n",
              "                                                         max_leaf_nodes=None,\n",
              "                                                         min_impurity_decrease=0.0,\n",
              "                                                         min_impurity_split=None,\n",
              "                                                         min_samples_leaf=1,\n",
              "                                                         min_samples_split=2,\n",
              "                                                         min_weight_fraction_leaf=0.0,\n",
              "                                                         presort='deprecated',\n",
              "                                                         random_state=None,\n",
              "                                                         splitter='best'),\n",
              "                   learning_rate=0.1, n_estimators=5, random_state=20)"
            ]
          },
          "metadata": {
            "tags": []
          },
          "execution_count": 22
        }
      ]
    },
    {
      "cell_type": "code",
      "metadata": {
        "id": "kqdYENQBD5gn",
        "colab": {
          "base_uri": "https://localhost:8080/"
        },
        "outputId": "90b5b8ca-25db-4eb2-9ebc-9be1fc81459d"
      },
      "source": [
        "y_train_pred = clf.predict(X_train_upsampled)\n",
        "# Confusion Matrix\n",
        "print('Training')\n",
        "get_classification_metrics(y_train, y_train_pred)\n",
        "\n",
        "# Fit on test data\n",
        "y_test_pred = clf.predict(X_test_upsampled)\n",
        "print('Test')\n",
        "get_classification_metrics(y_test, y_test_pred)"
      ],
      "execution_count": null,
      "outputs": [
        {
          "output_type": "stream",
          "text": [
            "Training\n",
            "[[ 4745  7797]\n",
            " [ 1389 11153]]\n",
            "Accuracy: 0.6337904640408228, Precision: 0.5885488126649077, Recall: 0.8892521129006538, F1 Score: 0.7083068715864348\n",
            "Test\n",
            "[[1174 1946]\n",
            " [ 372 2748]]\n",
            "Accuracy: 0.628525641025641, Precision: 0.5854282062207072, Recall: 0.8807692307692307, F1 Score: 0.7033529562324033\n"
          ],
          "name": "stdout"
        }
      ]
    },
    {
      "cell_type": "code",
      "metadata": {
        "id": "ctHeB57p554t"
      },
      "source": [
        "test_df_upsampled['ada_predictions_tags'] = y_test_pred"
      ],
      "execution_count": null,
      "outputs": []
    },
    {
      "cell_type": "markdown",
      "metadata": {
        "id": "aOlpRTApTUyD"
      },
      "source": [
        "## SVM"
      ]
    },
    {
      "cell_type": "code",
      "metadata": {
        "id": "fzoi6pmM0N3i",
        "colab": {
          "base_uri": "https://localhost:8080/"
        },
        "outputId": "d10b33b9-3dbe-417a-b443-692ec704e799"
      },
      "source": [
        "from sklearn.svm import SVC\n",
        "\n",
        "list_kernel_type = ['linear', 'poly', 'rbf']\n",
        "random_state = 20\n",
        "\n",
        "models = []\n",
        "\n",
        "for kernel_type in list_kernel_type:\n",
        "  clf = SVC(kernel=kernel_type, random_state=random_state)\n",
        "  clf.fit(X_train_upsampled, y_train)\n",
        "  models.append(clf)\n",
        "\n",
        "  print(f'----{kernel_type}----\\n')\n",
        "  y_train_pred = clf.predict(X_train_upsampled)\n",
        "  # Confusion Matrix\n",
        "  print('Training')\n",
        "  get_classification_metrics(y_train, y_train_pred)\n",
        "\n",
        "  # Fit on test data\n",
        "  y_test_pred = clf.predict(X_test_upsampled)\n",
        "  print('Test')\n",
        "  get_classification_metrics(y_test, y_test_pred)\n",
        "  print('\\n')"
      ],
      "execution_count": null,
      "outputs": [
        {
          "output_type": "stream",
          "text": [
            "----linear----\n",
            "\n",
            "Training\n",
            "[[ 8508  4034]\n",
            " [ 2416 10126]]\n",
            "Accuracy: 0.7428639770371551, Precision: 0.7151129943502825, Recall: 0.807367246053261, F1 Score: 0.758445060295109\n",
            "Test\n",
            "[[2034 1086]\n",
            " [ 914 2206]]\n",
            "Accuracy: 0.6794871794871795, Precision: 0.6701093560145808, Recall: 0.7070512820512821, F1 Score: 0.6880848409232689\n",
            "\n",
            "\n"
          ],
          "name": "stdout"
        }
      ]
    },
    {
      "cell_type": "code",
      "metadata": {
        "id": "EYhpkr7C_d6J"
      },
      "source": [
        "from sklearn.svm import SVC\n",
        "\n",
        "random_state = 20\n",
        "clf = SVC(kernel='linear', random_state=random_state)\n",
        "clf.fit(X_train_upsampled, y_train)\n",
        "y_test_pred = clf.predict(X_test_upsampled)"
      ],
      "execution_count": null,
      "outputs": []
    },
    {
      "cell_type": "code",
      "metadata": {
        "id": "CaSOztNqYzVY"
      },
      "source": [
        "test_df_upsampled['svm_linear_tags'] = y_test_pred"
      ],
      "execution_count": null,
      "outputs": []
    },
    {
      "cell_type": "code",
      "metadata": {
        "colab": {
          "base_uri": "https://localhost:8080/"
        },
        "id": "vKCZAA0NiuKf",
        "outputId": "54349f35-2c06-497d-fda3-5f1cc8297065"
      },
      "source": [
        "get_classification_metrics(y_test, y_test_pred)"
      ],
      "execution_count": null,
      "outputs": [
        {
          "output_type": "stream",
          "text": [
            "[[2034 1086]\n",
            " [ 914 2206]]\n",
            "Accuracy: 0.6794871794871795, Precision: 0.6701093560145808, Recall: 0.7070512820512821, F1 Score: 0.6880848409232689\n"
          ],
          "name": "stdout"
        }
      ]
    },
    {
      "cell_type": "code",
      "metadata": {
        "colab": {
          "base_uri": "https://localhost:8080/",
          "height": 584
        },
        "id": "evJbkIR_i2lL",
        "outputId": "ec8dce58-c6ef-4f22-ccba-61c18b2f6116"
      },
      "source": [
        "test_df_upsampled.head()"
      ],
      "execution_count": null,
      "outputs": [
        {
          "output_type": "execute_result",
          "data": {
            "text/html": [
              "<div>\n",
              "<style scoped>\n",
              "    .dataframe tbody tr th:only-of-type {\n",
              "        vertical-align: middle;\n",
              "    }\n",
              "\n",
              "    .dataframe tbody tr th {\n",
              "        vertical-align: top;\n",
              "    }\n",
              "\n",
              "    .dataframe thead th {\n",
              "        text-align: right;\n",
              "    }\n",
              "</style>\n",
              "<table border=\"1\" class=\"dataframe\">\n",
              "  <thead>\n",
              "    <tr style=\"text-align: right;\">\n",
              "      <th></th>\n",
              "      <th>id</th>\n",
              "      <th>title</th>\n",
              "      <th>title_url</th>\n",
              "      <th>content</th>\n",
              "      <th>published_date</th>\n",
              "      <th>article</th>\n",
              "      <th>pageviews</th>\n",
              "      <th>avgTimeOnPage</th>\n",
              "      <th>days</th>\n",
              "      <th>processed_content</th>\n",
              "      <th>year_month</th>\n",
              "      <th>percentile</th>\n",
              "      <th>prob_LDAtopic_1</th>\n",
              "      <th>prob_LDAtopic_2</th>\n",
              "      <th>prob_LDAtopic_3</th>\n",
              "      <th>prob_LDAtopic_4</th>\n",
              "      <th>prob_LDAtopic_5</th>\n",
              "      <th>prob_LDAtopic_6</th>\n",
              "      <th>prob_LDAtopic_7</th>\n",
              "      <th>authors</th>\n",
              "      <th>tags</th>\n",
              "      <th>author_positions</th>\n",
              "      <th>quintile</th>\n",
              "      <th>top25pct</th>\n",
              "      <th>ridge_predictions_tags</th>\n",
              "      <th>logistic_predictions_tags</th>\n",
              "      <th>rf_predictions_tags</th>\n",
              "      <th>ada_predictions_tags</th>\n",
              "      <th>svm_linear_tags</th>\n",
              "    </tr>\n",
              "  </thead>\n",
              "  <tbody>\n",
              "    <tr>\n",
              "      <th>0</th>\n",
              "      <td>190708</td>\n",
              "      <td>Students condemn anti-semitic posts by Philade...</td>\n",
              "      <td>desean-jackson-philadelphia-eagles-anti-semiti...</td>\n",
              "      <td>Earlier this month, DeSean Jackson of the Phil...</td>\n",
              "      <td>2020-07-29 06:41:32</td>\n",
              "      <td>/article/2020/07/desean-jackson-philadelphia-e...</td>\n",
              "      <td>633.0</td>\n",
              "      <td>146.007246</td>\n",
              "      <td>7</td>\n",
              "      <td>earlier month desean jackson philadelphia eagl...</td>\n",
              "      <td>2020-07</td>\n",
              "      <td>0.401899</td>\n",
              "      <td>0.065902</td>\n",
              "      <td>0.000780</td>\n",
              "      <td>0.000780</td>\n",
              "      <td>0.047355</td>\n",
              "      <td>0.883625</td>\n",
              "      <td>0.000779</td>\n",
              "      <td>0.000780</td>\n",
              "      <td>Tori Sousa</td>\n",
              "      <td>news, front, gender-diversity, beats</td>\n",
              "      <td>GA, DP GA, News Beat</td>\n",
              "      <td>3</td>\n",
              "      <td>0</td>\n",
              "      <td>0.554656</td>\n",
              "      <td>1</td>\n",
              "      <td>1</td>\n",
              "      <td>1</td>\n",
              "      <td>1</td>\n",
              "    </tr>\n",
              "    <tr>\n",
              "      <th>1</th>\n",
              "      <td>190727</td>\n",
              "      <td>Students opting to stay home this fall cite he...</td>\n",
              "      <td>penn-return-to-campus-hybrid-classes-from-home</td>\n",
              "      <td>Although Penn has invited all students back to...</td>\n",
              "      <td>2020-07-29 04:37:38</td>\n",
              "      <td>/article/2020/07/penn-return-to-campus-hybrid-...</td>\n",
              "      <td>861.0</td>\n",
              "      <td>178.692308</td>\n",
              "      <td>7</td>\n",
              "      <td>although penn invited student back campus fall...</td>\n",
              "      <td>2020-07</td>\n",
              "      <td>0.556962</td>\n",
              "      <td>0.000814</td>\n",
              "      <td>0.000815</td>\n",
              "      <td>0.146737</td>\n",
              "      <td>0.451331</td>\n",
              "      <td>0.000814</td>\n",
              "      <td>0.275696</td>\n",
              "      <td>0.123793</td>\n",
              "      <td>Isaac Lee</td>\n",
              "      <td>academics, news, front, general-assignment</td>\n",
              "      <td>GA, DP GA, News GA</td>\n",
              "      <td>3</td>\n",
              "      <td>0</td>\n",
              "      <td>0.524557</td>\n",
              "      <td>1</td>\n",
              "      <td>0</td>\n",
              "      <td>1</td>\n",
              "      <td>0</td>\n",
              "    </tr>\n",
              "    <tr>\n",
              "      <th>2</th>\n",
              "      <td>190777</td>\n",
              "      <td>Penn Med study finds low risk of strokes in ho...</td>\n",
              "      <td>penn-medicine-coronavirus-stroke-study</td>\n",
              "      <td>Contrary to findings from previous studies, ne...</td>\n",
              "      <td>2020-07-28 23:03:39</td>\n",
              "      <td>/article/2020/07/penn-medicine-coronavirus-str...</td>\n",
              "      <td>145.0</td>\n",
              "      <td>186.312500</td>\n",
              "      <td>7</td>\n",
              "      <td>contrary finding previous study new penn medic...</td>\n",
              "      <td>2020-07</td>\n",
              "      <td>0.044304</td>\n",
              "      <td>0.000902</td>\n",
              "      <td>0.000903</td>\n",
              "      <td>0.106221</td>\n",
              "      <td>0.000902</td>\n",
              "      <td>0.000908</td>\n",
              "      <td>0.889263</td>\n",
              "      <td>0.000900</td>\n",
              "      <td>Elizabeth Meisenzahl</td>\n",
              "      <td>news, front, penn-medicine, real-time, news-co...</td>\n",
              "      <td>GA, DP GA, News Beat</td>\n",
              "      <td>1</td>\n",
              "      <td>0</td>\n",
              "      <td>0.435747</td>\n",
              "      <td>1</td>\n",
              "      <td>0</td>\n",
              "      <td>1</td>\n",
              "      <td>0</td>\n",
              "    </tr>\n",
              "    <tr>\n",
              "      <th>3</th>\n",
              "      <td>190796</td>\n",
              "      <td>An Unremembered Icon: The Story of 1896 Penn g...</td>\n",
              "      <td>george-orton-penn-philadelphia-canada-1900-oly...</td>\n",
              "      <td>Clasping the rectangular bronze medal with his...</td>\n",
              "      <td>2020-07-28 04:02:53</td>\n",
              "      <td>/article/2020/07/george-orton-penn-philadelphi...</td>\n",
              "      <td>1388.0</td>\n",
              "      <td>210.709302</td>\n",
              "      <td>7</td>\n",
              "      <td>clasping rectangular bronze medal left hand — ...</td>\n",
              "      <td>2020-07</td>\n",
              "      <td>0.658228</td>\n",
              "      <td>0.073529</td>\n",
              "      <td>0.329699</td>\n",
              "      <td>0.026752</td>\n",
              "      <td>0.000453</td>\n",
              "      <td>0.065123</td>\n",
              "      <td>0.035681</td>\n",
              "      <td>0.468764</td>\n",
              "      <td>Brandon Pride</td>\n",
              "      <td>sports, front, featured, sports-feature, track</td>\n",
              "      <td>Sports, DP Sports</td>\n",
              "      <td>4</td>\n",
              "      <td>0</td>\n",
              "      <td>0.546499</td>\n",
              "      <td>0</td>\n",
              "      <td>0</td>\n",
              "      <td>0</td>\n",
              "      <td>0</td>\n",
              "    </tr>\n",
              "    <tr>\n",
              "      <th>4</th>\n",
              "      <td>190724</td>\n",
              "      <td>New Student Orientation and Convocation will b...</td>\n",
              "      <td>penn-convocation-new-student-orientation-online</td>\n",
              "      <td>New Student Orientation and Convocation, stapl...</td>\n",
              "      <td>2020-07-23 02:29:03</td>\n",
              "      <td>/article/2020/07/penn-convocation-new-student-...</td>\n",
              "      <td>914.0</td>\n",
              "      <td>140.356757</td>\n",
              "      <td>7</td>\n",
              "      <td>new student orientation convocation staple fir...</td>\n",
              "      <td>2020-07</td>\n",
              "      <td>0.569620</td>\n",
              "      <td>0.000818</td>\n",
              "      <td>0.000818</td>\n",
              "      <td>0.000819</td>\n",
              "      <td>0.415121</td>\n",
              "      <td>0.000820</td>\n",
              "      <td>0.307416</td>\n",
              "      <td>0.274188</td>\n",
              "      <td>Celia Kreth</td>\n",
              "      <td>studentlife, top, news, beats, latest-covid, c...</td>\n",
              "      <td>GA, DP GA, News GA</td>\n",
              "      <td>3</td>\n",
              "      <td>0</td>\n",
              "      <td>0.590976</td>\n",
              "      <td>1</td>\n",
              "      <td>0</td>\n",
              "      <td>1</td>\n",
              "      <td>1</td>\n",
              "    </tr>\n",
              "  </tbody>\n",
              "</table>\n",
              "</div>"
            ],
            "text/plain": [
              "       id  ... svm_linear_tags\n",
              "0  190708  ...               1\n",
              "1  190727  ...               0\n",
              "2  190777  ...               0\n",
              "3  190796  ...               0\n",
              "4  190724  ...               1\n",
              "\n",
              "[5 rows x 29 columns]"
            ]
          },
          "metadata": {
            "tags": []
          },
          "execution_count": 28
        }
      ]
    },
    {
      "cell_type": "code",
      "metadata": {
        "id": "KA7fIzwzkCTB"
      },
      "source": [
        "test_df_upsampled.to_csv('test_df_upsampled_tags_predictions.csv', index=False)"
      ],
      "execution_count": null,
      "outputs": []
    },
    {
      "cell_type": "code",
      "metadata": {
        "id": "Z7kijZ7nwIJI"
      },
      "source": [
        ""
      ],
      "execution_count": null,
      "outputs": []
    }
  ]
}