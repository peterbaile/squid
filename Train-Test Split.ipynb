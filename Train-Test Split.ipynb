{
 "cells": [
  {
   "cell_type": "markdown",
   "metadata": {},
   "source": [
    "# Train-Test Split"
   ]
  },
  {
   "cell_type": "code",
   "execution_count": 11,
   "metadata": {
    "ExecuteTime": {
     "end_time": "2020-12-01T12:36:24.971314Z",
     "start_time": "2020-12-01T12:36:20.510035Z"
    }
   },
   "outputs": [],
   "source": [
    "import pandas as pd\n",
    "import numpy as np\n",
    "from datetime import datetime\n",
    "from sklearn.model_selection import train_test_split"
   ]
  },
  {
   "cell_type": "code",
   "execution_count": 42,
   "metadata": {
    "ExecuteTime": {
     "end_time": "2020-12-01T12:49:15.882746Z",
     "start_time": "2020-12-01T12:49:15.151360Z"
    }
   },
   "outputs": [],
   "source": [
    "data = pd.read_csv('content_views_merged.csv')"
   ]
  },
  {
   "cell_type": "code",
   "execution_count": 39,
   "metadata": {
    "ExecuteTime": {
     "end_time": "2020-12-01T12:48:42.293888Z",
     "start_time": "2020-12-01T12:48:36.439185Z"
    }
   },
   "outputs": [],
   "source": [
    "formatted = pd.read_csv('formatted_content.csv')\n",
    "formatted = formatted[['id', 'processed_content']]"
   ]
  },
  {
   "cell_type": "markdown",
   "metadata": {},
   "source": [
    "This drops ~400 articles with no content (e.g. opinion art)"
   ]
  },
  {
   "cell_type": "code",
   "execution_count": 47,
   "metadata": {
    "ExecuteTime": {
     "end_time": "2020-12-01T12:50:39.842065Z",
     "start_time": "2020-12-01T12:50:39.818095Z"
    }
   },
   "outputs": [],
   "source": [
    "data = data.merge(formatted, on = 'id', how = 'left')\n",
    "data = data.dropna()"
   ]
  },
  {
   "cell_type": "code",
   "execution_count": 55,
   "metadata": {
    "ExecuteTime": {
     "end_time": "2020-12-01T12:52:41.898897Z",
     "start_time": "2020-12-01T12:52:41.345348Z"
    }
   },
   "outputs": [
    {
     "name": "stderr",
     "output_type": "stream",
     "text": [
      "C:\\Users\\isaac\\Anaconda3\\lib\\site-packages\\ipykernel_launcher.py:2: SettingWithCopyWarning: \n",
      "A value is trying to be set on a copy of a slice from a DataFrame.\n",
      "Try using .loc[row_indexer,col_indexer] = value instead\n",
      "\n",
      "See the caveats in the documentation: https://pandas.pydata.org/pandas-docs/stable/user_guide/indexing.html#returning-a-view-versus-a-copy\n",
      "  \n"
     ]
    }
   ],
   "source": [
    "# convert datetime\n",
    "data['published_date'] = data['published_date'].apply(lambda x: datetime.strptime(x, '%Y-%m-%d %H:%M:%S'))\n",
    "data = data.sort_values('published_date', ascending = True)\n",
    "# Get year-month variable (to do the stratified train-test split)\n",
    "data['year_month'] = data['published_date'].apply(lambda x: datetime.strftime(x, '%Y-%m'))\n",
    "# Remove the 2012-01 article\n",
    "data = data.loc[data['year_month'] != '2012-01', :]"
   ]
  },
  {
   "cell_type": "code",
   "execution_count": 56,
   "metadata": {
    "ExecuteTime": {
     "end_time": "2020-12-01T12:52:45.131421Z",
     "start_time": "2020-12-01T12:52:45.101502Z"
    }
   },
   "outputs": [
    {
     "data": {
      "text/plain": [
       "year_month\n",
       "2013-03    460\n",
       "2013-09    428\n",
       "2016-11    420\n",
       "2014-03    397\n",
       "2017-02    396\n",
       "          ... \n",
       "2018-06     40\n",
       "2019-06     39\n",
       "2012-08     37\n",
       "2018-07     27\n",
       "2012-06     10\n",
       "Name: year_month, Length: 98, dtype: int64"
      ]
     },
     "execution_count": 56,
     "metadata": {},
     "output_type": "execute_result"
    }
   ],
   "source": [
    "data.groupby('year_month')['year_month'].count().sort_values(ascending = False)"
   ]
  },
  {
   "cell_type": "code",
   "execution_count": 57,
   "metadata": {
    "ExecuteTime": {
     "end_time": "2020-12-01T12:52:47.866179Z",
     "start_time": "2020-12-01T12:52:47.807184Z"
    }
   },
   "outputs": [],
   "source": [
    "# Split into train and test\n",
    "train, test = train_test_split(data, test_size = 0.2, stratify = data['year_month'], random_state = 42)"
   ]
  },
  {
   "cell_type": "markdown",
   "metadata": {},
   "source": [
    "- Train: 16772\n",
    "- Test: 4194"
   ]
  },
  {
   "cell_type": "code",
   "execution_count": 60,
   "metadata": {
    "ExecuteTime": {
     "end_time": "2020-12-01T12:53:00.837465Z",
     "start_time": "2020-12-01T12:53:00.819507Z"
    }
   },
   "outputs": [],
   "source": [
    "# Train and Test Split\n",
    "train = train.sort_values('published_date', ascending = False)\n",
    "test = test.sort_values('published_date', ascending = False)"
   ]
  },
  {
   "cell_type": "code",
   "execution_count": 62,
   "metadata": {
    "ExecuteTime": {
     "end_time": "2020-12-01T12:53:20.671902Z",
     "start_time": "2020-12-01T12:53:18.048785Z"
    }
   },
   "outputs": [],
   "source": [
    "train.to_csv('train.csv', index = None)\n",
    "test.to_csv('test.csv', index = None)"
   ]
  }
 ],
 "metadata": {
  "hide_input": false,
  "kernelspec": {
   "display_name": "Python 3",
   "language": "python",
   "name": "python3"
  },
  "language_info": {
   "codemirror_mode": {
    "name": "ipython",
    "version": 3
   },
   "file_extension": ".py",
   "mimetype": "text/x-python",
   "name": "python",
   "nbconvert_exporter": "python",
   "pygments_lexer": "ipython3",
   "version": "3.7.5"
  },
  "toc": {
   "base_numbering": 1,
   "nav_menu": {},
   "number_sections": true,
   "sideBar": true,
   "skip_h1_title": false,
   "title_cell": "Table of Contents",
   "title_sidebar": "Contents",
   "toc_cell": false,
   "toc_position": {},
   "toc_section_display": true,
   "toc_window_display": false
  },
  "varInspector": {
   "cols": {
    "lenName": 16,
    "lenType": 16,
    "lenVar": 40
   },
   "kernels_config": {
    "python": {
     "delete_cmd_postfix": "",
     "delete_cmd_prefix": "del ",
     "library": "var_list.py",
     "varRefreshCmd": "print(var_dic_list())"
    },
    "r": {
     "delete_cmd_postfix": ") ",
     "delete_cmd_prefix": "rm(",
     "library": "var_list.r",
     "varRefreshCmd": "cat(var_dic_list()) "
    }
   },
   "types_to_exclude": [
    "module",
    "function",
    "builtin_function_or_method",
    "instance",
    "_Feature"
   ],
   "window_display": false
  }
 },
 "nbformat": 4,
 "nbformat_minor": 4
}
