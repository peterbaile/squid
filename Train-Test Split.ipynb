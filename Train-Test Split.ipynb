{
 "cells": [
  {
   "cell_type": "markdown",
   "metadata": {},
   "source": [
    "# Train-Test Split"
   ]
  },
  {
   "cell_type": "code",
   "execution_count": 1,
   "metadata": {
    "ExecuteTime": {
     "end_time": "2020-12-09T10:45:16.572034Z",
     "start_time": "2020-12-09T10:45:11.042306Z"
    }
   },
   "outputs": [],
   "source": [
    "import pandas as pd\n",
    "import numpy as np\n",
    "from datetime import datetime\n",
    "from sklearn.model_selection import train_test_split"
   ]
  },
  {
   "cell_type": "code",
   "execution_count": 2,
   "metadata": {
    "ExecuteTime": {
     "end_time": "2020-12-09T10:45:17.395823Z",
     "start_time": "2020-12-09T10:45:16.573994Z"
    }
   },
   "outputs": [],
   "source": [
    "data = pd.read_csv('content_views_merged.csv')"
   ]
  },
  {
   "cell_type": "code",
   "execution_count": 3,
   "metadata": {
    "ExecuteTime": {
     "end_time": "2020-12-09T10:45:21.547727Z",
     "start_time": "2020-12-09T10:45:17.397791Z"
    }
   },
   "outputs": [],
   "source": [
    "formatted = pd.read_csv('formatted_content.csv')\n",
    "formatted = formatted[['id', 'processed_content']]"
   ]
  },
  {
   "cell_type": "markdown",
   "metadata": {},
   "source": [
    "This drops ~400 articles with no content (e.g. opinion art)"
   ]
  },
  {
   "cell_type": "code",
   "execution_count": 4,
   "metadata": {
    "ExecuteTime": {
     "end_time": "2020-12-09T10:45:21.970667Z",
     "start_time": "2020-12-09T10:45:21.586406Z"
    }
   },
   "outputs": [],
   "source": [
    "data = data.merge(formatted, on = 'id', how = 'left')\n",
    "data = data.dropna()"
   ]
  },
  {
   "cell_type": "code",
   "execution_count": 5,
   "metadata": {
    "ExecuteTime": {
     "end_time": "2020-12-09T10:45:23.683801Z",
     "start_time": "2020-12-09T10:45:21.972661Z"
    }
   },
   "outputs": [],
   "source": [
    "# convert datetime\n",
    "data['published_date'] = data['published_date'].apply(lambda x: datetime.strptime(x, '%Y-%m-%d %H:%M:%S'))\n",
    "data = data.sort_values('published_date', ascending = True)\n",
    "# Get year-month variable (to do the stratified train-test split)\n",
    "data['year_month'] = data['published_date'].apply(lambda x: datetime.strftime(x, '%Y-%m'))\n",
    "# Remove the 2012-01 article\n",
    "data = data.loc[data['year_month'] != '2012-01', :]"
   ]
  },
  {
   "cell_type": "code",
   "execution_count": 6,
   "metadata": {
    "ExecuteTime": {
     "end_time": "2020-12-09T10:45:23.730970Z",
     "start_time": "2020-12-09T10:45:23.685795Z"
    }
   },
   "outputs": [
    {
     "data": {
      "text/plain": [
       "year_month\n",
       "2013-03    460\n",
       "2013-09    428\n",
       "2016-11    420\n",
       "2014-03    397\n",
       "2017-02    396\n",
       "          ... \n",
       "2018-06     40\n",
       "2019-06     39\n",
       "2012-08     37\n",
       "2018-07     27\n",
       "2012-06     10\n",
       "Name: year_month, Length: 98, dtype: int64"
      ]
     },
     "execution_count": 6,
     "metadata": {},
     "output_type": "execute_result"
    }
   ],
   "source": [
    "data.groupby('year_month')['year_month'].count().sort_values(ascending = False)"
   ]
  },
  {
   "cell_type": "markdown",
   "metadata": {},
   "source": [
    "## Add the Percentile Feature\n",
    "\n",
    "Percentile of the article's views compared to other articles in the same **month**. Thus, with this derived variable, we can do whatever classification threshold we want later (top 10% or 25% etc.)"
   ]
  },
  {
   "cell_type": "code",
   "execution_count": 7,
   "metadata": {
    "ExecuteTime": {
     "end_time": "2020-12-09T10:45:23.794901Z",
     "start_time": "2020-12-09T10:45:23.732931Z"
    }
   },
   "outputs": [],
   "source": [
    "data['percentile'] = data.groupby('year_month')['pageviews'].transform(lambda x: x.rank(pct = True))"
   ]
  },
  {
   "cell_type": "code",
   "execution_count": 8,
   "metadata": {
    "ExecuteTime": {
     "end_time": "2020-12-09T10:45:23.856914Z",
     "start_time": "2020-12-09T10:45:23.799437Z"
    }
   },
   "outputs": [],
   "source": [
    "# Split into train and test\n",
    "train, test = train_test_split(data, test_size = 0.2, stratify = data['year_month'], random_state = 42)"
   ]
  },
  {
   "cell_type": "markdown",
   "metadata": {},
   "source": [
    "- Train: 16772\n",
    "- Test: 4194"
   ]
  },
  {
   "cell_type": "code",
   "execution_count": 9,
   "metadata": {
    "ExecuteTime": {
     "end_time": "2020-12-09T10:45:23.888023Z",
     "start_time": "2020-12-09T10:45:23.858476Z"
    }
   },
   "outputs": [],
   "source": [
    "# Train and Test Split\n",
    "train = train.sort_values('published_date', ascending = False)\n",
    "test = test.sort_values('published_date', ascending = False)"
   ]
  },
  {
   "cell_type": "code",
   "execution_count": 17,
   "metadata": {
    "ExecuteTime": {
     "end_time": "2020-12-09T10:46:32.191552Z",
     "start_time": "2020-12-09T10:46:32.171554Z"
    }
   },
   "outputs": [],
   "source": [
    "train['top25pct'] = (train['percentile'] >= 0.75).astype(int)\n",
    "test['top25pct'] = (test['percentile'] >= 0.75).astype(int)"
   ]
  },
  {
   "cell_type": "code",
   "execution_count": 88,
   "metadata": {
    "ExecuteTime": {
     "end_time": "2020-12-02T06:47:54.684093Z",
     "start_time": "2020-12-02T06:47:52.439911Z"
    }
   },
   "outputs": [],
   "source": [
    "train.to_csv('train.csv', index = None)\n",
    "test.to_csv('test.csv', index = None)"
   ]
  }
 ],
 "metadata": {
  "hide_input": false,
  "kernelspec": {
   "display_name": "Python 3",
   "language": "python",
   "name": "python3"
  },
  "language_info": {
   "codemirror_mode": {
    "name": "ipython",
    "version": 3
   },
   "file_extension": ".py",
   "mimetype": "text/x-python",
   "name": "python",
   "nbconvert_exporter": "python",
   "pygments_lexer": "ipython3",
   "version": "3.7.5"
  },
  "toc": {
   "base_numbering": 1,
   "nav_menu": {},
   "number_sections": true,
   "sideBar": true,
   "skip_h1_title": false,
   "title_cell": "Table of Contents",
   "title_sidebar": "Contents",
   "toc_cell": false,
   "toc_position": {},
   "toc_section_display": true,
   "toc_window_display": false
  },
  "varInspector": {
   "cols": {
    "lenName": 16,
    "lenType": 16,
    "lenVar": 40
   },
   "kernels_config": {
    "python": {
     "delete_cmd_postfix": "",
     "delete_cmd_prefix": "del ",
     "library": "var_list.py",
     "varRefreshCmd": "print(var_dic_list())"
    },
    "r": {
     "delete_cmd_postfix": ") ",
     "delete_cmd_prefix": "rm(",
     "library": "var_list.r",
     "varRefreshCmd": "cat(var_dic_list()) "
    }
   },
   "types_to_exclude": [
    "module",
    "function",
    "builtin_function_or_method",
    "instance",
    "_Feature"
   ],
   "window_display": false
  }
 },
 "nbformat": 4,
 "nbformat_minor": 4
}
